{
  "nbformat": 4,
  "nbformat_minor": 0,
  "metadata": {
    "colab": {
      "name": "tensorflow_1.ipynb",
      "version": "0.3.2",
      "provenance": [],
      "collapsed_sections": [],
      "toc_visible": true
    },
    "kernelspec": {
      "name": "python3",
      "display_name": "Python 3"
    },
    "accelerator": "GPU"
  },
  "cells": [
    {
      "cell_type": "markdown",
      "metadata": {
        "id": "MY-SASxWHHxo",
        "colab_type": "text"
      },
      "source": [
        "#**To Integrated Tensorflow Object Detection API**\n",
        "(Cells 1-7)\n",
        "\n",
        "---\n",
        "\n"
      ]
    },
    {
      "cell_type": "code",
      "metadata": {
        "id": "og59d8VnS_Iu",
        "colab_type": "code",
        "colab": {
          "base_uri": "https://localhost:8080/",
          "height": 377
        },
        "outputId": "f678abaa-9ba4-4acd-ff65-9c4731e52368"
      },
      "source": [
        "!apt-get install protobuf-compiler python-pil python-lxml python-tk\n",
        "!pip install Cython\n",
        "!pip install matplotlib"
      ],
      "execution_count": 8,
      "outputs": [
        {
          "output_type": "stream",
          "text": [
            "Reading package lists... Done\n",
            "Building dependency tree       \n",
            "Reading state information... Done\n",
            "python-pil is already the newest version (5.1.0-1).\n",
            "protobuf-compiler is already the newest version (3.0.0-9.1ubuntu1).\n",
            "python-lxml is already the newest version (4.2.1-1ubuntu0.1).\n",
            "python-tk is already the newest version (2.7.16-2~18.04).\n",
            "The following package was automatically installed and is no longer required:\n",
            "  libnvidia-common-410\n",
            "Use 'apt autoremove' to remove it.\n",
            "0 upgraded, 0 newly installed, 0 to remove and 16 not upgraded.\n",
            "Requirement already satisfied: Cython in /usr/local/lib/python3.6/dist-packages (0.29.10)\n",
            "Requirement already satisfied: matplotlib in /usr/local/lib/python3.6/dist-packages (3.0.3)\n",
            "Requirement already satisfied: python-dateutil>=2.1 in /usr/local/lib/python3.6/dist-packages (from matplotlib) (2.5.3)\n",
            "Requirement already satisfied: cycler>=0.10 in /usr/local/lib/python3.6/dist-packages (from matplotlib) (0.10.0)\n",
            "Requirement already satisfied: numpy>=1.10.0 in /usr/local/lib/python3.6/dist-packages (from matplotlib) (1.16.4)\n",
            "Requirement already satisfied: pyparsing!=2.0.4,!=2.1.2,!=2.1.6,>=2.0.1 in /usr/local/lib/python3.6/dist-packages (from matplotlib) (2.4.0)\n",
            "Requirement already satisfied: kiwisolver>=1.0.1 in /usr/local/lib/python3.6/dist-packages (from matplotlib) (1.1.0)\n",
            "Requirement already satisfied: six>=1.5 in /usr/local/lib/python3.6/dist-packages (from python-dateutil>=2.1->matplotlib) (1.12.0)\n",
            "Requirement already satisfied: setuptools in /usr/local/lib/python3.6/dist-packages (from kiwisolver>=1.0.1->matplotlib) (41.0.1)\n"
          ],
          "name": "stdout"
        }
      ]
    },
    {
      "cell_type": "code",
      "metadata": {
        "id": "_upQZPDDTxJR",
        "colab_type": "code",
        "colab": {
          "base_uri": "https://localhost:8080/",
          "height": 153
        },
        "outputId": "0807dd5b-96a0-4de7-d83d-2fafc1140426"
      },
      "source": [
        "!git clone https://github.com/tensorflow/models.git"
      ],
      "execution_count": 9,
      "outputs": [
        {
          "output_type": "stream",
          "text": [
            "Cloning into 'models'...\n",
            "remote: Enumerating objects: 8, done.\u001b[K\n",
            "remote: Counting objects:  12% (1/8)   \u001b[K\rremote: Counting objects:  25% (2/8)   \u001b[K\rremote: Counting objects:  37% (3/8)   \u001b[K\rremote: Counting objects:  50% (4/8)   \u001b[K\rremote: Counting objects:  62% (5/8)   \u001b[K\rremote: Counting objects:  75% (6/8)   \u001b[K\rremote: Counting objects:  87% (7/8)   \u001b[K\rremote: Counting objects: 100% (8/8)   \u001b[K\rremote: Counting objects: 100% (8/8), done.\u001b[K\n",
            "remote: Compressing objects: 100% (8/8), done.\u001b[K\n",
            "remote: Total 28076 (delta 1), reused 2 (delta 0), pack-reused 28068\u001b[K\n",
            "Receiving objects: 100% (28076/28076), 509.31 MiB | 23.08 MiB/s, done.\n",
            "Resolving deltas: 100% (17269/17269), done.\n",
            "Checking out files: 100% (3003/3003), done.\n"
          ],
          "name": "stdout"
        }
      ]
    },
    {
      "cell_type": "code",
      "metadata": {
        "id": "aVT5dNZ9T0oM",
        "colab_type": "code",
        "colab": {
          "base_uri": "https://localhost:8080/",
          "height": 1000
        },
        "outputId": "2896ee34-943a-4b62-c690-10bfb4cc2117"
      },
      "source": [
        "!git clone https://github.com/cocodataset/cocoapi.git\n",
        "!cd cocoapi/PythonAPI; make; cp -r pycocotools /content/models/research/"
      ],
      "execution_count": 10,
      "outputs": [
        {
          "output_type": "stream",
          "text": [
            "Cloning into 'cocoapi'...\n",
            "remote: Enumerating objects: 953, done.\u001b[K\n",
            "remote: Total 953 (delta 0), reused 0 (delta 0), pack-reused 953\u001b[K\n",
            "Receiving objects: 100% (953/953), 11.70 MiB | 16.75 MiB/s, done.\n",
            "Resolving deltas: 100% (565/565), done.\n",
            "python setup.py build_ext --inplace\n",
            "running build_ext\n",
            "cythoning pycocotools/_mask.pyx to pycocotools/_mask.c\n",
            "/usr/local/lib/python3.6/dist-packages/Cython/Compiler/Main.py:367: FutureWarning: Cython directive 'language_level' not set, using 2 for now (Py2). This will change in a later release! File: /content/workspace/training-demo/cocoapi/PythonAPI/pycocotools/_mask.pyx\n",
            "  tree = Parsing.p_module(s, pxd, full_module_name)\n",
            "building 'pycocotools._mask' extension\n",
            "creating build\n",
            "creating build/common\n",
            "creating build/temp.linux-x86_64-3.6\n",
            "creating build/temp.linux-x86_64-3.6/pycocotools\n",
            "x86_64-linux-gnu-gcc -pthread -DNDEBUG -g -fwrapv -O2 -Wall -g -fstack-protector-strong -Wformat -Werror=format-security -Wdate-time -D_FORTIFY_SOURCE=2 -fPIC -I/usr/local/lib/python3.6/dist-packages/numpy/core/include -I../common -I/usr/include/python3.6m -c ../common/maskApi.c -o build/temp.linux-x86_64-3.6/../common/maskApi.o -Wno-cpp -Wno-unused-function -std=c99\n",
            "\u001b[01m\u001b[K../common/maskApi.c:\u001b[m\u001b[K In function ‘\u001b[01m\u001b[KrleDecode\u001b[m\u001b[K’:\n",
            "\u001b[01m\u001b[K../common/maskApi.c:46:7:\u001b[m\u001b[K \u001b[01;35m\u001b[Kwarning: \u001b[m\u001b[Kthis ‘\u001b[01m\u001b[Kfor\u001b[m\u001b[K’ clause does not guard... [\u001b[01;35m\u001b[K-Wmisleading-indentation\u001b[m\u001b[K]\n",
            "       \u001b[01;35m\u001b[Kfor\u001b[m\u001b[K( k=0; k<R[i].cnts[j]; k++ ) *(M++)=v; v=!v; }}\n",
            "       \u001b[01;35m\u001b[K^~~\u001b[m\u001b[K\n",
            "\u001b[01m\u001b[K../common/maskApi.c:46:49:\u001b[m\u001b[K \u001b[01;36m\u001b[Knote: \u001b[m\u001b[K...this statement, but the latter is misleadingly indented as if it were guarded by the ‘\u001b[01m\u001b[Kfor\u001b[m\u001b[K’\n",
            "       for( k=0; k<R[i].cnts[j]; k++ ) *(M++)=v; \u001b[01;36m\u001b[Kv\u001b[m\u001b[K=!v; }}\n",
            "                                                 \u001b[01;36m\u001b[K^\u001b[m\u001b[K\n",
            "\u001b[01m\u001b[K../common/maskApi.c:\u001b[m\u001b[K In function ‘\u001b[01m\u001b[KrleFrPoly\u001b[m\u001b[K’:\n",
            "\u001b[01m\u001b[K../common/maskApi.c:166:3:\u001b[m\u001b[K \u001b[01;35m\u001b[Kwarning: \u001b[m\u001b[Kthis ‘\u001b[01m\u001b[Kfor\u001b[m\u001b[K’ clause does not guard... [\u001b[01;35m\u001b[K-Wmisleading-indentation\u001b[m\u001b[K]\n",
            "   \u001b[01;35m\u001b[Kfor\u001b[m\u001b[K(j=0; j<k; j++) x[j]=(int)(scale*xy[j*2+0]+.5); x[k]=x[0];\n",
            "   \u001b[01;35m\u001b[K^~~\u001b[m\u001b[K\n",
            "\u001b[01m\u001b[K../common/maskApi.c:166:54:\u001b[m\u001b[K \u001b[01;36m\u001b[Knote: \u001b[m\u001b[K...this statement, but the latter is misleadingly indented as if it were guarded by the ‘\u001b[01m\u001b[Kfor\u001b[m\u001b[K’\n",
            "   for(j=0; j<k; j++) x[j]=(int)(scale*xy[j*2+0]+.5); \u001b[01;36m\u001b[Kx\u001b[m\u001b[K[k]=x[0];\n",
            "                                                      \u001b[01;36m\u001b[K^\u001b[m\u001b[K\n",
            "\u001b[01m\u001b[K../common/maskApi.c:167:3:\u001b[m\u001b[K \u001b[01;35m\u001b[Kwarning: \u001b[m\u001b[Kthis ‘\u001b[01m\u001b[Kfor\u001b[m\u001b[K’ clause does not guard... [\u001b[01;35m\u001b[K-Wmisleading-indentation\u001b[m\u001b[K]\n",
            "   \u001b[01;35m\u001b[Kfor\u001b[m\u001b[K(j=0; j<k; j++) y[j]=(int)(scale*xy[j*2+1]+.5); y[k]=y[0];\n",
            "   \u001b[01;35m\u001b[K^~~\u001b[m\u001b[K\n",
            "\u001b[01m\u001b[K../common/maskApi.c:167:54:\u001b[m\u001b[K \u001b[01;36m\u001b[Knote: \u001b[m\u001b[K...this statement, but the latter is misleadingly indented as if it were guarded by the ‘\u001b[01m\u001b[Kfor\u001b[m\u001b[K’\n",
            "   for(j=0; j<k; j++) y[j]=(int)(scale*xy[j*2+1]+.5); \u001b[01;36m\u001b[Ky\u001b[m\u001b[K[k]=y[0];\n",
            "                                                      \u001b[01;36m\u001b[K^\u001b[m\u001b[K\n",
            "\u001b[01m\u001b[K../common/maskApi.c:\u001b[m\u001b[K In function ‘\u001b[01m\u001b[KrleToString\u001b[m\u001b[K’:\n",
            "\u001b[01m\u001b[K../common/maskApi.c:212:7:\u001b[m\u001b[K \u001b[01;35m\u001b[Kwarning: \u001b[m\u001b[Kthis ‘\u001b[01m\u001b[Kif\u001b[m\u001b[K’ clause does not guard... [\u001b[01;35m\u001b[K-Wmisleading-indentation\u001b[m\u001b[K]\n",
            "       \u001b[01;35m\u001b[Kif\u001b[m\u001b[K(more) c |= 0x20; c+=48; s[p++]=c;\n",
            "       \u001b[01;35m\u001b[K^~\u001b[m\u001b[K\n",
            "\u001b[01m\u001b[K../common/maskApi.c:212:27:\u001b[m\u001b[K \u001b[01;36m\u001b[Knote: \u001b[m\u001b[K...this statement, but the latter is misleadingly indented as if it were guarded by the ‘\u001b[01m\u001b[Kif\u001b[m\u001b[K’\n",
            "       if(more) c |= 0x20; \u001b[01;36m\u001b[Kc\u001b[m\u001b[K+=48; s[p++]=c;\n",
            "                           \u001b[01;36m\u001b[K^\u001b[m\u001b[K\n",
            "\u001b[01m\u001b[K../common/maskApi.c:\u001b[m\u001b[K In function ‘\u001b[01m\u001b[KrleFrString\u001b[m\u001b[K’:\n",
            "\u001b[01m\u001b[K../common/maskApi.c:220:3:\u001b[m\u001b[K \u001b[01;35m\u001b[Kwarning: \u001b[m\u001b[Kthis ‘\u001b[01m\u001b[Kwhile\u001b[m\u001b[K’ clause does not guard... [\u001b[01;35m\u001b[K-Wmisleading-indentation\u001b[m\u001b[K]\n",
            "   \u001b[01;35m\u001b[Kwhile\u001b[m\u001b[K( s[m] ) m++; cnts=malloc(sizeof(uint)*m); m=0;\n",
            "   \u001b[01;35m\u001b[K^~~~~\u001b[m\u001b[K\n",
            "\u001b[01m\u001b[K../common/maskApi.c:220:22:\u001b[m\u001b[K \u001b[01;36m\u001b[Knote: \u001b[m\u001b[K...this statement, but the latter is misleadingly indented as if it were guarded by the ‘\u001b[01m\u001b[Kwhile\u001b[m\u001b[K’\n",
            "   while( s[m] ) m++; \u001b[01;36m\u001b[Kcnts\u001b[m\u001b[K=malloc(sizeof(uint)*m); m=0;\n",
            "                      \u001b[01;36m\u001b[K^~~~\u001b[m\u001b[K\n",
            "\u001b[01m\u001b[K../common/maskApi.c:228:5:\u001b[m\u001b[K \u001b[01;35m\u001b[Kwarning: \u001b[m\u001b[Kthis ‘\u001b[01m\u001b[Kif\u001b[m\u001b[K’ clause does not guard... [\u001b[01;35m\u001b[K-Wmisleading-indentation\u001b[m\u001b[K]\n",
            "     \u001b[01;35m\u001b[Kif\u001b[m\u001b[K(m>2) x+=(long) cnts[m-2]; cnts[m++]=(uint) x;\n",
            "     \u001b[01;35m\u001b[K^~\u001b[m\u001b[K\n",
            "\u001b[01m\u001b[K../common/maskApi.c:228:34:\u001b[m\u001b[K \u001b[01;36m\u001b[Knote: \u001b[m\u001b[K...this statement, but the latter is misleadingly indented as if it were guarded by the ‘\u001b[01m\u001b[Kif\u001b[m\u001b[K’\n",
            "     if(m>2) x+=(long) cnts[m-2]; \u001b[01;36m\u001b[Kcnts\u001b[m\u001b[K[m++]=(uint) x;\n",
            "                                  \u001b[01;36m\u001b[K^~~~\u001b[m\u001b[K\n",
            "\u001b[01m\u001b[K../common/maskApi.c:\u001b[m\u001b[K In function ‘\u001b[01m\u001b[KrleToBbox\u001b[m\u001b[K’:\n",
            "\u001b[01m\u001b[K../common/maskApi.c:141:31:\u001b[m\u001b[K \u001b[01;35m\u001b[Kwarning: \u001b[m\u001b[K‘\u001b[01m\u001b[Kxp\u001b[m\u001b[K’ may be used uninitialized in this function [\u001b[01;35m\u001b[K-Wmaybe-uninitialized\u001b[m\u001b[K]\n",
            "       if(j%2==0) xp=x; else if\u001b[01;35m\u001b[K(\u001b[m\u001b[Kxp<x) { ys=0; ye=h-1; }\n",
            "                               \u001b[01;35m\u001b[K^\u001b[m\u001b[K\n",
            "x86_64-linux-gnu-gcc -pthread -DNDEBUG -g -fwrapv -O2 -Wall -g -fstack-protector-strong -Wformat -Werror=format-security -Wdate-time -D_FORTIFY_SOURCE=2 -fPIC -I/usr/local/lib/python3.6/dist-packages/numpy/core/include -I../common -I/usr/include/python3.6m -c pycocotools/_mask.c -o build/temp.linux-x86_64-3.6/pycocotools/_mask.o -Wno-cpp -Wno-unused-function -std=c99\n",
            "creating build/lib.linux-x86_64-3.6\n",
            "creating build/lib.linux-x86_64-3.6/pycocotools\n",
            "x86_64-linux-gnu-gcc -pthread -shared -Wl,-O1 -Wl,-Bsymbolic-functions -Wl,-Bsymbolic-functions -Wl,-z,relro -Wl,-Bsymbolic-functions -Wl,-z,relro -g -fstack-protector-strong -Wformat -Werror=format-security -Wdate-time -D_FORTIFY_SOURCE=2 build/temp.linux-x86_64-3.6/../common/maskApi.o build/temp.linux-x86_64-3.6/pycocotools/_mask.o -o build/lib.linux-x86_64-3.6/pycocotools/_mask.cpython-36m-x86_64-linux-gnu.so\n",
            "copying build/lib.linux-x86_64-3.6/pycocotools/_mask.cpython-36m-x86_64-linux-gnu.so -> pycocotools\n",
            "rm -rf build\n"
          ],
          "name": "stdout"
        }
      ]
    },
    {
      "cell_type": "code",
      "metadata": {
        "id": "ORjtqff1T0j9",
        "colab_type": "code",
        "colab": {
          "base_uri": "https://localhost:8080/",
          "height": 34
        },
        "outputId": "40dcd4d8-bfcc-4098-ab6c-63b9976b71ba"
      },
      "source": [
        "cd /content/models/research"
      ],
      "execution_count": 11,
      "outputs": [
        {
          "output_type": "stream",
          "text": [
            "/content/models/research\n"
          ],
          "name": "stdout"
        }
      ]
    },
    {
      "cell_type": "code",
      "metadata": {
        "id": "Z4c3BpFRUkhP",
        "colab_type": "code",
        "colab": {
          "base_uri": "https://localhost:8080/",
          "height": 68
        },
        "outputId": "c9fc489f-edb0-47ae-e87d-274e95f41f67"
      },
      "source": [
        "!mkdir train eval\n",
        "%set_env PYTHONPATH=/content/models/research:/content/models/research/slim"
      ],
      "execution_count": 12,
      "outputs": [
        {
          "output_type": "stream",
          "text": [
            "mkdir: cannot create directory ‘train’: File exists\n",
            "mkdir: cannot create directory ‘eval’: File exists\n",
            "env: PYTHONPATH=/content/models/research:/content/models/research/slim\n"
          ],
          "name": "stdout"
        }
      ]
    },
    {
      "cell_type": "code",
      "metadata": {
        "id": "j98aapAVT0gO",
        "colab_type": "code",
        "colab": {}
      },
      "source": [
        "!protoc object_detection/protos/*.proto --python_out=."
      ],
      "execution_count": 0,
      "outputs": []
    },
    {
      "cell_type": "code",
      "metadata": {
        "id": "kMT9cLMrT0cd",
        "colab_type": "code",
        "colab": {
          "base_uri": "https://localhost:8080/",
          "height": 887
        },
        "outputId": "b424793e-fc13-4410-c859-95f8b8fa5322"
      },
      "source": [
        "!python object_detection/builders/model_builder_test.py"
      ],
      "execution_count": 14,
      "outputs": [
        {
          "output_type": "stream",
          "text": [
            "WARNING: Logging before flag parsing goes to stderr.\n",
            "W0627 10:11:52.789198 139952288094080 lazy_loader.py:50] \n",
            "The TensorFlow contrib module will not be included in TensorFlow 2.0.\n",
            "For more information, please see:\n",
            "  * https://github.com/tensorflow/community/blob/master/rfcs/20180907-contrib-sunset.md\n",
            "  * https://github.com/tensorflow/addons\n",
            "  * https://github.com/tensorflow/io (for I/O related ops)\n",
            "If you depend on functionality not listed there, please file an issue.\n",
            "\n",
            "W0627 10:11:53.052336 139952288094080 deprecation_wrapper.py:119] From /content/models/research/slim/nets/inception_resnet_v2.py:373: The name tf.GraphKeys is deprecated. Please use tf.compat.v1.GraphKeys instead.\n",
            "\n",
            "W0627 10:11:53.077248 139952288094080 deprecation_wrapper.py:119] From /content/models/research/slim/nets/mobilenet/mobilenet.py:397: The name tf.nn.avg_pool is deprecated. Please use tf.nn.avg_pool2d instead.\n",
            "\n",
            "Running tests under Python 3.6.8: /usr/bin/python3\n",
            "[ RUN      ] ModelBuilderTest.test_create_faster_rcnn_model_from_config_with_example_miner\n",
            "[       OK ] ModelBuilderTest.test_create_faster_rcnn_model_from_config_with_example_miner\n",
            "[ RUN      ] ModelBuilderTest.test_create_faster_rcnn_models_from_config_faster_rcnn_with_matmul\n",
            "[       OK ] ModelBuilderTest.test_create_faster_rcnn_models_from_config_faster_rcnn_with_matmul\n",
            "[ RUN      ] ModelBuilderTest.test_create_faster_rcnn_models_from_config_faster_rcnn_without_matmul\n",
            "[       OK ] ModelBuilderTest.test_create_faster_rcnn_models_from_config_faster_rcnn_without_matmul\n",
            "[ RUN      ] ModelBuilderTest.test_create_faster_rcnn_models_from_config_mask_rcnn_with_matmul\n",
            "[       OK ] ModelBuilderTest.test_create_faster_rcnn_models_from_config_mask_rcnn_with_matmul\n",
            "[ RUN      ] ModelBuilderTest.test_create_faster_rcnn_models_from_config_mask_rcnn_without_matmul\n",
            "[       OK ] ModelBuilderTest.test_create_faster_rcnn_models_from_config_mask_rcnn_without_matmul\n",
            "[ RUN      ] ModelBuilderTest.test_create_rfcn_model_from_config\n",
            "[       OK ] ModelBuilderTest.test_create_rfcn_model_from_config\n",
            "[ RUN      ] ModelBuilderTest.test_create_ssd_fpn_model_from_config\n",
            "[       OK ] ModelBuilderTest.test_create_ssd_fpn_model_from_config\n",
            "[ RUN      ] ModelBuilderTest.test_create_ssd_models_from_config\n",
            "[       OK ] ModelBuilderTest.test_create_ssd_models_from_config\n",
            "[ RUN      ] ModelBuilderTest.test_invalid_faster_rcnn_batchnorm_update\n",
            "[       OK ] ModelBuilderTest.test_invalid_faster_rcnn_batchnorm_update\n",
            "[ RUN      ] ModelBuilderTest.test_invalid_first_stage_nms_iou_threshold\n",
            "[       OK ] ModelBuilderTest.test_invalid_first_stage_nms_iou_threshold\n",
            "[ RUN      ] ModelBuilderTest.test_invalid_model_config_proto\n",
            "[       OK ] ModelBuilderTest.test_invalid_model_config_proto\n",
            "[ RUN      ] ModelBuilderTest.test_invalid_second_stage_batch_size\n",
            "[       OK ] ModelBuilderTest.test_invalid_second_stage_batch_size\n",
            "[ RUN      ] ModelBuilderTest.test_session\n",
            "[  SKIPPED ] ModelBuilderTest.test_session\n",
            "[ RUN      ] ModelBuilderTest.test_unknown_faster_rcnn_feature_extractor\n",
            "[       OK ] ModelBuilderTest.test_unknown_faster_rcnn_feature_extractor\n",
            "[ RUN      ] ModelBuilderTest.test_unknown_meta_architecture\n",
            "[       OK ] ModelBuilderTest.test_unknown_meta_architecture\n",
            "[ RUN      ] ModelBuilderTest.test_unknown_ssd_feature_extractor\n",
            "[       OK ] ModelBuilderTest.test_unknown_ssd_feature_extractor\n",
            "----------------------------------------------------------------------\n",
            "Ran 16 tests in 0.302s\n",
            "\n",
            "OK (skipped=1)\n"
          ],
          "name": "stdout"
        }
      ]
    },
    {
      "cell_type": "markdown",
      "metadata": {
        "id": "s3IHy2q7Ht5i",
        "colab_type": "text"
      },
      "source": [
        "\n",
        "\n",
        "---\n",
        "\n",
        "\n",
        "Go to dir :  /content \n",
        "\n",
        "#Create the following Directories\n",
        "\n",
        "*   workspace\n",
        "    *    training-demo\n",
        "        * annotations\n",
        "        * images\n",
        "        * pre-trained-model\n",
        "        * training\n",
        "\n",
        "\n",
        "---\n",
        "\n",
        "\n",
        "                                          "
      ]
    },
    {
      "cell_type": "code",
      "metadata": {
        "id": "2CmgRLGLM0OA",
        "colab_type": "code",
        "colab": {
          "base_uri": "https://localhost:8080/",
          "height": 34
        },
        "outputId": "dda12cb6-d2cf-48fa-bdea-343b6331e285"
      },
      "source": [
        "cd ~"
      ],
      "execution_count": 15,
      "outputs": [
        {
          "output_type": "stream",
          "text": [
            "/root\n"
          ],
          "name": "stdout"
        }
      ]
    },
    {
      "cell_type": "code",
      "metadata": {
        "id": "EIiCgqJ8M-7b",
        "colab_type": "code",
        "colab": {
          "base_uri": "https://localhost:8080/",
          "height": 34
        },
        "outputId": "25c27331-4759-47e5-bdc7-d4f2320de694"
      },
      "source": [
        "cd /content"
      ],
      "execution_count": 16,
      "outputs": [
        {
          "output_type": "stream",
          "text": [
            "/content\n"
          ],
          "name": "stdout"
        }
      ]
    },
    {
      "cell_type": "code",
      "metadata": {
        "id": "Tk5hT_zHVo-A",
        "colab_type": "code",
        "colab": {
          "base_uri": "https://localhost:8080/",
          "height": 34
        },
        "outputId": "a14a830e-d6be-4765-c265-f5aa940c45c2"
      },
      "source": [
        "!mkdir workspace"
      ],
      "execution_count": 17,
      "outputs": [
        {
          "output_type": "stream",
          "text": [
            "mkdir: cannot create directory ‘workspace’: File exists\n"
          ],
          "name": "stdout"
        }
      ]
    },
    {
      "cell_type": "code",
      "metadata": {
        "id": "0Vng6g_QebjX",
        "colab_type": "code",
        "outputId": "a6f670a8-37f4-40a2-dd34-74b62f09bca9",
        "colab": {
          "base_uri": "https://localhost:8080/",
          "height": 34
        }
      },
      "source": [
        "cd workspace"
      ],
      "execution_count": 18,
      "outputs": [
        {
          "output_type": "stream",
          "text": [
            "/content/workspace\n"
          ],
          "name": "stdout"
        }
      ]
    },
    {
      "cell_type": "code",
      "metadata": {
        "id": "NKpgjvkSebLb",
        "colab_type": "code",
        "colab": {
          "base_uri": "https://localhost:8080/",
          "height": 34
        },
        "outputId": "b3d77819-86d1-4e23-9545-1b27015cb742"
      },
      "source": [
        "!mkdir training-demo"
      ],
      "execution_count": 19,
      "outputs": [
        {
          "output_type": "stream",
          "text": [
            "mkdir: cannot create directory ‘training-demo’: File exists\n"
          ],
          "name": "stdout"
        }
      ]
    },
    {
      "cell_type": "code",
      "metadata": {
        "id": "2PcvGZ6Tea9z",
        "colab_type": "code",
        "outputId": "752490a9-f95b-45d6-f657-03ca202e86fa",
        "colab": {
          "base_uri": "https://localhost:8080/",
          "height": 34
        }
      },
      "source": [
        "cd training-demo"
      ],
      "execution_count": 20,
      "outputs": [
        {
          "output_type": "stream",
          "text": [
            "/content/workspace/training-demo\n"
          ],
          "name": "stdout"
        }
      ]
    },
    {
      "cell_type": "code",
      "metadata": {
        "id": "Cew6qNq8Tz4O",
        "colab_type": "code",
        "colab": {
          "base_uri": "https://localhost:8080/",
          "height": 85
        },
        "outputId": "8ceb3264-827b-4893-c21d-1c6440e1e76d"
      },
      "source": [
        "!mkdir annotations\n",
        "!mkdir images\n",
        "!mkdir pre-trained-model\n",
        "!mkdir training"
      ],
      "execution_count": 21,
      "outputs": [
        {
          "output_type": "stream",
          "text": [
            "mkdir: cannot create directory ‘annotations’: File exists\n",
            "mkdir: cannot create directory ‘images’: File exists\n",
            "mkdir: cannot create directory ‘pre-trained-model’: File exists\n",
            "mkdir: cannot create directory ‘training’: File exists\n"
          ],
          "name": "stdout"
        }
      ]
    },
    {
      "cell_type": "markdown",
      "metadata": {
        "id": "34g12fL-NVgN",
        "colab_type": "text"
      },
      "source": [
        "\n",
        "\n",
        "---\n",
        "\n",
        "\n",
        "##Upload \n",
        "\n",
        "*   label_map.pbtxt \n",
        "*   test_labels.csv \n",
        "*   train_labels.csv \n",
        "\n",
        "To /content/workspace/training-demo/annotations\n",
        "\n",
        "\n",
        "\n",
        "---\n",
        "\n"
      ]
    },
    {
      "cell_type": "markdown",
      "metadata": {
        "id": "YYFFyS61OS__",
        "colab_type": "text"
      },
      "source": [
        "\n",
        "\n",
        "---\n",
        "\n",
        "##Create Folders \n",
        "**test & train** in /content/workspace/training-demo/images\n",
        "\n",
        "---\n",
        "\n"
      ]
    },
    {
      "cell_type": "code",
      "metadata": {
        "id": "41WKBWxLT1oB",
        "colab_type": "code",
        "colab": {
          "base_uri": "https://localhost:8080/",
          "height": 34
        },
        "outputId": "badb7692-6087-4773-9074-500f9dff6298"
      },
      "source": [
        "cd ~"
      ],
      "execution_count": 22,
      "outputs": [
        {
          "output_type": "stream",
          "text": [
            "/root\n"
          ],
          "name": "stdout"
        }
      ]
    },
    {
      "cell_type": "code",
      "metadata": {
        "id": "fHJVXmlKWVKM",
        "colab_type": "code",
        "outputId": "33ac8050-7556-42b8-beb9-804f62395055",
        "colab": {
          "base_uri": "https://localhost:8080/",
          "height": 34
        }
      },
      "source": [
        "cd /content/workspace/training-demo/images/"
      ],
      "execution_count": 23,
      "outputs": [
        {
          "output_type": "stream",
          "text": [
            "/content/workspace/training-demo/images\n"
          ],
          "name": "stdout"
        }
      ]
    },
    {
      "cell_type": "code",
      "metadata": {
        "id": "iP13Z5TlXZKa",
        "colab_type": "code",
        "colab": {
          "base_uri": "https://localhost:8080/",
          "height": 51
        },
        "outputId": "44f3b7fe-009c-4e69-8f71-41718a6bda6a"
      },
      "source": [
        "!mkdir test\n",
        "!mkdir train"
      ],
      "execution_count": 24,
      "outputs": [
        {
          "output_type": "stream",
          "text": [
            "mkdir: cannot create directory ‘test’: File exists\n",
            "mkdir: cannot create directory ‘train’: File exists\n"
          ],
          "name": "stdout"
        }
      ]
    },
    {
      "cell_type": "markdown",
      "metadata": {
        "id": "GiGdrFlvOq-c",
        "colab_type": "text"
      },
      "source": [
        "*  Upload all Images + XML\n",
        "      * test\n",
        "      * train \n",
        "*  Upload annotations\n",
        "      * label_map.pbtxt\n",
        "      * test_labels.csv\n",
        "      * train_labels.csv\n",
        "*  Upload Pretained model\n",
        "      * upload .tar and extract\n",
        "*  Upload training\n",
        "      * upload .config "
      ]
    },
    {
      "cell_type": "markdown",
      "metadata": {
        "id": "ggs9cIuVY979",
        "colab_type": "text"
      },
      "source": [
        "\n",
        "\n",
        "---\n",
        "\n",
        "Extract tar and copy contents to respective folder\n",
        "\n",
        "---\n",
        "\n"
      ]
    },
    {
      "cell_type": "code",
      "metadata": {
        "id": "aENdTBieZGa3",
        "colab_type": "code",
        "colab": {
          "base_uri": "https://localhost:8080/",
          "height": 34
        },
        "outputId": "8d701430-813c-4b2b-d5d4-66487d4a9a9a"
      },
      "source": [
        "cd ~"
      ],
      "execution_count": 25,
      "outputs": [
        {
          "output_type": "stream",
          "text": [
            "/root\n"
          ],
          "name": "stdout"
        }
      ]
    },
    {
      "cell_type": "code",
      "metadata": {
        "id": "03LluifnZH2b",
        "colab_type": "code",
        "colab": {
          "base_uri": "https://localhost:8080/",
          "height": 51
        },
        "outputId": "e33e92a1-1ce5-4011-b851-fb622e573575"
      },
      "source": [
        "cd /content/pre-trained-model"
      ],
      "execution_count": 26,
      "outputs": [
        {
          "output_type": "stream",
          "text": [
            "[Errno 2] No such file or directory: '/content/pre-trained-model'\n",
            "/root\n"
          ],
          "name": "stdout"
        }
      ]
    },
    {
      "cell_type": "code",
      "metadata": {
        "id": "Bw2zO2s7Yu4a",
        "colab_type": "code",
        "colab": {
          "base_uri": "https://localhost:8080/",
          "height": 51
        },
        "outputId": "cbb7533a-891e-470c-89db-eaddd4514a90"
      },
      "source": [
        "!tar -xvf ssd_inception_v2_coco_2018_01_28.tar"
      ],
      "execution_count": 27,
      "outputs": [
        {
          "output_type": "stream",
          "text": [
            "tar: ssd_inception_v2_coco_2018_01_28.tar: Cannot open: No such file or directory\n",
            "tar: Error is not recoverable: exiting now\n"
          ],
          "name": "stdout"
        }
      ]
    },
    {
      "cell_type": "code",
      "metadata": {
        "id": "Yr0YlW9hYz2w",
        "colab_type": "code",
        "colab": {
          "base_uri": "https://localhost:8080/",
          "height": 136
        },
        "outputId": "4eebe49e-2975-4edb-edb8-c228978a9abe"
      },
      "source": [
        "!mv saved_model /content/workspace/training-demo/pre-trained-model/\n",
        "!mv checkpoint /content/workspace/training-demo/pre-trained-model/\n",
        "!mv frozen_inference_graph.pb /content/workspace/training-demo/pre-trained-model/\n",
        "!mv model.ckpt.data-00000-of-00001 /content/workspace/training-demo/pre-trained-model/\n",
        "!mv model.ckpt.index /content/workspace/training-demo/pre-trained-model/\n",
        "!mv model.ckpt.meta /content/workspace/training-demo/pre-trained-model/\n",
        "!mv pipeline.config /content/workspace/training-demo/pre-trained-model/"
      ],
      "execution_count": 28,
      "outputs": [
        {
          "output_type": "stream",
          "text": [
            "mv: cannot stat 'saved_model': No such file or directory\n",
            "mv: cannot stat 'checkpoint': No such file or directory\n",
            "mv: cannot stat 'frozen_inference_graph.pb': No such file or directory\n",
            "mv: cannot stat 'model.ckpt.data-00000-of-00001': No such file or directory\n",
            "mv: cannot stat 'model.ckpt.index': No such file or directory\n",
            "mv: cannot stat 'model.ckpt.meta': No such file or directory\n",
            "mv: cannot stat 'pipeline.config': No such file or directory\n"
          ],
          "name": "stdout"
        }
      ]
    },
    {
      "cell_type": "code",
      "metadata": {
        "id": "AP3Ub2S-YzrG",
        "colab_type": "code",
        "colab": {
          "base_uri": "https://localhost:8080/",
          "height": 34
        },
        "outputId": "7d12766b-98b8-4e4d-efd7-6f8594fc70fa"
      },
      "source": [
        "!rmdir ssd_inception_v2_coco_2018_01_28"
      ],
      "execution_count": 29,
      "outputs": [
        {
          "output_type": "stream",
          "text": [
            "rmdir: failed to remove 'ssd_inception_v2_coco_2018_01_28': Directory not empty\n"
          ],
          "name": "stdout"
        }
      ]
    },
    {
      "cell_type": "markdown",
      "metadata": {
        "id": "7VzGLQGzSyrd",
        "colab_type": "text"
      },
      "source": [
        "\n",
        "---\n",
        "\n",
        "\n",
        "Go to /content\n",
        "\n",
        "##Create directory\n",
        "*   scripts \n",
        "     * preprocessing\n",
        "     \n",
        "\n",
        "\n",
        "---\n",
        "\n",
        "\n"
      ]
    },
    {
      "cell_type": "code",
      "metadata": {
        "id": "9X7s0nzNUBgv",
        "colab_type": "code",
        "colab": {
          "base_uri": "https://localhost:8080/",
          "height": 34
        },
        "outputId": "17cd230f-f342-4da8-952b-2676a00a0457"
      },
      "source": [
        "cd ~"
      ],
      "execution_count": 30,
      "outputs": [
        {
          "output_type": "stream",
          "text": [
            "/root\n"
          ],
          "name": "stdout"
        }
      ]
    },
    {
      "cell_type": "code",
      "metadata": {
        "id": "wpFHx1dHUBTh",
        "colab_type": "code",
        "colab": {
          "base_uri": "https://localhost:8080/",
          "height": 34
        },
        "outputId": "cb7c96eb-5803-48b0-921b-e4200acfb739"
      },
      "source": [
        "cd /content"
      ],
      "execution_count": 31,
      "outputs": [
        {
          "output_type": "stream",
          "text": [
            "/content\n"
          ],
          "name": "stdout"
        }
      ]
    },
    {
      "cell_type": "code",
      "metadata": {
        "id": "TixhsHNgYph5",
        "colab_type": "code",
        "colab": {
          "base_uri": "https://localhost:8080/",
          "height": 34
        },
        "outputId": "ca90931f-f225-40b5-b18c-7d9da81f13ac"
      },
      "source": [
        "!mkdir scripts"
      ],
      "execution_count": 32,
      "outputs": [
        {
          "output_type": "stream",
          "text": [
            "mkdir: cannot create directory ‘scripts’: File exists\n"
          ],
          "name": "stdout"
        }
      ]
    },
    {
      "cell_type": "code",
      "metadata": {
        "id": "6PKq3SQWY5OY",
        "colab_type": "code",
        "outputId": "3c8a992f-c408-4f62-cf59-a8d6222451cb",
        "colab": {
          "base_uri": "https://localhost:8080/",
          "height": 34
        }
      },
      "source": [
        "cd scripts"
      ],
      "execution_count": 33,
      "outputs": [
        {
          "output_type": "stream",
          "text": [
            "/content/scripts\n"
          ],
          "name": "stdout"
        }
      ]
    },
    {
      "cell_type": "code",
      "metadata": {
        "id": "jd228FRsY7s3",
        "colab_type": "code",
        "colab": {
          "base_uri": "https://localhost:8080/",
          "height": 34
        },
        "outputId": "a3839f50-5bb4-4e73-c3f9-8e0199cb96ff"
      },
      "source": [
        "!mkdir preprocessing"
      ],
      "execution_count": 34,
      "outputs": [
        {
          "output_type": "stream",
          "text": [
            "mkdir: cannot create directory ‘preprocessing’: File exists\n"
          ],
          "name": "stdout"
        }
      ]
    },
    {
      "cell_type": "code",
      "metadata": {
        "id": "ngMvdvcvY9t5",
        "colab_type": "code",
        "outputId": "a74e1d96-3898-4e18-e1df-596cf4308c36",
        "colab": {
          "base_uri": "https://localhost:8080/",
          "height": 34
        }
      },
      "source": [
        "cd preprocessing"
      ],
      "execution_count": 35,
      "outputs": [
        {
          "output_type": "stream",
          "text": [
            "/content/scripts/preprocessing\n"
          ],
          "name": "stdout"
        }
      ]
    },
    {
      "cell_type": "markdown",
      "metadata": {
        "id": "2hqPL92LUu-g",
        "colab_type": "text"
      },
      "source": [
        "Upload two Files to preprocessing \n",
        "\n",
        "--  .XML to .csv ==>Already Done on PC (xml_to_csv.py)\n",
        "\n",
        "--  .csv to .records ==> upload file and excecute;requires tensorflow(generate_tfrecord.py)\n"
      ]
    },
    {
      "cell_type": "code",
      "metadata": {
        "id": "bzf7TjZVaXDx",
        "colab_type": "code",
        "outputId": "1f686081-aee4-4453-f647-eda9790f6384",
        "colab": {
          "base_uri": "https://localhost:8080/",
          "height": 34
        }
      },
      "source": [
        "cd ~"
      ],
      "execution_count": 36,
      "outputs": [
        {
          "output_type": "stream",
          "text": [
            "/root\n"
          ],
          "name": "stdout"
        }
      ]
    },
    {
      "cell_type": "code",
      "metadata": {
        "id": "0OTZemZ3ZCnI",
        "colab_type": "code",
        "outputId": "88aea633-c0aa-40b9-dc68-0f45460e6993",
        "colab": {
          "base_uri": "https://localhost:8080/",
          "height": 34
        }
      },
      "source": [
        "cd /content/scripts/preprocessing/"
      ],
      "execution_count": 37,
      "outputs": [
        {
          "output_type": "stream",
          "text": [
            "/content/scripts/preprocessing\n"
          ],
          "name": "stdout"
        }
      ]
    },
    {
      "cell_type": "code",
      "metadata": {
        "id": "HAK40cMidfMr",
        "colab_type": "code",
        "outputId": "18248c93-3452-4af9-c3c6-65c5c3499a0c",
        "colab": {
          "base_uri": "https://localhost:8080/",
          "height": 173
        }
      },
      "source": [
        "!python generate_tfrecord.py --csv_input=/content/workspace/training-demo/annotations/train_labels.csv --image_dir=/content/workspace/training-demo/images/train --output_path=/content/workspace/training-demo/annotations/train.record"
      ],
      "execution_count": 38,
      "outputs": [
        {
          "output_type": "stream",
          "text": [
            "WARNING: Logging before flag parsing goes to stderr.\n",
            "W0627 10:12:48.036218 139884903167872 deprecation_wrapper.py:119] From generate_tfrecord.py:101: The name tf.app.run is deprecated. Please use tf.compat.v1.app.run instead.\n",
            "\n",
            "W0627 10:12:48.036914 139884903167872 deprecation_wrapper.py:119] From generate_tfrecord.py:87: The name tf.python_io.TFRecordWriter is deprecated. Please use tf.io.TFRecordWriter instead.\n",
            "\n",
            "W0627 10:12:48.081850 139884903167872 deprecation_wrapper.py:119] From generate_tfrecord.py:46: The name tf.gfile.GFile is deprecated. Please use tf.io.gfile.GFile instead.\n",
            "\n",
            "Successfully created the TFRecords: /content/workspace/training-demo/annotations/train.record\n"
          ],
          "name": "stdout"
        }
      ]
    },
    {
      "cell_type": "code",
      "metadata": {
        "id": "tIdrggrCffS0",
        "colab_type": "code",
        "outputId": "867bc66e-a5b7-4a84-be0e-b733f882d5db",
        "colab": {
          "base_uri": "https://localhost:8080/",
          "height": 173
        }
      },
      "source": [
        "!python generate_tfrecord.py --csv_input=/content/workspace/training-demo/annotations/test_labels.csv --image_dir=/content/workspace/training-demo/images/test --output_path=/content/workspace/training-demo/annotations/test.record"
      ],
      "execution_count": 39,
      "outputs": [
        {
          "output_type": "stream",
          "text": [
            "WARNING: Logging before flag parsing goes to stderr.\n",
            "W0627 10:12:54.507770 140048187086720 deprecation_wrapper.py:119] From generate_tfrecord.py:101: The name tf.app.run is deprecated. Please use tf.compat.v1.app.run instead.\n",
            "\n",
            "W0627 10:12:54.508453 140048187086720 deprecation_wrapper.py:119] From generate_tfrecord.py:87: The name tf.python_io.TFRecordWriter is deprecated. Please use tf.io.TFRecordWriter instead.\n",
            "\n",
            "W0627 10:12:54.542813 140048187086720 deprecation_wrapper.py:119] From generate_tfrecord.py:46: The name tf.gfile.GFile is deprecated. Please use tf.io.gfile.GFile instead.\n",
            "\n",
            "Successfully created the TFRecords: /content/workspace/training-demo/annotations/test.record\n"
          ],
          "name": "stdout"
        }
      ]
    },
    {
      "cell_type": "markdown",
      "metadata": {
        "id": "rdgR84fgXHQu",
        "colab_type": "text"
      },
      "source": [
        "If error : file not found create empty files test.record and train.record and upload in /content/workspace/training-demo/annotations"
      ]
    },
    {
      "cell_type": "markdown",
      "metadata": {
        "id": "bUGualtVVolu",
        "colab_type": "text"
      },
      "source": [
        "\n",
        "\n",
        "---\n",
        "\n",
        "\n",
        "#Training !\n",
        "\n",
        "Make sure .config file is edited correctly as per model chosen.\n",
        "\n",
        "Make sure .tar.gz training zoo file is placed correctly and **extracted**\n",
        "\n",
        "\n",
        "---\n",
        "\n"
      ]
    },
    {
      "cell_type": "code",
      "metadata": {
        "id": "quBJCWP71yXm",
        "colab_type": "code",
        "outputId": "3a8dd5c7-bb0b-48b1-9c9c-e88bd4896678",
        "colab": {
          "base_uri": "https://localhost:8080/",
          "height": 34
        }
      },
      "source": [
        "cd ~"
      ],
      "execution_count": 40,
      "outputs": [
        {
          "output_type": "stream",
          "text": [
            "/root\n"
          ],
          "name": "stdout"
        }
      ]
    },
    {
      "cell_type": "code",
      "metadata": {
        "id": "RXp8iBiY104M",
        "colab_type": "code",
        "outputId": "895a35b2-143d-4d7f-cdbe-dcc559fffa4f",
        "colab": {
          "base_uri": "https://localhost:8080/",
          "height": 34
        }
      },
      "source": [
        "cd /content/workspace/training-demo/"
      ],
      "execution_count": 41,
      "outputs": [
        {
          "output_type": "stream",
          "text": [
            "/content/workspace/training-demo\n"
          ],
          "name": "stdout"
        }
      ]
    },
    {
      "cell_type": "code",
      "metadata": {
        "id": "Hnheak5au7Dl",
        "colab_type": "code",
        "outputId": "0b05ea6d-3177-44e9-df81-bc421df5180f",
        "colab": {
          "base_uri": "https://localhost:8080/",
          "height": 1000
        }
      },
      "source": [
        "!python train.py --logtostderr --train_dir=training/ --pipeline_config_path=training/ssd_inception_v2_coco.config"
      ],
      "execution_count": 0,
      "outputs": [
        {
          "output_type": "stream",
          "text": [
            "WARNING: Logging before flag parsing goes to stderr.\n",
            "W0627 10:13:02.509993 140259507906432 lazy_loader.py:50] \n",
            "The TensorFlow contrib module will not be included in TensorFlow 2.0.\n",
            "For more information, please see:\n",
            "  * https://github.com/tensorflow/community/blob/master/rfcs/20180907-contrib-sunset.md\n",
            "  * https://github.com/tensorflow/addons\n",
            "  * https://github.com/tensorflow/io (for I/O related ops)\n",
            "If you depend on functionality not listed there, please file an issue.\n",
            "\n",
            "W0627 10:13:02.715118 140259507906432 deprecation_wrapper.py:119] From /content/models/research/slim/nets/inception_resnet_v2.py:373: The name tf.GraphKeys is deprecated. Please use tf.compat.v1.GraphKeys instead.\n",
            "\n",
            "W0627 10:13:02.727023 140259507906432 deprecation_wrapper.py:119] From /content/models/research/slim/nets/mobilenet/mobilenet.py:397: The name tf.nn.avg_pool is deprecated. Please use tf.nn.avg_pool2d instead.\n",
            "\n",
            "W0627 10:13:02.789705 140259507906432 deprecation_wrapper.py:119] From train.py:55: The name tf.logging.set_verbosity is deprecated. Please use tf.compat.v1.logging.set_verbosity instead.\n",
            "\n",
            "W0627 10:13:02.789954 140259507906432 deprecation_wrapper.py:119] From train.py:55: The name tf.logging.INFO is deprecated. Please use tf.compat.v1.logging.INFO instead.\n",
            "\n",
            "W0627 10:13:02.790612 140259507906432 deprecation_wrapper.py:119] From train.py:184: The name tf.app.run is deprecated. Please use tf.compat.v1.app.run instead.\n",
            "\n",
            "W0627 10:13:02.791147 140259507906432 deprecation.py:323] From /usr/local/lib/python3.6/dist-packages/absl/app.py:251: main (from __main__) is deprecated and will be removed in a future version.\n",
            "Instructions for updating:\n",
            "Use object_detection/model_main.py.\n",
            "W0627 10:13:02.791311 140259507906432 deprecation_wrapper.py:119] From train.py:90: The name tf.gfile.MakeDirs is deprecated. Please use tf.io.gfile.makedirs instead.\n",
            "\n",
            "W0627 10:13:02.791649 140259507906432 deprecation_wrapper.py:119] From /content/models/research/object_detection/utils/config_util.py:98: The name tf.gfile.GFile is deprecated. Please use tf.io.gfile.GFile instead.\n",
            "\n",
            "W0627 10:13:02.814399 140259507906432 deprecation_wrapper.py:119] From train.py:95: The name tf.gfile.Copy is deprecated. Please use tf.io.gfile.copy instead.\n",
            "\n",
            "W0627 10:13:02.823826 140259507906432 deprecation.py:323] From /content/models/research/object_detection/legacy/trainer.py:266: create_global_step (from tensorflow.contrib.framework.python.ops.variables) is deprecated and will be removed in a future version.\n",
            "Instructions for updating:\n",
            "Please switch to tf.train.create_global_step\n",
            "W0627 10:13:02.841902 140259507906432 deprecation_wrapper.py:119] From /content/models/research/object_detection/data_decoders/tf_example_decoder.py:177: The name tf.FixedLenFeature is deprecated. Please use tf.io.FixedLenFeature instead.\n",
            "\n",
            "W0627 10:13:02.856819 140259507906432 deprecation_wrapper.py:119] From /content/models/research/object_detection/data_decoders/tf_example_decoder.py:192: The name tf.VarLenFeature is deprecated. Please use tf.io.VarLenFeature instead.\n",
            "\n",
            "W0627 10:13:02.903406 140259507906432 deprecation_wrapper.py:119] From /content/models/research/object_detection/builders/dataset_builder.py:64: The name tf.gfile.Glob is deprecated. Please use tf.io.gfile.glob instead.\n",
            "\n",
            "W0627 10:13:02.910016 140259507906432 deprecation_wrapper.py:119] From /content/models/research/object_detection/builders/dataset_builder.py:71: The name tf.logging.warning is deprecated. Please use tf.compat.v1.logging.warning instead.\n",
            "\n",
            "W0627 10:13:02.910196 140259507906432 dataset_builder.py:72] num_readers has been reduced to 1 to match input file shards.\n",
            "W0627 10:13:02.918720 140259507906432 deprecation.py:323] From /content/models/research/object_detection/builders/dataset_builder.py:86: parallel_interleave (from tensorflow.contrib.data.python.ops.interleave_ops) is deprecated and will be removed in a future version.\n",
            "Instructions for updating:\n",
            "Use `tf.data.experimental.parallel_interleave(...)`.\n",
            "W0627 10:13:02.918940 140259507906432 deprecation.py:323] From /usr/local/lib/python3.6/dist-packages/tensorflow/contrib/data/python/ops/interleave_ops.py:77: parallel_interleave (from tensorflow.python.data.experimental.ops.interleave_ops) is deprecated and will be removed in a future version.\n",
            "Instructions for updating:\n",
            "Use `tf.data.Dataset.interleave(map_func, cycle_length, block_length, num_parallel_calls=tf.data.experimental.AUTOTUNE)` instead. If sloppy execution is desired, use `tf.data.Options.experimental_determinstic`.\n",
            "W0627 10:13:02.978136 140259507906432 deprecation.py:323] From /content/models/research/object_detection/builders/dataset_builder.py:155: DatasetV1.map_with_legacy_function (from tensorflow.python.data.ops.dataset_ops) is deprecated and will be removed in a future version.\n",
            "Instructions for updating:\n",
            "Use `tf.data.Dataset.map()\n",
            "W0627 10:13:03.434679 140259507906432 deprecation.py:323] From /content/models/research/object_detection/builders/dataset_builder.py:43: DatasetV1.make_initializable_iterator (from tensorflow.python.data.ops.dataset_ops) is deprecated and will be removed in a future version.\n",
            "Instructions for updating:\n",
            "Use `for ... in dataset:` to iterate over a dataset. If using `tf.estimator`, return the `Dataset` object directly from your input function. As a last resort, you can use `tf.compat.v1.data.make_initializable_iterator(dataset)`.\n",
            "W0627 10:13:03.442513 140259507906432 deprecation_wrapper.py:119] From /content/models/research/object_detection/builders/dataset_builder.py:44: The name tf.add_to_collection is deprecated. Please use tf.compat.v1.add_to_collection instead.\n",
            "\n",
            "W0627 10:13:03.447199 140259507906432 deprecation_wrapper.py:119] From /content/models/research/object_detection/core/preprocessor.py:512: The name tf.random_uniform is deprecated. Please use tf.random.uniform instead.\n",
            "\n",
            "W0627 10:13:03.570230 140259507906432 deprecation.py:323] From /content/models/research/object_detection/core/preprocessor.py:188: sample_distorted_bounding_box (from tensorflow.python.ops.image_ops_impl) is deprecated and will be removed in a future version.\n",
            "Instructions for updating:\n",
            "`seed2` arg is deprecated.Use sample_distorted_bounding_box_v2 instead.\n",
            "W0627 10:13:03.629422 140259507906432 deprecation.py:323] From /content/models/research/object_detection/core/box_list_ops.py:201: add_dispatch_support.<locals>.wrapper (from tensorflow.python.ops.array_ops) is deprecated and will be removed in a future version.\n",
            "Instructions for updating:\n",
            "Use tf.where in 2.0, which has the same broadcast rule as np.where\n",
            "W0627 10:13:04.887379 140259507906432 deprecation.py:323] From /content/models/research/object_detection/core/batcher.py:96: batch (from tensorflow.python.training.input) is deprecated and will be removed in a future version.\n",
            "Instructions for updating:\n",
            "Queue-based input pipelines have been replaced by `tf.data`. Use `tf.data.Dataset.batch(batch_size)` (or `padded_batch(...)` if `dynamic_pad=True`).\n",
            "W0627 10:13:04.892264 140259507906432 deprecation.py:323] From /usr/local/lib/python3.6/dist-packages/tensorflow/python/training/input.py:753: QueueRunner.__init__ (from tensorflow.python.training.queue_runner_impl) is deprecated and will be removed in a future version.\n",
            "Instructions for updating:\n",
            "To construct input pipelines, use the `tf.data` module.\n",
            "W0627 10:13:04.893434 140259507906432 deprecation.py:323] From /usr/local/lib/python3.6/dist-packages/tensorflow/python/training/input.py:753: add_queue_runner (from tensorflow.python.training.queue_runner_impl) is deprecated and will be removed in a future version.\n",
            "Instructions for updating:\n",
            "To construct input pipelines, use the `tf.data` module.\n",
            "W0627 10:13:04.904209 140259507906432 deprecation_wrapper.py:119] From /content/models/research/object_detection/core/prefetcher.py:58: The name tf.summary.scalar is deprecated. Please use tf.compat.v1.summary.scalar instead.\n",
            "\n",
            "W0627 10:13:05.867933 140259507906432 deprecation_wrapper.py:119] From /content/models/research/object_detection/core/preprocessor.py:2515: The name tf.image.resize_images is deprecated. Please use tf.image.resize instead.\n",
            "\n",
            "W0627 10:13:06.152827 140259507906432 deprecation.py:506] From /usr/local/lib/python3.6/dist-packages/tensorflow/python/ops/init_ops.py:1251: calling VarianceScaling.__init__ (from tensorflow.python.ops.init_ops) with dtype is deprecated and will be removed in a future version.\n",
            "Instructions for updating:\n",
            "Call initializer instance with the dtype argument instead of passing it to the constructor\n",
            "W0627 10:13:14.527808 140259507906432 deprecation_wrapper.py:119] From /content/models/research/object_detection/predictors/convolutional_box_predictor.py:150: The name tf.logging.info is deprecated. Please use tf.compat.v1.logging.info instead.\n",
            "\n",
            "I0627 10:13:14.528069 140259507906432 convolutional_box_predictor.py:151] depth of additional conv before box predictor: 0\n",
            "I0627 10:13:14.631925 140259507906432 convolutional_box_predictor.py:151] depth of additional conv before box predictor: 0\n",
            "I0627 10:13:14.682853 140259507906432 convolutional_box_predictor.py:151] depth of additional conv before box predictor: 0\n",
            "I0627 10:13:14.767275 140259507906432 convolutional_box_predictor.py:151] depth of additional conv before box predictor: 0\n",
            "I0627 10:13:14.831407 140259507906432 convolutional_box_predictor.py:151] depth of additional conv before box predictor: 0\n",
            "I0627 10:13:15.114248 140259507906432 convolutional_box_predictor.py:151] depth of additional conv before box predictor: 0\n",
            "W0627 10:13:19.311902 140259507906432 deprecation_wrapper.py:119] From /content/models/research/object_detection/core/losses.py:172: The name tf.losses.huber_loss is deprecated. Please use tf.compat.v1.losses.huber_loss instead.\n",
            "\n",
            "W0627 10:13:19.315833 140259507906432 deprecation_wrapper.py:119] From /content/models/research/object_detection/core/losses.py:178: The name tf.losses.Reduction is deprecated. Please use tf.compat.v1.losses.Reduction instead.\n",
            "\n",
            "W0627 10:13:20.219841 140259507906432 deprecation_wrapper.py:119] From /content/models/research/object_detection/legacy/trainer.py:208: The name tf.losses.add_loss is deprecated. Please use tf.compat.v1.losses.add_loss instead.\n",
            "\n",
            "W0627 10:13:20.220851 140259507906432 deprecation_wrapper.py:119] From /content/models/research/object_detection/builders/optimizer_builder.py:95: The name tf.train.get_or_create_global_step is deprecated. Please use tf.compat.v1.train.get_or_create_global_step instead.\n",
            "\n",
            "W0627 10:13:20.221110 140259507906432 deprecation_wrapper.py:119] From /content/models/research/object_detection/utils/learning_schedules.py:61: The name tf.train.exponential_decay is deprecated. Please use tf.compat.v1.train.exponential_decay instead.\n",
            "\n",
            "W0627 10:13:20.232054 140259507906432 deprecation_wrapper.py:119] From /content/models/research/object_detection/builders/optimizer_builder.py:47: The name tf.train.RMSPropOptimizer is deprecated. Please use tf.compat.v1.train.RMSPropOptimizer instead.\n",
            "\n",
            "W0627 10:13:24.722099 140259507906432 deprecation.py:506] From /usr/local/lib/python3.6/dist-packages/tensorflow/python/training/rmsprop.py:119: calling Ones.__init__ (from tensorflow.python.ops.init_ops) with dtype is deprecated and will be removed in a future version.\n",
            "Instructions for updating:\n",
            "Call initializer instance with the dtype argument instead of passing it to the constructor\n",
            "W0627 10:13:29.803517 140259507906432 deprecation.py:323] From /usr/local/lib/python3.6/dist-packages/tensorflow/python/training/moving_averages.py:433: Variable.initialized_value (from tensorflow.python.ops.variables) is deprecated and will be removed in a future version.\n",
            "Instructions for updating:\n",
            "Use Variable.read_value. Variables in 2.X are initialized automatically both in eager and graph (inside tf.defun) contexts.\n",
            "W0627 10:13:40.257925 140259507906432 deprecation_wrapper.py:119] From /content/models/research/object_detection/legacy/trainer.py:353: The name tf.summary.histogram is deprecated. Please use tf.compat.v1.summary.histogram instead.\n",
            "\n",
            "W0627 10:13:40.983915 140259507906432 deprecation_wrapper.py:119] From /content/models/research/object_detection/legacy/trainer.py:355: The name tf.losses.get_losses is deprecated. Please use tf.compat.v1.losses.get_losses instead.\n",
            "\n",
            "W0627 10:13:40.986563 140259507906432 deprecation_wrapper.py:119] From /content/models/research/object_detection/legacy/trainer.py:359: The name tf.losses.get_total_loss is deprecated. Please use tf.compat.v1.losses.get_total_loss instead.\n",
            "\n",
            "W0627 10:13:40.992544 140259507906432 deprecation_wrapper.py:119] From /content/models/research/object_detection/legacy/trainer.py:368: The name tf.summary.merge is deprecated. Please use tf.compat.v1.summary.merge instead.\n",
            "\n",
            "W0627 10:13:41.006634 140259507906432 deprecation_wrapper.py:119] From /content/models/research/object_detection/legacy/trainer.py:376: The name tf.train.Saver is deprecated. Please use tf.compat.v1.train.Saver instead.\n",
            "\n",
            "W0627 10:13:42.818860 140259507906432 deprecation_wrapper.py:119] From /content/models/research/object_detection/utils/variables_helper.py:134: The name tf.train.NewCheckpointReader is deprecated. Please use tf.compat.v1.train.NewCheckpointReader instead.\n",
            "\n",
            "W0627 10:13:42.829439 140259507906432 variables_helper.py:152] Variable [FeatureExtractor/InceptionV2/Conv2d_1a_7x7/BatchNorm/beta/ExponentialMovingAverage] is not available in checkpoint\n",
            "W0627 10:13:42.829674 140259507906432 variables_helper.py:152] Variable [FeatureExtractor/InceptionV2/Conv2d_1a_7x7/BatchNorm/beta/RMSProp] is not available in checkpoint\n",
            "W0627 10:13:42.829756 140259507906432 variables_helper.py:152] Variable [FeatureExtractor/InceptionV2/Conv2d_1a_7x7/BatchNorm/beta/RMSProp_1] is not available in checkpoint\n",
            "W0627 10:13:42.829826 140259507906432 variables_helper.py:152] Variable [FeatureExtractor/InceptionV2/Conv2d_1a_7x7/BatchNorm/gamma/ExponentialMovingAverage] is not available in checkpoint\n",
            "W0627 10:13:42.829888 140259507906432 variables_helper.py:152] Variable [FeatureExtractor/InceptionV2/Conv2d_1a_7x7/BatchNorm/gamma/RMSProp] is not available in checkpoint\n",
            "W0627 10:13:42.829945 140259507906432 variables_helper.py:152] Variable [FeatureExtractor/InceptionV2/Conv2d_1a_7x7/BatchNorm/gamma/RMSProp_1] is not available in checkpoint\n",
            "W0627 10:13:42.830015 140259507906432 variables_helper.py:152] Variable [FeatureExtractor/InceptionV2/Conv2d_1a_7x7/depthwise_weights/ExponentialMovingAverage] is not available in checkpoint\n",
            "W0627 10:13:42.830073 140259507906432 variables_helper.py:152] Variable [FeatureExtractor/InceptionV2/Conv2d_1a_7x7/depthwise_weights/RMSProp] is not available in checkpoint\n",
            "W0627 10:13:42.830129 140259507906432 variables_helper.py:152] Variable [FeatureExtractor/InceptionV2/Conv2d_1a_7x7/depthwise_weights/RMSProp_1] is not available in checkpoint\n",
            "W0627 10:13:42.830191 140259507906432 variables_helper.py:152] Variable [FeatureExtractor/InceptionV2/Conv2d_1a_7x7/pointwise_weights/ExponentialMovingAverage] is not available in checkpoint\n",
            "W0627 10:13:42.830248 140259507906432 variables_helper.py:152] Variable [FeatureExtractor/InceptionV2/Conv2d_1a_7x7/pointwise_weights/RMSProp] is not available in checkpoint\n",
            "W0627 10:13:42.830302 140259507906432 variables_helper.py:152] Variable [FeatureExtractor/InceptionV2/Conv2d_1a_7x7/pointwise_weights/RMSProp_1] is not available in checkpoint\n",
            "W0627 10:13:42.830360 140259507906432 variables_helper.py:152] Variable [FeatureExtractor/InceptionV2/Conv2d_2b_1x1/BatchNorm/beta/ExponentialMovingAverage] is not available in checkpoint\n",
            "W0627 10:13:42.830414 140259507906432 variables_helper.py:152] Variable [FeatureExtractor/InceptionV2/Conv2d_2b_1x1/BatchNorm/beta/RMSProp] is not available in checkpoint\n",
            "W0627 10:13:42.830485 140259507906432 variables_helper.py:152] Variable [FeatureExtractor/InceptionV2/Conv2d_2b_1x1/BatchNorm/beta/RMSProp_1] is not available in checkpoint\n",
            "W0627 10:13:42.830550 140259507906432 variables_helper.py:152] Variable [FeatureExtractor/InceptionV2/Conv2d_2b_1x1/BatchNorm/gamma/ExponentialMovingAverage] is not available in checkpoint\n",
            "W0627 10:13:42.830603 140259507906432 variables_helper.py:152] Variable [FeatureExtractor/InceptionV2/Conv2d_2b_1x1/BatchNorm/gamma/RMSProp] is not available in checkpoint\n",
            "W0627 10:13:42.830656 140259507906432 variables_helper.py:152] Variable [FeatureExtractor/InceptionV2/Conv2d_2b_1x1/BatchNorm/gamma/RMSProp_1] is not available in checkpoint\n",
            "W0627 10:13:42.830729 140259507906432 variables_helper.py:152] Variable [FeatureExtractor/InceptionV2/Conv2d_2b_1x1/weights/ExponentialMovingAverage] is not available in checkpoint\n",
            "W0627 10:13:42.830783 140259507906432 variables_helper.py:152] Variable [FeatureExtractor/InceptionV2/Conv2d_2b_1x1/weights/RMSProp] is not available in checkpoint\n",
            "W0627 10:13:42.830836 140259507906432 variables_helper.py:152] Variable [FeatureExtractor/InceptionV2/Conv2d_2b_1x1/weights/RMSProp_1] is not available in checkpoint\n",
            "W0627 10:13:42.830893 140259507906432 variables_helper.py:152] Variable [FeatureExtractor/InceptionV2/Conv2d_2c_3x3/BatchNorm/beta/ExponentialMovingAverage] is not available in checkpoint\n",
            "W0627 10:13:42.830945 140259507906432 variables_helper.py:152] Variable [FeatureExtractor/InceptionV2/Conv2d_2c_3x3/BatchNorm/beta/RMSProp] is not available in checkpoint\n",
            "W0627 10:13:42.830995 140259507906432 variables_helper.py:152] Variable [FeatureExtractor/InceptionV2/Conv2d_2c_3x3/BatchNorm/beta/RMSProp_1] is not available in checkpoint\n",
            "W0627 10:13:42.831051 140259507906432 variables_helper.py:152] Variable [FeatureExtractor/InceptionV2/Conv2d_2c_3x3/BatchNorm/gamma/ExponentialMovingAverage] is not available in checkpoint\n",
            "W0627 10:13:42.831101 140259507906432 variables_helper.py:152] Variable [FeatureExtractor/InceptionV2/Conv2d_2c_3x3/BatchNorm/gamma/RMSProp] is not available in checkpoint\n",
            "W0627 10:13:42.831153 140259507906432 variables_helper.py:152] Variable [FeatureExtractor/InceptionV2/Conv2d_2c_3x3/BatchNorm/gamma/RMSProp_1] is not available in checkpoint\n",
            "W0627 10:13:42.831219 140259507906432 variables_helper.py:152] Variable [FeatureExtractor/InceptionV2/Conv2d_2c_3x3/weights/ExponentialMovingAverage] is not available in checkpoint\n",
            "W0627 10:13:42.831272 140259507906432 variables_helper.py:152] Variable [FeatureExtractor/InceptionV2/Conv2d_2c_3x3/weights/RMSProp] is not available in checkpoint\n",
            "W0627 10:13:42.831324 140259507906432 variables_helper.py:152] Variable [FeatureExtractor/InceptionV2/Conv2d_2c_3x3/weights/RMSProp_1] is not available in checkpoint\n",
            "W0627 10:13:42.831381 140259507906432 variables_helper.py:152] Variable [FeatureExtractor/InceptionV2/Mixed_3b/Branch_0/Conv2d_0a_1x1/BatchNorm/beta/ExponentialMovingAverage] is not available in checkpoint\n",
            "W0627 10:13:42.831434 140259507906432 variables_helper.py:152] Variable [FeatureExtractor/InceptionV2/Mixed_3b/Branch_0/Conv2d_0a_1x1/BatchNorm/beta/RMSProp] is not available in checkpoint\n",
            "W0627 10:13:42.831511 140259507906432 variables_helper.py:152] Variable [FeatureExtractor/InceptionV2/Mixed_3b/Branch_0/Conv2d_0a_1x1/BatchNorm/beta/RMSProp_1] is not available in checkpoint\n",
            "W0627 10:13:42.831573 140259507906432 variables_helper.py:152] Variable [FeatureExtractor/InceptionV2/Mixed_3b/Branch_0/Conv2d_0a_1x1/BatchNorm/gamma/ExponentialMovingAverage] is not available in checkpoint\n",
            "W0627 10:13:42.831626 140259507906432 variables_helper.py:152] Variable [FeatureExtractor/InceptionV2/Mixed_3b/Branch_0/Conv2d_0a_1x1/BatchNorm/gamma/RMSProp] is not available in checkpoint\n",
            "W0627 10:13:42.831679 140259507906432 variables_helper.py:152] Variable [FeatureExtractor/InceptionV2/Mixed_3b/Branch_0/Conv2d_0a_1x1/BatchNorm/gamma/RMSProp_1] is not available in checkpoint\n",
            "W0627 10:13:42.831752 140259507906432 variables_helper.py:152] Variable [FeatureExtractor/InceptionV2/Mixed_3b/Branch_0/Conv2d_0a_1x1/weights/ExponentialMovingAverage] is not available in checkpoint\n",
            "W0627 10:13:42.831805 140259507906432 variables_helper.py:152] Variable [FeatureExtractor/InceptionV2/Mixed_3b/Branch_0/Conv2d_0a_1x1/weights/RMSProp] is not available in checkpoint\n",
            "W0627 10:13:42.831857 140259507906432 variables_helper.py:152] Variable [FeatureExtractor/InceptionV2/Mixed_3b/Branch_0/Conv2d_0a_1x1/weights/RMSProp_1] is not available in checkpoint\n",
            "W0627 10:13:42.831935 140259507906432 variables_helper.py:152] Variable [FeatureExtractor/InceptionV2/Mixed_3b/Branch_1/Conv2d_0a_1x1/BatchNorm/beta/ExponentialMovingAverage] is not available in checkpoint\n",
            "W0627 10:13:42.831990 140259507906432 variables_helper.py:152] Variable [FeatureExtractor/InceptionV2/Mixed_3b/Branch_1/Conv2d_0a_1x1/BatchNorm/beta/RMSProp] is not available in checkpoint\n",
            "W0627 10:13:42.832070 140259507906432 variables_helper.py:152] Variable [FeatureExtractor/InceptionV2/Mixed_3b/Branch_1/Conv2d_0a_1x1/BatchNorm/beta/RMSProp_1] is not available in checkpoint\n",
            "W0627 10:13:42.832133 140259507906432 variables_helper.py:152] Variable [FeatureExtractor/InceptionV2/Mixed_3b/Branch_1/Conv2d_0a_1x1/BatchNorm/gamma/ExponentialMovingAverage] is not available in checkpoint\n",
            "W0627 10:13:42.832192 140259507906432 variables_helper.py:152] Variable [FeatureExtractor/InceptionV2/Mixed_3b/Branch_1/Conv2d_0a_1x1/BatchNorm/gamma/RMSProp] is not available in checkpoint\n",
            "W0627 10:13:42.832251 140259507906432 variables_helper.py:152] Variable [FeatureExtractor/InceptionV2/Mixed_3b/Branch_1/Conv2d_0a_1x1/BatchNorm/gamma/RMSProp_1] is not available in checkpoint\n",
            "W0627 10:13:42.832324 140259507906432 variables_helper.py:152] Variable [FeatureExtractor/InceptionV2/Mixed_3b/Branch_1/Conv2d_0a_1x1/weights/ExponentialMovingAverage] is not available in checkpoint\n",
            "W0627 10:13:42.832382 140259507906432 variables_helper.py:152] Variable [FeatureExtractor/InceptionV2/Mixed_3b/Branch_1/Conv2d_0a_1x1/weights/RMSProp] is not available in checkpoint\n",
            "W0627 10:13:42.832441 140259507906432 variables_helper.py:152] Variable [FeatureExtractor/InceptionV2/Mixed_3b/Branch_1/Conv2d_0a_1x1/weights/RMSProp_1] is not available in checkpoint\n",
            "W0627 10:13:42.832568 140259507906432 variables_helper.py:152] Variable [FeatureExtractor/InceptionV2/Mixed_3b/Branch_1/Conv2d_0b_3x3/BatchNorm/beta/ExponentialMovingAverage] is not available in checkpoint\n",
            "W0627 10:13:42.832628 140259507906432 variables_helper.py:152] Variable [FeatureExtractor/InceptionV2/Mixed_3b/Branch_1/Conv2d_0b_3x3/BatchNorm/beta/RMSProp] is not available in checkpoint\n",
            "W0627 10:13:42.832694 140259507906432 variables_helper.py:152] Variable [FeatureExtractor/InceptionV2/Mixed_3b/Branch_1/Conv2d_0b_3x3/BatchNorm/beta/RMSProp_1] is not available in checkpoint\n",
            "W0627 10:13:42.832758 140259507906432 variables_helper.py:152] Variable [FeatureExtractor/InceptionV2/Mixed_3b/Branch_1/Conv2d_0b_3x3/BatchNorm/gamma/ExponentialMovingAverage] is not available in checkpoint\n",
            "W0627 10:13:42.832816 140259507906432 variables_helper.py:152] Variable [FeatureExtractor/InceptionV2/Mixed_3b/Branch_1/Conv2d_0b_3x3/BatchNorm/gamma/RMSProp] is not available in checkpoint\n",
            "W0627 10:13:42.832874 140259507906432 variables_helper.py:152] Variable [FeatureExtractor/InceptionV2/Mixed_3b/Branch_1/Conv2d_0b_3x3/BatchNorm/gamma/RMSProp_1] is not available in checkpoint\n",
            "W0627 10:13:42.832945 140259507906432 variables_helper.py:152] Variable [FeatureExtractor/InceptionV2/Mixed_3b/Branch_1/Conv2d_0b_3x3/weights/ExponentialMovingAverage] is not available in checkpoint\n",
            "W0627 10:13:42.833005 140259507906432 variables_helper.py:152] Variable [FeatureExtractor/InceptionV2/Mixed_3b/Branch_1/Conv2d_0b_3x3/weights/RMSProp] is not available in checkpoint\n",
            "W0627 10:13:42.833072 140259507906432 variables_helper.py:152] Variable [FeatureExtractor/InceptionV2/Mixed_3b/Branch_1/Conv2d_0b_3x3/weights/RMSProp_1] is not available in checkpoint\n",
            "W0627 10:13:42.833142 140259507906432 variables_helper.py:152] Variable [FeatureExtractor/InceptionV2/Mixed_3b/Branch_2/Conv2d_0a_1x1/BatchNorm/beta/ExponentialMovingAverage] is not available in checkpoint\n",
            "W0627 10:13:42.833193 140259507906432 variables_helper.py:152] Variable [FeatureExtractor/InceptionV2/Mixed_3b/Branch_2/Conv2d_0a_1x1/BatchNorm/beta/RMSProp] is not available in checkpoint\n",
            "W0627 10:13:42.833245 140259507906432 variables_helper.py:152] Variable [FeatureExtractor/InceptionV2/Mixed_3b/Branch_2/Conv2d_0a_1x1/BatchNorm/beta/RMSProp_1] is not available in checkpoint\n",
            "W0627 10:13:42.833300 140259507906432 variables_helper.py:152] Variable [FeatureExtractor/InceptionV2/Mixed_3b/Branch_2/Conv2d_0a_1x1/BatchNorm/gamma/ExponentialMovingAverage] is not available in checkpoint\n",
            "W0627 10:13:42.833351 140259507906432 variables_helper.py:152] Variable [FeatureExtractor/InceptionV2/Mixed_3b/Branch_2/Conv2d_0a_1x1/BatchNorm/gamma/RMSProp] is not available in checkpoint\n",
            "W0627 10:13:42.833401 140259507906432 variables_helper.py:152] Variable [FeatureExtractor/InceptionV2/Mixed_3b/Branch_2/Conv2d_0a_1x1/BatchNorm/gamma/RMSProp_1] is not available in checkpoint\n",
            "W0627 10:13:42.833480 140259507906432 variables_helper.py:152] Variable [FeatureExtractor/InceptionV2/Mixed_3b/Branch_2/Conv2d_0a_1x1/weights/ExponentialMovingAverage] is not available in checkpoint\n",
            "W0627 10:13:42.833563 140259507906432 variables_helper.py:152] Variable [FeatureExtractor/InceptionV2/Mixed_3b/Branch_2/Conv2d_0a_1x1/weights/RMSProp] is not available in checkpoint\n",
            "W0627 10:13:42.833622 140259507906432 variables_helper.py:152] Variable [FeatureExtractor/InceptionV2/Mixed_3b/Branch_2/Conv2d_0a_1x1/weights/RMSProp_1] is not available in checkpoint\n",
            "W0627 10:13:42.833692 140259507906432 variables_helper.py:152] Variable [FeatureExtractor/InceptionV2/Mixed_3b/Branch_2/Conv2d_0b_3x3/BatchNorm/beta/ExponentialMovingAverage] is not available in checkpoint\n",
            "W0627 10:13:42.833752 140259507906432 variables_helper.py:152] Variable [FeatureExtractor/InceptionV2/Mixed_3b/Branch_2/Conv2d_0b_3x3/BatchNorm/beta/RMSProp] is not available in checkpoint\n",
            "W0627 10:13:42.833810 140259507906432 variables_helper.py:152] Variable [FeatureExtractor/InceptionV2/Mixed_3b/Branch_2/Conv2d_0b_3x3/BatchNorm/beta/RMSProp_1] is not available in checkpoint\n",
            "W0627 10:13:42.833874 140259507906432 variables_helper.py:152] Variable [FeatureExtractor/InceptionV2/Mixed_3b/Branch_2/Conv2d_0b_3x3/BatchNorm/gamma/ExponentialMovingAverage] is not available in checkpoint\n",
            "W0627 10:13:42.833944 140259507906432 variables_helper.py:152] Variable [FeatureExtractor/InceptionV2/Mixed_3b/Branch_2/Conv2d_0b_3x3/BatchNorm/gamma/RMSProp] is not available in checkpoint\n",
            "W0627 10:13:42.833999 140259507906432 variables_helper.py:152] Variable [FeatureExtractor/InceptionV2/Mixed_3b/Branch_2/Conv2d_0b_3x3/BatchNorm/gamma/RMSProp_1] is not available in checkpoint\n",
            "W0627 10:13:42.834067 140259507906432 variables_helper.py:152] Variable [FeatureExtractor/InceptionV2/Mixed_3b/Branch_2/Conv2d_0b_3x3/weights/ExponentialMovingAverage] is not available in checkpoint\n",
            "W0627 10:13:42.834122 140259507906432 variables_helper.py:152] Variable [FeatureExtractor/InceptionV2/Mixed_3b/Branch_2/Conv2d_0b_3x3/weights/RMSProp] is not available in checkpoint\n",
            "W0627 10:13:42.834196 140259507906432 variables_helper.py:152] Variable [FeatureExtractor/InceptionV2/Mixed_3b/Branch_2/Conv2d_0b_3x3/weights/RMSProp_1] is not available in checkpoint\n",
            "W0627 10:13:42.834261 140259507906432 variables_helper.py:152] Variable [FeatureExtractor/InceptionV2/Mixed_3b/Branch_2/Conv2d_0c_3x3/BatchNorm/beta/ExponentialMovingAverage] is not available in checkpoint\n",
            "W0627 10:13:42.834320 140259507906432 variables_helper.py:152] Variable [FeatureExtractor/InceptionV2/Mixed_3b/Branch_2/Conv2d_0c_3x3/BatchNorm/beta/RMSProp] is not available in checkpoint\n",
            "W0627 10:13:42.834406 140259507906432 variables_helper.py:152] Variable [FeatureExtractor/InceptionV2/Mixed_3b/Branch_2/Conv2d_0c_3x3/BatchNorm/beta/RMSProp_1] is not available in checkpoint\n",
            "W0627 10:13:42.834483 140259507906432 variables_helper.py:152] Variable [FeatureExtractor/InceptionV2/Mixed_3b/Branch_2/Conv2d_0c_3x3/BatchNorm/gamma/ExponentialMovingAverage] is not available in checkpoint\n",
            "W0627 10:13:42.834558 140259507906432 variables_helper.py:152] Variable [FeatureExtractor/InceptionV2/Mixed_3b/Branch_2/Conv2d_0c_3x3/BatchNorm/gamma/RMSProp] is not available in checkpoint\n",
            "W0627 10:13:42.834624 140259507906432 variables_helper.py:152] Variable [FeatureExtractor/InceptionV2/Mixed_3b/Branch_2/Conv2d_0c_3x3/BatchNorm/gamma/RMSProp_1] is not available in checkpoint\n",
            "W0627 10:13:42.834698 140259507906432 variables_helper.py:152] Variable [FeatureExtractor/InceptionV2/Mixed_3b/Branch_2/Conv2d_0c_3x3/weights/ExponentialMovingAverage] is not available in checkpoint\n",
            "W0627 10:13:42.834752 140259507906432 variables_helper.py:152] Variable [FeatureExtractor/InceptionV2/Mixed_3b/Branch_2/Conv2d_0c_3x3/weights/RMSProp] is not available in checkpoint\n",
            "W0627 10:13:42.834803 140259507906432 variables_helper.py:152] Variable [FeatureExtractor/InceptionV2/Mixed_3b/Branch_2/Conv2d_0c_3x3/weights/RMSProp_1] is not available in checkpoint\n",
            "W0627 10:13:42.834859 140259507906432 variables_helper.py:152] Variable [FeatureExtractor/InceptionV2/Mixed_3b/Branch_3/Conv2d_0b_1x1/BatchNorm/beta/ExponentialMovingAverage] is not available in checkpoint\n",
            "W0627 10:13:42.834910 140259507906432 variables_helper.py:152] Variable [FeatureExtractor/InceptionV2/Mixed_3b/Branch_3/Conv2d_0b_1x1/BatchNorm/beta/RMSProp] is not available in checkpoint\n",
            "W0627 10:13:42.881253 140259507906432 variables_helper.py:152] Variable [FeatureExtractor/InceptionV2/Mixed_3b/Branch_3/Conv2d_0b_1x1/BatchNorm/beta/RMSProp_1] is not available in checkpoint\n",
            "W0627 10:13:42.882360 140259507906432 variables_helper.py:152] Variable [FeatureExtractor/InceptionV2/Mixed_3b/Branch_3/Conv2d_0b_1x1/BatchNorm/gamma/ExponentialMovingAverage] is not available in checkpoint\n",
            "W0627 10:13:42.882766 140259507906432 variables_helper.py:152] Variable [FeatureExtractor/InceptionV2/Mixed_3b/Branch_3/Conv2d_0b_1x1/BatchNorm/gamma/RMSProp] is not available in checkpoint\n",
            "W0627 10:13:42.882879 140259507906432 variables_helper.py:152] Variable [FeatureExtractor/InceptionV2/Mixed_3b/Branch_3/Conv2d_0b_1x1/BatchNorm/gamma/RMSProp_1] is not available in checkpoint\n",
            "W0627 10:13:42.882976 140259507906432 variables_helper.py:152] Variable [FeatureExtractor/InceptionV2/Mixed_3b/Branch_3/Conv2d_0b_1x1/weights/ExponentialMovingAverage] is not available in checkpoint\n",
            "W0627 10:13:42.883054 140259507906432 variables_helper.py:152] Variable [FeatureExtractor/InceptionV2/Mixed_3b/Branch_3/Conv2d_0b_1x1/weights/RMSProp] is not available in checkpoint\n",
            "W0627 10:13:42.883604 140259507906432 variables_helper.py:152] Variable [FeatureExtractor/InceptionV2/Mixed_3b/Branch_3/Conv2d_0b_1x1/weights/RMSProp_1] is not available in checkpoint\n",
            "W0627 10:13:42.883732 140259507906432 variables_helper.py:152] Variable [FeatureExtractor/InceptionV2/Mixed_3c/Branch_0/Conv2d_0a_1x1/BatchNorm/beta/ExponentialMovingAverage] is not available in checkpoint\n",
            "W0627 10:13:42.883911 140259507906432 variables_helper.py:152] Variable [FeatureExtractor/InceptionV2/Mixed_3c/Branch_0/Conv2d_0a_1x1/BatchNorm/beta/RMSProp] is not available in checkpoint\n",
            "W0627 10:13:42.884663 140259507906432 variables_helper.py:152] Variable [FeatureExtractor/InceptionV2/Mixed_3c/Branch_0/Conv2d_0a_1x1/BatchNorm/beta/RMSProp_1] is not available in checkpoint\n",
            "W0627 10:13:42.884779 140259507906432 variables_helper.py:152] Variable [FeatureExtractor/InceptionV2/Mixed_3c/Branch_0/Conv2d_0a_1x1/BatchNorm/gamma/ExponentialMovingAverage] is not available in checkpoint\n",
            "W0627 10:13:42.885446 140259507906432 variables_helper.py:152] Variable [FeatureExtractor/InceptionV2/Mixed_3c/Branch_0/Conv2d_0a_1x1/BatchNorm/gamma/RMSProp] is not available in checkpoint\n",
            "W0627 10:13:42.885560 140259507906432 variables_helper.py:152] Variable [FeatureExtractor/InceptionV2/Mixed_3c/Branch_0/Conv2d_0a_1x1/BatchNorm/gamma/RMSProp_1] is not available in checkpoint\n",
            "W0627 10:13:42.885641 140259507906432 variables_helper.py:152] Variable [FeatureExtractor/InceptionV2/Mixed_3c/Branch_0/Conv2d_0a_1x1/weights/ExponentialMovingAverage] is not available in checkpoint\n",
            "W0627 10:13:42.885706 140259507906432 variables_helper.py:152] Variable [FeatureExtractor/InceptionV2/Mixed_3c/Branch_0/Conv2d_0a_1x1/weights/RMSProp] is not available in checkpoint\n",
            "W0627 10:13:42.885761 140259507906432 variables_helper.py:152] Variable [FeatureExtractor/InceptionV2/Mixed_3c/Branch_0/Conv2d_0a_1x1/weights/RMSProp_1] is not available in checkpoint\n",
            "W0627 10:13:42.885819 140259507906432 variables_helper.py:152] Variable [FeatureExtractor/InceptionV2/Mixed_3c/Branch_1/Conv2d_0a_1x1/BatchNorm/beta/ExponentialMovingAverage] is not available in checkpoint\n",
            "W0627 10:13:42.885872 140259507906432 variables_helper.py:152] Variable [FeatureExtractor/InceptionV2/Mixed_3c/Branch_1/Conv2d_0a_1x1/BatchNorm/beta/RMSProp] is not available in checkpoint\n",
            "W0627 10:13:42.885923 140259507906432 variables_helper.py:152] Variable [FeatureExtractor/InceptionV2/Mixed_3c/Branch_1/Conv2d_0a_1x1/BatchNorm/beta/RMSProp_1] is not available in checkpoint\n",
            "W0627 10:13:42.885979 140259507906432 variables_helper.py:152] Variable [FeatureExtractor/InceptionV2/Mixed_3c/Branch_1/Conv2d_0a_1x1/BatchNorm/gamma/ExponentialMovingAverage] is not available in checkpoint\n",
            "W0627 10:13:42.886030 140259507906432 variables_helper.py:152] Variable [FeatureExtractor/InceptionV2/Mixed_3c/Branch_1/Conv2d_0a_1x1/BatchNorm/gamma/RMSProp] is not available in checkpoint\n",
            "W0627 10:13:42.886081 140259507906432 variables_helper.py:152] Variable [FeatureExtractor/InceptionV2/Mixed_3c/Branch_1/Conv2d_0a_1x1/BatchNorm/gamma/RMSProp_1] is not available in checkpoint\n",
            "W0627 10:13:42.886146 140259507906432 variables_helper.py:152] Variable [FeatureExtractor/InceptionV2/Mixed_3c/Branch_1/Conv2d_0a_1x1/weights/ExponentialMovingAverage] is not available in checkpoint\n",
            "W0627 10:13:42.886198 140259507906432 variables_helper.py:152] Variable [FeatureExtractor/InceptionV2/Mixed_3c/Branch_1/Conv2d_0a_1x1/weights/RMSProp] is not available in checkpoint\n",
            "W0627 10:13:42.886250 140259507906432 variables_helper.py:152] Variable [FeatureExtractor/InceptionV2/Mixed_3c/Branch_1/Conv2d_0a_1x1/weights/RMSProp_1] is not available in checkpoint\n",
            "W0627 10:13:42.886306 140259507906432 variables_helper.py:152] Variable [FeatureExtractor/InceptionV2/Mixed_3c/Branch_1/Conv2d_0b_3x3/BatchNorm/beta/ExponentialMovingAverage] is not available in checkpoint\n",
            "W0627 10:13:42.886358 140259507906432 variables_helper.py:152] Variable [FeatureExtractor/InceptionV2/Mixed_3c/Branch_1/Conv2d_0b_3x3/BatchNorm/beta/RMSProp] is not available in checkpoint\n",
            "W0627 10:13:42.886408 140259507906432 variables_helper.py:152] Variable [FeatureExtractor/InceptionV2/Mixed_3c/Branch_1/Conv2d_0b_3x3/BatchNorm/beta/RMSProp_1] is not available in checkpoint\n",
            "W0627 10:13:42.886476 140259507906432 variables_helper.py:152] Variable [FeatureExtractor/InceptionV2/Mixed_3c/Branch_1/Conv2d_0b_3x3/BatchNorm/gamma/ExponentialMovingAverage] is not available in checkpoint\n",
            "W0627 10:13:42.886533 140259507906432 variables_helper.py:152] Variable [FeatureExtractor/InceptionV2/Mixed_3c/Branch_1/Conv2d_0b_3x3/BatchNorm/gamma/RMSProp] is not available in checkpoint\n",
            "W0627 10:13:42.886584 140259507906432 variables_helper.py:152] Variable [FeatureExtractor/InceptionV2/Mixed_3c/Branch_1/Conv2d_0b_3x3/BatchNorm/gamma/RMSProp_1] is not available in checkpoint\n",
            "W0627 10:13:42.886651 140259507906432 variables_helper.py:152] Variable [FeatureExtractor/InceptionV2/Mixed_3c/Branch_1/Conv2d_0b_3x3/weights/ExponentialMovingAverage] is not available in checkpoint\n",
            "W0627 10:13:42.886709 140259507906432 variables_helper.py:152] Variable [FeatureExtractor/InceptionV2/Mixed_3c/Branch_1/Conv2d_0b_3x3/weights/RMSProp] is not available in checkpoint\n",
            "W0627 10:13:42.886760 140259507906432 variables_helper.py:152] Variable [FeatureExtractor/InceptionV2/Mixed_3c/Branch_1/Conv2d_0b_3x3/weights/RMSProp_1] is not available in checkpoint\n",
            "W0627 10:13:42.886816 140259507906432 variables_helper.py:152] Variable [FeatureExtractor/InceptionV2/Mixed_3c/Branch_2/Conv2d_0a_1x1/BatchNorm/beta/ExponentialMovingAverage] is not available in checkpoint\n",
            "W0627 10:13:42.886866 140259507906432 variables_helper.py:152] Variable [FeatureExtractor/InceptionV2/Mixed_3c/Branch_2/Conv2d_0a_1x1/BatchNorm/beta/RMSProp] is not available in checkpoint\n",
            "W0627 10:13:42.886916 140259507906432 variables_helper.py:152] Variable [FeatureExtractor/InceptionV2/Mixed_3c/Branch_2/Conv2d_0a_1x1/BatchNorm/beta/RMSProp_1] is not available in checkpoint\n",
            "W0627 10:13:42.886971 140259507906432 variables_helper.py:152] Variable [FeatureExtractor/InceptionV2/Mixed_3c/Branch_2/Conv2d_0a_1x1/BatchNorm/gamma/ExponentialMovingAverage] is not available in checkpoint\n",
            "W0627 10:13:42.887022 140259507906432 variables_helper.py:152] Variable [FeatureExtractor/InceptionV2/Mixed_3c/Branch_2/Conv2d_0a_1x1/BatchNorm/gamma/RMSProp] is not available in checkpoint\n",
            "W0627 10:13:42.887072 140259507906432 variables_helper.py:152] Variable [FeatureExtractor/InceptionV2/Mixed_3c/Branch_2/Conv2d_0a_1x1/BatchNorm/gamma/RMSProp_1] is not available in checkpoint\n",
            "W0627 10:13:42.887135 140259507906432 variables_helper.py:152] Variable [FeatureExtractor/InceptionV2/Mixed_3c/Branch_2/Conv2d_0a_1x1/weights/ExponentialMovingAverage] is not available in checkpoint\n",
            "W0627 10:13:42.887187 140259507906432 variables_helper.py:152] Variable [FeatureExtractor/InceptionV2/Mixed_3c/Branch_2/Conv2d_0a_1x1/weights/RMSProp] is not available in checkpoint\n",
            "W0627 10:13:42.887240 140259507906432 variables_helper.py:152] Variable [FeatureExtractor/InceptionV2/Mixed_3c/Branch_2/Conv2d_0a_1x1/weights/RMSProp_1] is not available in checkpoint\n",
            "W0627 10:13:42.887295 140259507906432 variables_helper.py:152] Variable [FeatureExtractor/InceptionV2/Mixed_3c/Branch_2/Conv2d_0b_3x3/BatchNorm/beta/ExponentialMovingAverage] is not available in checkpoint\n",
            "W0627 10:13:42.887346 140259507906432 variables_helper.py:152] Variable [FeatureExtractor/InceptionV2/Mixed_3c/Branch_2/Conv2d_0b_3x3/BatchNorm/beta/RMSProp] is not available in checkpoint\n",
            "W0627 10:13:42.887395 140259507906432 variables_helper.py:152] Variable [FeatureExtractor/InceptionV2/Mixed_3c/Branch_2/Conv2d_0b_3x3/BatchNorm/beta/RMSProp_1] is not available in checkpoint\n",
            "W0627 10:13:42.887449 140259507906432 variables_helper.py:152] Variable [FeatureExtractor/InceptionV2/Mixed_3c/Branch_2/Conv2d_0b_3x3/BatchNorm/gamma/ExponentialMovingAverage] is not available in checkpoint\n",
            "W0627 10:13:42.887516 140259507906432 variables_helper.py:152] Variable [FeatureExtractor/InceptionV2/Mixed_3c/Branch_2/Conv2d_0b_3x3/BatchNorm/gamma/RMSProp] is not available in checkpoint\n",
            "W0627 10:13:42.887567 140259507906432 variables_helper.py:152] Variable [FeatureExtractor/InceptionV2/Mixed_3c/Branch_2/Conv2d_0b_3x3/BatchNorm/gamma/RMSProp_1] is not available in checkpoint\n",
            "W0627 10:13:42.887632 140259507906432 variables_helper.py:152] Variable [FeatureExtractor/InceptionV2/Mixed_3c/Branch_2/Conv2d_0b_3x3/weights/ExponentialMovingAverage] is not available in checkpoint\n",
            "W0627 10:13:42.887696 140259507906432 variables_helper.py:152] Variable [FeatureExtractor/InceptionV2/Mixed_3c/Branch_2/Conv2d_0b_3x3/weights/RMSProp] is not available in checkpoint\n",
            "W0627 10:13:42.887748 140259507906432 variables_helper.py:152] Variable [FeatureExtractor/InceptionV2/Mixed_3c/Branch_2/Conv2d_0b_3x3/weights/RMSProp_1] is not available in checkpoint\n",
            "W0627 10:13:42.887803 140259507906432 variables_helper.py:152] Variable [FeatureExtractor/InceptionV2/Mixed_3c/Branch_2/Conv2d_0c_3x3/BatchNorm/beta/ExponentialMovingAverage] is not available in checkpoint\n",
            "W0627 10:13:42.887854 140259507906432 variables_helper.py:152] Variable [FeatureExtractor/InceptionV2/Mixed_3c/Branch_2/Conv2d_0c_3x3/BatchNorm/beta/RMSProp] is not available in checkpoint\n",
            "W0627 10:13:42.887903 140259507906432 variables_helper.py:152] Variable [FeatureExtractor/InceptionV2/Mixed_3c/Branch_2/Conv2d_0c_3x3/BatchNorm/beta/RMSProp_1] is not available in checkpoint\n",
            "W0627 10:13:42.887957 140259507906432 variables_helper.py:152] Variable [FeatureExtractor/InceptionV2/Mixed_3c/Branch_2/Conv2d_0c_3x3/BatchNorm/gamma/ExponentialMovingAverage] is not available in checkpoint\n",
            "W0627 10:13:42.888007 140259507906432 variables_helper.py:152] Variable [FeatureExtractor/InceptionV2/Mixed_3c/Branch_2/Conv2d_0c_3x3/BatchNorm/gamma/RMSProp] is not available in checkpoint\n",
            "W0627 10:13:42.888057 140259507906432 variables_helper.py:152] Variable [FeatureExtractor/InceptionV2/Mixed_3c/Branch_2/Conv2d_0c_3x3/BatchNorm/gamma/RMSProp_1] is not available in checkpoint\n",
            "W0627 10:13:42.888123 140259507906432 variables_helper.py:152] Variable [FeatureExtractor/InceptionV2/Mixed_3c/Branch_2/Conv2d_0c_3x3/weights/ExponentialMovingAverage] is not available in checkpoint\n",
            "W0627 10:13:42.888174 140259507906432 variables_helper.py:152] Variable [FeatureExtractor/InceptionV2/Mixed_3c/Branch_2/Conv2d_0c_3x3/weights/RMSProp] is not available in checkpoint\n",
            "W0627 10:13:42.888225 140259507906432 variables_helper.py:152] Variable [FeatureExtractor/InceptionV2/Mixed_3c/Branch_2/Conv2d_0c_3x3/weights/RMSProp_1] is not available in checkpoint\n",
            "W0627 10:13:42.888281 140259507906432 variables_helper.py:152] Variable [FeatureExtractor/InceptionV2/Mixed_3c/Branch_3/Conv2d_0b_1x1/BatchNorm/beta/ExponentialMovingAverage] is not available in checkpoint\n",
            "W0627 10:13:42.888332 140259507906432 variables_helper.py:152] Variable [FeatureExtractor/InceptionV2/Mixed_3c/Branch_3/Conv2d_0b_1x1/BatchNorm/beta/RMSProp] is not available in checkpoint\n",
            "W0627 10:13:42.888382 140259507906432 variables_helper.py:152] Variable [FeatureExtractor/InceptionV2/Mixed_3c/Branch_3/Conv2d_0b_1x1/BatchNorm/beta/RMSProp_1] is not available in checkpoint\n",
            "W0627 10:13:42.888437 140259507906432 variables_helper.py:152] Variable [FeatureExtractor/InceptionV2/Mixed_3c/Branch_3/Conv2d_0b_1x1/BatchNorm/gamma/ExponentialMovingAverage] is not available in checkpoint\n",
            "W0627 10:13:42.888501 140259507906432 variables_helper.py:152] Variable [FeatureExtractor/InceptionV2/Mixed_3c/Branch_3/Conv2d_0b_1x1/BatchNorm/gamma/RMSProp] is not available in checkpoint\n",
            "W0627 10:13:42.888552 140259507906432 variables_helper.py:152] Variable [FeatureExtractor/InceptionV2/Mixed_3c/Branch_3/Conv2d_0b_1x1/BatchNorm/gamma/RMSProp_1] is not available in checkpoint\n",
            "W0627 10:13:42.888621 140259507906432 variables_helper.py:152] Variable [FeatureExtractor/InceptionV2/Mixed_3c/Branch_3/Conv2d_0b_1x1/weights/ExponentialMovingAverage] is not available in checkpoint\n",
            "W0627 10:13:42.888672 140259507906432 variables_helper.py:152] Variable [FeatureExtractor/InceptionV2/Mixed_3c/Branch_3/Conv2d_0b_1x1/weights/RMSProp] is not available in checkpoint\n",
            "W0627 10:13:42.888729 140259507906432 variables_helper.py:152] Variable [FeatureExtractor/InceptionV2/Mixed_3c/Branch_3/Conv2d_0b_1x1/weights/RMSProp_1] is not available in checkpoint\n",
            "W0627 10:13:42.888785 140259507906432 variables_helper.py:152] Variable [FeatureExtractor/InceptionV2/Mixed_4a/Branch_0/Conv2d_0a_1x1/BatchNorm/beta/ExponentialMovingAverage] is not available in checkpoint\n",
            "W0627 10:13:42.888836 140259507906432 variables_helper.py:152] Variable [FeatureExtractor/InceptionV2/Mixed_4a/Branch_0/Conv2d_0a_1x1/BatchNorm/beta/RMSProp] is not available in checkpoint\n",
            "W0627 10:13:42.888886 140259507906432 variables_helper.py:152] Variable [FeatureExtractor/InceptionV2/Mixed_4a/Branch_0/Conv2d_0a_1x1/BatchNorm/beta/RMSProp_1] is not available in checkpoint\n",
            "W0627 10:13:42.888942 140259507906432 variables_helper.py:152] Variable [FeatureExtractor/InceptionV2/Mixed_4a/Branch_0/Conv2d_0a_1x1/BatchNorm/gamma/ExponentialMovingAverage] is not available in checkpoint\n",
            "W0627 10:13:42.888992 140259507906432 variables_helper.py:152] Variable [FeatureExtractor/InceptionV2/Mixed_4a/Branch_0/Conv2d_0a_1x1/BatchNorm/gamma/RMSProp] is not available in checkpoint\n",
            "W0627 10:13:42.889042 140259507906432 variables_helper.py:152] Variable [FeatureExtractor/InceptionV2/Mixed_4a/Branch_0/Conv2d_0a_1x1/BatchNorm/gamma/RMSProp_1] is not available in checkpoint\n",
            "W0627 10:13:42.889105 140259507906432 variables_helper.py:152] Variable [FeatureExtractor/InceptionV2/Mixed_4a/Branch_0/Conv2d_0a_1x1/weights/ExponentialMovingAverage] is not available in checkpoint\n",
            "W0627 10:13:42.889156 140259507906432 variables_helper.py:152] Variable [FeatureExtractor/InceptionV2/Mixed_4a/Branch_0/Conv2d_0a_1x1/weights/RMSProp] is not available in checkpoint\n",
            "W0627 10:13:42.889207 140259507906432 variables_helper.py:152] Variable [FeatureExtractor/InceptionV2/Mixed_4a/Branch_0/Conv2d_0a_1x1/weights/RMSProp_1] is not available in checkpoint\n",
            "W0627 10:13:42.889264 140259507906432 variables_helper.py:152] Variable [FeatureExtractor/InceptionV2/Mixed_4a/Branch_0/Conv2d_1a_3x3/BatchNorm/beta/ExponentialMovingAverage] is not available in checkpoint\n",
            "W0627 10:13:42.889315 140259507906432 variables_helper.py:152] Variable [FeatureExtractor/InceptionV2/Mixed_4a/Branch_0/Conv2d_1a_3x3/BatchNorm/beta/RMSProp] is not available in checkpoint\n",
            "W0627 10:13:42.889364 140259507906432 variables_helper.py:152] Variable [FeatureExtractor/InceptionV2/Mixed_4a/Branch_0/Conv2d_1a_3x3/BatchNorm/beta/RMSProp_1] is not available in checkpoint\n",
            "W0627 10:13:42.889420 140259507906432 variables_helper.py:152] Variable [FeatureExtractor/InceptionV2/Mixed_4a/Branch_0/Conv2d_1a_3x3/BatchNorm/gamma/ExponentialMovingAverage] is not available in checkpoint\n",
            "W0627 10:13:42.889482 140259507906432 variables_helper.py:152] Variable [FeatureExtractor/InceptionV2/Mixed_4a/Branch_0/Conv2d_1a_3x3/BatchNorm/gamma/RMSProp] is not available in checkpoint\n",
            "W0627 10:13:42.889535 140259507906432 variables_helper.py:152] Variable [FeatureExtractor/InceptionV2/Mixed_4a/Branch_0/Conv2d_1a_3x3/BatchNorm/gamma/RMSProp_1] is not available in checkpoint\n",
            "W0627 10:13:42.889601 140259507906432 variables_helper.py:152] Variable [FeatureExtractor/InceptionV2/Mixed_4a/Branch_0/Conv2d_1a_3x3/weights/ExponentialMovingAverage] is not available in checkpoint\n",
            "W0627 10:13:42.889653 140259507906432 variables_helper.py:152] Variable [FeatureExtractor/InceptionV2/Mixed_4a/Branch_0/Conv2d_1a_3x3/weights/RMSProp] is not available in checkpoint\n",
            "W0627 10:13:42.889709 140259507906432 variables_helper.py:152] Variable [FeatureExtractor/InceptionV2/Mixed_4a/Branch_0/Conv2d_1a_3x3/weights/RMSProp_1] is not available in checkpoint\n",
            "W0627 10:13:42.889764 140259507906432 variables_helper.py:152] Variable [FeatureExtractor/InceptionV2/Mixed_4a/Branch_1/Conv2d_0a_1x1/BatchNorm/beta/ExponentialMovingAverage] is not available in checkpoint\n",
            "W0627 10:13:42.889815 140259507906432 variables_helper.py:152] Variable [FeatureExtractor/InceptionV2/Mixed_4a/Branch_1/Conv2d_0a_1x1/BatchNorm/beta/RMSProp] is not available in checkpoint\n",
            "W0627 10:13:42.889865 140259507906432 variables_helper.py:152] Variable [FeatureExtractor/InceptionV2/Mixed_4a/Branch_1/Conv2d_0a_1x1/BatchNorm/beta/RMSProp_1] is not available in checkpoint\n",
            "W0627 10:13:42.889919 140259507906432 variables_helper.py:152] Variable [FeatureExtractor/InceptionV2/Mixed_4a/Branch_1/Conv2d_0a_1x1/BatchNorm/gamma/ExponentialMovingAverage] is not available in checkpoint\n",
            "W0627 10:13:42.889969 140259507906432 variables_helper.py:152] Variable [FeatureExtractor/InceptionV2/Mixed_4a/Branch_1/Conv2d_0a_1x1/BatchNorm/gamma/RMSProp] is not available in checkpoint\n",
            "W0627 10:13:42.890019 140259507906432 variables_helper.py:152] Variable [FeatureExtractor/InceptionV2/Mixed_4a/Branch_1/Conv2d_0a_1x1/BatchNorm/gamma/RMSProp_1] is not available in checkpoint\n",
            "W0627 10:13:42.890083 140259507906432 variables_helper.py:152] Variable [FeatureExtractor/InceptionV2/Mixed_4a/Branch_1/Conv2d_0a_1x1/weights/ExponentialMovingAverage] is not available in checkpoint\n",
            "W0627 10:13:42.890135 140259507906432 variables_helper.py:152] Variable [FeatureExtractor/InceptionV2/Mixed_4a/Branch_1/Conv2d_0a_1x1/weights/RMSProp] is not available in checkpoint\n",
            "W0627 10:13:42.985597 140259507906432 variables_helper.py:152] Variable [FeatureExtractor/InceptionV2/Mixed_4a/Branch_1/Conv2d_0a_1x1/weights/RMSProp_1] is not available in checkpoint\n",
            "W0627 10:13:42.986258 140259507906432 variables_helper.py:152] Variable [FeatureExtractor/InceptionV2/Mixed_4a/Branch_1/Conv2d_0b_3x3/BatchNorm/beta/ExponentialMovingAverage] is not available in checkpoint\n",
            "W0627 10:13:42.986364 140259507906432 variables_helper.py:152] Variable [FeatureExtractor/InceptionV2/Mixed_4a/Branch_1/Conv2d_0b_3x3/BatchNorm/beta/RMSProp] is not available in checkpoint\n",
            "W0627 10:13:42.986425 140259507906432 variables_helper.py:152] Variable [FeatureExtractor/InceptionV2/Mixed_4a/Branch_1/Conv2d_0b_3x3/BatchNorm/beta/RMSProp_1] is not available in checkpoint\n",
            "W0627 10:13:42.986720 140259507906432 variables_helper.py:152] Variable [FeatureExtractor/InceptionV2/Mixed_4a/Branch_1/Conv2d_0b_3x3/BatchNorm/gamma/ExponentialMovingAverage] is not available in checkpoint\n",
            "W0627 10:13:42.987032 140259507906432 variables_helper.py:152] Variable [FeatureExtractor/InceptionV2/Mixed_4a/Branch_1/Conv2d_0b_3x3/BatchNorm/gamma/RMSProp] is not available in checkpoint\n",
            "W0627 10:13:42.987114 140259507906432 variables_helper.py:152] Variable [FeatureExtractor/InceptionV2/Mixed_4a/Branch_1/Conv2d_0b_3x3/BatchNorm/gamma/RMSProp_1] is not available in checkpoint\n",
            "W0627 10:13:42.987522 140259507906432 variables_helper.py:152] Variable [FeatureExtractor/InceptionV2/Mixed_4a/Branch_1/Conv2d_0b_3x3/weights/ExponentialMovingAverage] is not available in checkpoint\n",
            "W0627 10:13:42.988271 140259507906432 variables_helper.py:152] Variable [FeatureExtractor/InceptionV2/Mixed_4a/Branch_1/Conv2d_0b_3x3/weights/RMSProp] is not available in checkpoint\n",
            "W0627 10:13:42.988385 140259507906432 variables_helper.py:152] Variable [FeatureExtractor/InceptionV2/Mixed_4a/Branch_1/Conv2d_0b_3x3/weights/RMSProp_1] is not available in checkpoint\n",
            "W0627 10:13:42.988459 140259507906432 variables_helper.py:152] Variable [FeatureExtractor/InceptionV2/Mixed_4a/Branch_1/Conv2d_1a_3x3/BatchNorm/beta/ExponentialMovingAverage] is not available in checkpoint\n",
            "W0627 10:13:42.988549 140259507906432 variables_helper.py:152] Variable [FeatureExtractor/InceptionV2/Mixed_4a/Branch_1/Conv2d_1a_3x3/BatchNorm/beta/RMSProp] is not available in checkpoint\n",
            "W0627 10:13:42.988604 140259507906432 variables_helper.py:152] Variable [FeatureExtractor/InceptionV2/Mixed_4a/Branch_1/Conv2d_1a_3x3/BatchNorm/beta/RMSProp_1] is not available in checkpoint\n",
            "W0627 10:13:42.988662 140259507906432 variables_helper.py:152] Variable [FeatureExtractor/InceptionV2/Mixed_4a/Branch_1/Conv2d_1a_3x3/BatchNorm/gamma/ExponentialMovingAverage] is not available in checkpoint\n",
            "W0627 10:13:42.988723 140259507906432 variables_helper.py:152] Variable [FeatureExtractor/InceptionV2/Mixed_4a/Branch_1/Conv2d_1a_3x3/BatchNorm/gamma/RMSProp] is not available in checkpoint\n",
            "W0627 10:13:42.988775 140259507906432 variables_helper.py:152] Variable [FeatureExtractor/InceptionV2/Mixed_4a/Branch_1/Conv2d_1a_3x3/BatchNorm/gamma/RMSProp_1] is not available in checkpoint\n",
            "W0627 10:13:42.988842 140259507906432 variables_helper.py:152] Variable [FeatureExtractor/InceptionV2/Mixed_4a/Branch_1/Conv2d_1a_3x3/weights/ExponentialMovingAverage] is not available in checkpoint\n",
            "W0627 10:13:42.988895 140259507906432 variables_helper.py:152] Variable [FeatureExtractor/InceptionV2/Mixed_4a/Branch_1/Conv2d_1a_3x3/weights/RMSProp] is not available in checkpoint\n",
            "W0627 10:13:42.988946 140259507906432 variables_helper.py:152] Variable [FeatureExtractor/InceptionV2/Mixed_4a/Branch_1/Conv2d_1a_3x3/weights/RMSProp_1] is not available in checkpoint\n",
            "W0627 10:13:42.989004 140259507906432 variables_helper.py:152] Variable [FeatureExtractor/InceptionV2/Mixed_4b/Branch_0/Conv2d_0a_1x1/BatchNorm/beta/ExponentialMovingAverage] is not available in checkpoint\n",
            "W0627 10:13:42.989054 140259507906432 variables_helper.py:152] Variable [FeatureExtractor/InceptionV2/Mixed_4b/Branch_0/Conv2d_0a_1x1/BatchNorm/beta/RMSProp] is not available in checkpoint\n",
            "W0627 10:13:42.989104 140259507906432 variables_helper.py:152] Variable [FeatureExtractor/InceptionV2/Mixed_4b/Branch_0/Conv2d_0a_1x1/BatchNorm/beta/RMSProp_1] is not available in checkpoint\n",
            "W0627 10:13:42.989159 140259507906432 variables_helper.py:152] Variable [FeatureExtractor/InceptionV2/Mixed_4b/Branch_0/Conv2d_0a_1x1/BatchNorm/gamma/ExponentialMovingAverage] is not available in checkpoint\n",
            "W0627 10:13:42.989212 140259507906432 variables_helper.py:152] Variable [FeatureExtractor/InceptionV2/Mixed_4b/Branch_0/Conv2d_0a_1x1/BatchNorm/gamma/RMSProp] is not available in checkpoint\n",
            "W0627 10:13:42.989262 140259507906432 variables_helper.py:152] Variable [FeatureExtractor/InceptionV2/Mixed_4b/Branch_0/Conv2d_0a_1x1/BatchNorm/gamma/RMSProp_1] is not available in checkpoint\n",
            "W0627 10:13:42.989328 140259507906432 variables_helper.py:152] Variable [FeatureExtractor/InceptionV2/Mixed_4b/Branch_0/Conv2d_0a_1x1/weights/ExponentialMovingAverage] is not available in checkpoint\n",
            "W0627 10:13:42.989379 140259507906432 variables_helper.py:152] Variable [FeatureExtractor/InceptionV2/Mixed_4b/Branch_0/Conv2d_0a_1x1/weights/RMSProp] is not available in checkpoint\n",
            "W0627 10:13:42.989429 140259507906432 variables_helper.py:152] Variable [FeatureExtractor/InceptionV2/Mixed_4b/Branch_0/Conv2d_0a_1x1/weights/RMSProp_1] is not available in checkpoint\n",
            "W0627 10:13:42.989500 140259507906432 variables_helper.py:152] Variable [FeatureExtractor/InceptionV2/Mixed_4b/Branch_1/Conv2d_0a_1x1/BatchNorm/beta/ExponentialMovingAverage] is not available in checkpoint\n",
            "W0627 10:13:42.989554 140259507906432 variables_helper.py:152] Variable [FeatureExtractor/InceptionV2/Mixed_4b/Branch_1/Conv2d_0a_1x1/BatchNorm/beta/RMSProp] is not available in checkpoint\n",
            "W0627 10:13:42.989605 140259507906432 variables_helper.py:152] Variable [FeatureExtractor/InceptionV2/Mixed_4b/Branch_1/Conv2d_0a_1x1/BatchNorm/beta/RMSProp_1] is not available in checkpoint\n",
            "W0627 10:13:42.989660 140259507906432 variables_helper.py:152] Variable [FeatureExtractor/InceptionV2/Mixed_4b/Branch_1/Conv2d_0a_1x1/BatchNorm/gamma/ExponentialMovingAverage] is not available in checkpoint\n",
            "W0627 10:13:42.989718 140259507906432 variables_helper.py:152] Variable [FeatureExtractor/InceptionV2/Mixed_4b/Branch_1/Conv2d_0a_1x1/BatchNorm/gamma/RMSProp] is not available in checkpoint\n",
            "W0627 10:13:42.989769 140259507906432 variables_helper.py:152] Variable [FeatureExtractor/InceptionV2/Mixed_4b/Branch_1/Conv2d_0a_1x1/BatchNorm/gamma/RMSProp_1] is not available in checkpoint\n",
            "W0627 10:13:42.989836 140259507906432 variables_helper.py:152] Variable [FeatureExtractor/InceptionV2/Mixed_4b/Branch_1/Conv2d_0a_1x1/weights/ExponentialMovingAverage] is not available in checkpoint\n",
            "W0627 10:13:42.989888 140259507906432 variables_helper.py:152] Variable [FeatureExtractor/InceptionV2/Mixed_4b/Branch_1/Conv2d_0a_1x1/weights/RMSProp] is not available in checkpoint\n",
            "W0627 10:13:42.989938 140259507906432 variables_helper.py:152] Variable [FeatureExtractor/InceptionV2/Mixed_4b/Branch_1/Conv2d_0a_1x1/weights/RMSProp_1] is not available in checkpoint\n",
            "W0627 10:13:42.989994 140259507906432 variables_helper.py:152] Variable [FeatureExtractor/InceptionV2/Mixed_4b/Branch_1/Conv2d_0b_3x3/BatchNorm/beta/ExponentialMovingAverage] is not available in checkpoint\n",
            "W0627 10:13:42.990044 140259507906432 variables_helper.py:152] Variable [FeatureExtractor/InceptionV2/Mixed_4b/Branch_1/Conv2d_0b_3x3/BatchNorm/beta/RMSProp] is not available in checkpoint\n",
            "W0627 10:13:42.990095 140259507906432 variables_helper.py:152] Variable [FeatureExtractor/InceptionV2/Mixed_4b/Branch_1/Conv2d_0b_3x3/BatchNorm/beta/RMSProp_1] is not available in checkpoint\n",
            "W0627 10:13:42.990149 140259507906432 variables_helper.py:152] Variable [FeatureExtractor/InceptionV2/Mixed_4b/Branch_1/Conv2d_0b_3x3/BatchNorm/gamma/ExponentialMovingAverage] is not available in checkpoint\n",
            "W0627 10:13:42.990200 140259507906432 variables_helper.py:152] Variable [FeatureExtractor/InceptionV2/Mixed_4b/Branch_1/Conv2d_0b_3x3/BatchNorm/gamma/RMSProp] is not available in checkpoint\n",
            "W0627 10:13:42.990251 140259507906432 variables_helper.py:152] Variable [FeatureExtractor/InceptionV2/Mixed_4b/Branch_1/Conv2d_0b_3x3/BatchNorm/gamma/RMSProp_1] is not available in checkpoint\n",
            "W0627 10:13:42.990317 140259507906432 variables_helper.py:152] Variable [FeatureExtractor/InceptionV2/Mixed_4b/Branch_1/Conv2d_0b_3x3/weights/ExponentialMovingAverage] is not available in checkpoint\n",
            "W0627 10:13:42.990368 140259507906432 variables_helper.py:152] Variable [FeatureExtractor/InceptionV2/Mixed_4b/Branch_1/Conv2d_0b_3x3/weights/RMSProp] is not available in checkpoint\n",
            "W0627 10:13:42.990418 140259507906432 variables_helper.py:152] Variable [FeatureExtractor/InceptionV2/Mixed_4b/Branch_1/Conv2d_0b_3x3/weights/RMSProp_1] is not available in checkpoint\n",
            "W0627 10:13:42.990486 140259507906432 variables_helper.py:152] Variable [FeatureExtractor/InceptionV2/Mixed_4b/Branch_2/Conv2d_0a_1x1/BatchNorm/beta/ExponentialMovingAverage] is not available in checkpoint\n",
            "W0627 10:13:42.990540 140259507906432 variables_helper.py:152] Variable [FeatureExtractor/InceptionV2/Mixed_4b/Branch_2/Conv2d_0a_1x1/BatchNorm/beta/RMSProp] is not available in checkpoint\n",
            "W0627 10:13:42.990592 140259507906432 variables_helper.py:152] Variable [FeatureExtractor/InceptionV2/Mixed_4b/Branch_2/Conv2d_0a_1x1/BatchNorm/beta/RMSProp_1] is not available in checkpoint\n",
            "W0627 10:13:42.990648 140259507906432 variables_helper.py:152] Variable [FeatureExtractor/InceptionV2/Mixed_4b/Branch_2/Conv2d_0a_1x1/BatchNorm/gamma/ExponentialMovingAverage] is not available in checkpoint\n",
            "W0627 10:13:42.990705 140259507906432 variables_helper.py:152] Variable [FeatureExtractor/InceptionV2/Mixed_4b/Branch_2/Conv2d_0a_1x1/BatchNorm/gamma/RMSProp] is not available in checkpoint\n",
            "W0627 10:13:42.990756 140259507906432 variables_helper.py:152] Variable [FeatureExtractor/InceptionV2/Mixed_4b/Branch_2/Conv2d_0a_1x1/BatchNorm/gamma/RMSProp_1] is not available in checkpoint\n",
            "W0627 10:13:42.990823 140259507906432 variables_helper.py:152] Variable [FeatureExtractor/InceptionV2/Mixed_4b/Branch_2/Conv2d_0a_1x1/weights/ExponentialMovingAverage] is not available in checkpoint\n",
            "W0627 10:13:42.990875 140259507906432 variables_helper.py:152] Variable [FeatureExtractor/InceptionV2/Mixed_4b/Branch_2/Conv2d_0a_1x1/weights/RMSProp] is not available in checkpoint\n",
            "W0627 10:13:42.990926 140259507906432 variables_helper.py:152] Variable [FeatureExtractor/InceptionV2/Mixed_4b/Branch_2/Conv2d_0a_1x1/weights/RMSProp_1] is not available in checkpoint\n",
            "W0627 10:13:42.990981 140259507906432 variables_helper.py:152] Variable [FeatureExtractor/InceptionV2/Mixed_4b/Branch_2/Conv2d_0b_3x3/BatchNorm/beta/ExponentialMovingAverage] is not available in checkpoint\n",
            "W0627 10:13:42.991032 140259507906432 variables_helper.py:152] Variable [FeatureExtractor/InceptionV2/Mixed_4b/Branch_2/Conv2d_0b_3x3/BatchNorm/beta/RMSProp] is not available in checkpoint\n",
            "W0627 10:13:42.991081 140259507906432 variables_helper.py:152] Variable [FeatureExtractor/InceptionV2/Mixed_4b/Branch_2/Conv2d_0b_3x3/BatchNorm/beta/RMSProp_1] is not available in checkpoint\n",
            "W0627 10:13:42.991136 140259507906432 variables_helper.py:152] Variable [FeatureExtractor/InceptionV2/Mixed_4b/Branch_2/Conv2d_0b_3x3/BatchNorm/gamma/ExponentialMovingAverage] is not available in checkpoint\n",
            "W0627 10:13:42.991187 140259507906432 variables_helper.py:152] Variable [FeatureExtractor/InceptionV2/Mixed_4b/Branch_2/Conv2d_0b_3x3/BatchNorm/gamma/RMSProp] is not available in checkpoint\n",
            "W0627 10:13:42.991238 140259507906432 variables_helper.py:152] Variable [FeatureExtractor/InceptionV2/Mixed_4b/Branch_2/Conv2d_0b_3x3/BatchNorm/gamma/RMSProp_1] is not available in checkpoint\n",
            "W0627 10:13:42.991304 140259507906432 variables_helper.py:152] Variable [FeatureExtractor/InceptionV2/Mixed_4b/Branch_2/Conv2d_0b_3x3/weights/ExponentialMovingAverage] is not available in checkpoint\n",
            "W0627 10:13:42.991355 140259507906432 variables_helper.py:152] Variable [FeatureExtractor/InceptionV2/Mixed_4b/Branch_2/Conv2d_0b_3x3/weights/RMSProp] is not available in checkpoint\n",
            "W0627 10:13:42.991405 140259507906432 variables_helper.py:152] Variable [FeatureExtractor/InceptionV2/Mixed_4b/Branch_2/Conv2d_0b_3x3/weights/RMSProp_1] is not available in checkpoint\n",
            "W0627 10:13:42.991471 140259507906432 variables_helper.py:152] Variable [FeatureExtractor/InceptionV2/Mixed_4b/Branch_2/Conv2d_0c_3x3/BatchNorm/beta/ExponentialMovingAverage] is not available in checkpoint\n",
            "W0627 10:13:42.991526 140259507906432 variables_helper.py:152] Variable [FeatureExtractor/InceptionV2/Mixed_4b/Branch_2/Conv2d_0c_3x3/BatchNorm/beta/RMSProp] is not available in checkpoint\n",
            "W0627 10:13:42.991577 140259507906432 variables_helper.py:152] Variable [FeatureExtractor/InceptionV2/Mixed_4b/Branch_2/Conv2d_0c_3x3/BatchNorm/beta/RMSProp_1] is not available in checkpoint\n",
            "W0627 10:13:42.991632 140259507906432 variables_helper.py:152] Variable [FeatureExtractor/InceptionV2/Mixed_4b/Branch_2/Conv2d_0c_3x3/BatchNorm/gamma/ExponentialMovingAverage] is not available in checkpoint\n",
            "W0627 10:13:42.991688 140259507906432 variables_helper.py:152] Variable [FeatureExtractor/InceptionV2/Mixed_4b/Branch_2/Conv2d_0c_3x3/BatchNorm/gamma/RMSProp] is not available in checkpoint\n",
            "W0627 10:13:42.991739 140259507906432 variables_helper.py:152] Variable [FeatureExtractor/InceptionV2/Mixed_4b/Branch_2/Conv2d_0c_3x3/BatchNorm/gamma/RMSProp_1] is not available in checkpoint\n",
            "W0627 10:13:42.991805 140259507906432 variables_helper.py:152] Variable [FeatureExtractor/InceptionV2/Mixed_4b/Branch_2/Conv2d_0c_3x3/weights/ExponentialMovingAverage] is not available in checkpoint\n",
            "W0627 10:13:42.991856 140259507906432 variables_helper.py:152] Variable [FeatureExtractor/InceptionV2/Mixed_4b/Branch_2/Conv2d_0c_3x3/weights/RMSProp] is not available in checkpoint\n",
            "W0627 10:13:42.991906 140259507906432 variables_helper.py:152] Variable [FeatureExtractor/InceptionV2/Mixed_4b/Branch_2/Conv2d_0c_3x3/weights/RMSProp_1] is not available in checkpoint\n",
            "W0627 10:13:42.991961 140259507906432 variables_helper.py:152] Variable [FeatureExtractor/InceptionV2/Mixed_4b/Branch_3/Conv2d_0b_1x1/BatchNorm/beta/ExponentialMovingAverage] is not available in checkpoint\n",
            "W0627 10:13:42.992011 140259507906432 variables_helper.py:152] Variable [FeatureExtractor/InceptionV2/Mixed_4b/Branch_3/Conv2d_0b_1x1/BatchNorm/beta/RMSProp] is not available in checkpoint\n",
            "W0627 10:13:42.992060 140259507906432 variables_helper.py:152] Variable [FeatureExtractor/InceptionV2/Mixed_4b/Branch_3/Conv2d_0b_1x1/BatchNorm/beta/RMSProp_1] is not available in checkpoint\n",
            "W0627 10:13:42.992115 140259507906432 variables_helper.py:152] Variable [FeatureExtractor/InceptionV2/Mixed_4b/Branch_3/Conv2d_0b_1x1/BatchNorm/gamma/ExponentialMovingAverage] is not available in checkpoint\n",
            "W0627 10:13:42.992165 140259507906432 variables_helper.py:152] Variable [FeatureExtractor/InceptionV2/Mixed_4b/Branch_3/Conv2d_0b_1x1/BatchNorm/gamma/RMSProp] is not available in checkpoint\n",
            "W0627 10:13:42.992218 140259507906432 variables_helper.py:152] Variable [FeatureExtractor/InceptionV2/Mixed_4b/Branch_3/Conv2d_0b_1x1/BatchNorm/gamma/RMSProp_1] is not available in checkpoint\n",
            "W0627 10:13:42.992284 140259507906432 variables_helper.py:152] Variable [FeatureExtractor/InceptionV2/Mixed_4b/Branch_3/Conv2d_0b_1x1/weights/ExponentialMovingAverage] is not available in checkpoint\n",
            "W0627 10:13:42.992334 140259507906432 variables_helper.py:152] Variable [FeatureExtractor/InceptionV2/Mixed_4b/Branch_3/Conv2d_0b_1x1/weights/RMSProp] is not available in checkpoint\n",
            "W0627 10:13:42.992385 140259507906432 variables_helper.py:152] Variable [FeatureExtractor/InceptionV2/Mixed_4b/Branch_3/Conv2d_0b_1x1/weights/RMSProp_1] is not available in checkpoint\n",
            "W0627 10:13:42.992442 140259507906432 variables_helper.py:152] Variable [FeatureExtractor/InceptionV2/Mixed_4c/Branch_0/Conv2d_0a_1x1/BatchNorm/beta/ExponentialMovingAverage] is not available in checkpoint\n",
            "W0627 10:13:42.992506 140259507906432 variables_helper.py:152] Variable [FeatureExtractor/InceptionV2/Mixed_4c/Branch_0/Conv2d_0a_1x1/BatchNorm/beta/RMSProp] is not available in checkpoint\n",
            "W0627 10:13:42.992558 140259507906432 variables_helper.py:152] Variable [FeatureExtractor/InceptionV2/Mixed_4c/Branch_0/Conv2d_0a_1x1/BatchNorm/beta/RMSProp_1] is not available in checkpoint\n",
            "W0627 10:13:42.992613 140259507906432 variables_helper.py:152] Variable [FeatureExtractor/InceptionV2/Mixed_4c/Branch_0/Conv2d_0a_1x1/BatchNorm/gamma/ExponentialMovingAverage] is not available in checkpoint\n",
            "W0627 10:13:42.992664 140259507906432 variables_helper.py:152] Variable [FeatureExtractor/InceptionV2/Mixed_4c/Branch_0/Conv2d_0a_1x1/BatchNorm/gamma/RMSProp] is not available in checkpoint\n",
            "W0627 10:13:42.992725 140259507906432 variables_helper.py:152] Variable [FeatureExtractor/InceptionV2/Mixed_4c/Branch_0/Conv2d_0a_1x1/BatchNorm/gamma/RMSProp_1] is not available in checkpoint\n",
            "W0627 10:13:42.992791 140259507906432 variables_helper.py:152] Variable [FeatureExtractor/InceptionV2/Mixed_4c/Branch_0/Conv2d_0a_1x1/weights/ExponentialMovingAverage] is not available in checkpoint\n",
            "W0627 10:13:42.992842 140259507906432 variables_helper.py:152] Variable [FeatureExtractor/InceptionV2/Mixed_4c/Branch_0/Conv2d_0a_1x1/weights/RMSProp] is not available in checkpoint\n",
            "W0627 10:13:42.992892 140259507906432 variables_helper.py:152] Variable [FeatureExtractor/InceptionV2/Mixed_4c/Branch_0/Conv2d_0a_1x1/weights/RMSProp_1] is not available in checkpoint\n",
            "W0627 10:13:42.992949 140259507906432 variables_helper.py:152] Variable [FeatureExtractor/InceptionV2/Mixed_4c/Branch_1/Conv2d_0a_1x1/BatchNorm/beta/ExponentialMovingAverage] is not available in checkpoint\n",
            "W0627 10:13:43.088355 140259507906432 variables_helper.py:152] Variable [FeatureExtractor/InceptionV2/Mixed_4c/Branch_1/Conv2d_0a_1x1/BatchNorm/beta/RMSProp] is not available in checkpoint\n",
            "W0627 10:13:43.089274 140259507906432 variables_helper.py:152] Variable [FeatureExtractor/InceptionV2/Mixed_4c/Branch_1/Conv2d_0a_1x1/BatchNorm/beta/RMSProp_1] is not available in checkpoint\n",
            "W0627 10:13:43.089770 140259507906432 variables_helper.py:152] Variable [FeatureExtractor/InceptionV2/Mixed_4c/Branch_1/Conv2d_0a_1x1/BatchNorm/gamma/ExponentialMovingAverage] is not available in checkpoint\n",
            "W0627 10:13:43.090085 140259507906432 variables_helper.py:152] Variable [FeatureExtractor/InceptionV2/Mixed_4c/Branch_1/Conv2d_0a_1x1/BatchNorm/gamma/RMSProp] is not available in checkpoint\n",
            "W0627 10:13:43.090274 140259507906432 variables_helper.py:152] Variable [FeatureExtractor/InceptionV2/Mixed_4c/Branch_1/Conv2d_0a_1x1/BatchNorm/gamma/RMSProp_1] is not available in checkpoint\n",
            "W0627 10:13:43.090519 140259507906432 variables_helper.py:152] Variable [FeatureExtractor/InceptionV2/Mixed_4c/Branch_1/Conv2d_0a_1x1/weights/ExponentialMovingAverage] is not available in checkpoint\n",
            "W0627 10:13:43.090748 140259507906432 variables_helper.py:152] Variable [FeatureExtractor/InceptionV2/Mixed_4c/Branch_1/Conv2d_0a_1x1/weights/RMSProp] is not available in checkpoint\n",
            "W0627 10:13:43.090930 140259507906432 variables_helper.py:152] Variable [FeatureExtractor/InceptionV2/Mixed_4c/Branch_1/Conv2d_0a_1x1/weights/RMSProp_1] is not available in checkpoint\n",
            "W0627 10:13:43.091317 140259507906432 variables_helper.py:152] Variable [FeatureExtractor/InceptionV2/Mixed_4c/Branch_1/Conv2d_0b_3x3/BatchNorm/beta/ExponentialMovingAverage] is not available in checkpoint\n",
            "W0627 10:13:43.091531 140259507906432 variables_helper.py:152] Variable [FeatureExtractor/InceptionV2/Mixed_4c/Branch_1/Conv2d_0b_3x3/BatchNorm/beta/RMSProp] is not available in checkpoint\n",
            "W0627 10:13:43.091751 140259507906432 variables_helper.py:152] Variable [FeatureExtractor/InceptionV2/Mixed_4c/Branch_1/Conv2d_0b_3x3/BatchNorm/beta/RMSProp_1] is not available in checkpoint\n",
            "W0627 10:13:43.092257 140259507906432 variables_helper.py:152] Variable [FeatureExtractor/InceptionV2/Mixed_4c/Branch_1/Conv2d_0b_3x3/BatchNorm/gamma/ExponentialMovingAverage] is not available in checkpoint\n",
            "W0627 10:13:43.092498 140259507906432 variables_helper.py:152] Variable [FeatureExtractor/InceptionV2/Mixed_4c/Branch_1/Conv2d_0b_3x3/BatchNorm/gamma/RMSProp] is not available in checkpoint\n",
            "W0627 10:13:43.092734 140259507906432 variables_helper.py:152] Variable [FeatureExtractor/InceptionV2/Mixed_4c/Branch_1/Conv2d_0b_3x3/BatchNorm/gamma/RMSProp_1] is not available in checkpoint\n",
            "W0627 10:13:43.093180 140259507906432 variables_helper.py:152] Variable [FeatureExtractor/InceptionV2/Mixed_4c/Branch_1/Conv2d_0b_3x3/weights/ExponentialMovingAverage] is not available in checkpoint\n",
            "W0627 10:13:43.093459 140259507906432 variables_helper.py:152] Variable [FeatureExtractor/InceptionV2/Mixed_4c/Branch_1/Conv2d_0b_3x3/weights/RMSProp] is not available in checkpoint\n",
            "W0627 10:13:43.094034 140259507906432 variables_helper.py:152] Variable [FeatureExtractor/InceptionV2/Mixed_4c/Branch_1/Conv2d_0b_3x3/weights/RMSProp_1] is not available in checkpoint\n",
            "W0627 10:13:43.094142 140259507906432 variables_helper.py:152] Variable [FeatureExtractor/InceptionV2/Mixed_4c/Branch_2/Conv2d_0a_1x1/BatchNorm/beta/ExponentialMovingAverage] is not available in checkpoint\n",
            "W0627 10:13:43.094209 140259507906432 variables_helper.py:152] Variable [FeatureExtractor/InceptionV2/Mixed_4c/Branch_2/Conv2d_0a_1x1/BatchNorm/beta/RMSProp] is not available in checkpoint\n",
            "W0627 10:13:43.094270 140259507906432 variables_helper.py:152] Variable [FeatureExtractor/InceptionV2/Mixed_4c/Branch_2/Conv2d_0a_1x1/BatchNorm/beta/RMSProp_1] is not available in checkpoint\n",
            "W0627 10:13:43.094334 140259507906432 variables_helper.py:152] Variable [FeatureExtractor/InceptionV2/Mixed_4c/Branch_2/Conv2d_0a_1x1/BatchNorm/gamma/ExponentialMovingAverage] is not available in checkpoint\n",
            "W0627 10:13:43.094391 140259507906432 variables_helper.py:152] Variable [FeatureExtractor/InceptionV2/Mixed_4c/Branch_2/Conv2d_0a_1x1/BatchNorm/gamma/RMSProp] is not available in checkpoint\n",
            "W0627 10:13:43.094446 140259507906432 variables_helper.py:152] Variable [FeatureExtractor/InceptionV2/Mixed_4c/Branch_2/Conv2d_0a_1x1/BatchNorm/gamma/RMSProp_1] is not available in checkpoint\n",
            "W0627 10:13:43.094537 140259507906432 variables_helper.py:152] Variable [FeatureExtractor/InceptionV2/Mixed_4c/Branch_2/Conv2d_0a_1x1/weights/ExponentialMovingAverage] is not available in checkpoint\n",
            "W0627 10:13:43.094595 140259507906432 variables_helper.py:152] Variable [FeatureExtractor/InceptionV2/Mixed_4c/Branch_2/Conv2d_0a_1x1/weights/RMSProp] is not available in checkpoint\n",
            "W0627 10:13:43.094650 140259507906432 variables_helper.py:152] Variable [FeatureExtractor/InceptionV2/Mixed_4c/Branch_2/Conv2d_0a_1x1/weights/RMSProp_1] is not available in checkpoint\n",
            "W0627 10:13:43.094747 140259507906432 variables_helper.py:152] Variable [FeatureExtractor/InceptionV2/Mixed_4c/Branch_2/Conv2d_0b_3x3/BatchNorm/beta/ExponentialMovingAverage] is not available in checkpoint\n",
            "W0627 10:13:43.094805 140259507906432 variables_helper.py:152] Variable [FeatureExtractor/InceptionV2/Mixed_4c/Branch_2/Conv2d_0b_3x3/BatchNorm/beta/RMSProp] is not available in checkpoint\n",
            "W0627 10:13:43.094859 140259507906432 variables_helper.py:152] Variable [FeatureExtractor/InceptionV2/Mixed_4c/Branch_2/Conv2d_0b_3x3/BatchNorm/beta/RMSProp_1] is not available in checkpoint\n",
            "W0627 10:13:43.094918 140259507906432 variables_helper.py:152] Variable [FeatureExtractor/InceptionV2/Mixed_4c/Branch_2/Conv2d_0b_3x3/BatchNorm/gamma/ExponentialMovingAverage] is not available in checkpoint\n",
            "W0627 10:13:43.094991 140259507906432 variables_helper.py:152] Variable [FeatureExtractor/InceptionV2/Mixed_4c/Branch_2/Conv2d_0b_3x3/BatchNorm/gamma/RMSProp] is not available in checkpoint\n",
            "W0627 10:13:43.095048 140259507906432 variables_helper.py:152] Variable [FeatureExtractor/InceptionV2/Mixed_4c/Branch_2/Conv2d_0b_3x3/BatchNorm/gamma/RMSProp_1] is not available in checkpoint\n",
            "W0627 10:13:43.095127 140259507906432 variables_helper.py:152] Variable [FeatureExtractor/InceptionV2/Mixed_4c/Branch_2/Conv2d_0b_3x3/weights/ExponentialMovingAverage] is not available in checkpoint\n",
            "W0627 10:13:43.095187 140259507906432 variables_helper.py:152] Variable [FeatureExtractor/InceptionV2/Mixed_4c/Branch_2/Conv2d_0b_3x3/weights/RMSProp] is not available in checkpoint\n",
            "W0627 10:13:43.095258 140259507906432 variables_helper.py:152] Variable [FeatureExtractor/InceptionV2/Mixed_4c/Branch_2/Conv2d_0b_3x3/weights/RMSProp_1] is not available in checkpoint\n",
            "W0627 10:13:43.095337 140259507906432 variables_helper.py:152] Variable [FeatureExtractor/InceptionV2/Mixed_4c/Branch_2/Conv2d_0c_3x3/BatchNorm/beta/ExponentialMovingAverage] is not available in checkpoint\n",
            "W0627 10:13:43.095407 140259507906432 variables_helper.py:152] Variable [FeatureExtractor/InceptionV2/Mixed_4c/Branch_2/Conv2d_0c_3x3/BatchNorm/beta/RMSProp] is not available in checkpoint\n",
            "W0627 10:13:43.095473 140259507906432 variables_helper.py:152] Variable [FeatureExtractor/InceptionV2/Mixed_4c/Branch_2/Conv2d_0c_3x3/BatchNorm/beta/RMSProp_1] is not available in checkpoint\n",
            "W0627 10:13:43.095538 140259507906432 variables_helper.py:152] Variable [FeatureExtractor/InceptionV2/Mixed_4c/Branch_2/Conv2d_0c_3x3/BatchNorm/gamma/ExponentialMovingAverage] is not available in checkpoint\n",
            "W0627 10:13:43.095594 140259507906432 variables_helper.py:152] Variable [FeatureExtractor/InceptionV2/Mixed_4c/Branch_2/Conv2d_0c_3x3/BatchNorm/gamma/RMSProp] is not available in checkpoint\n",
            "W0627 10:13:43.095807 140259507906432 variables_helper.py:152] Variable [FeatureExtractor/InceptionV2/Mixed_4c/Branch_2/Conv2d_0c_3x3/BatchNorm/gamma/RMSProp_1] is not available in checkpoint\n",
            "W0627 10:13:43.101145 140259507906432 variables_helper.py:152] Variable [FeatureExtractor/InceptionV2/Mixed_4c/Branch_2/Conv2d_0c_3x3/weights/ExponentialMovingAverage] is not available in checkpoint\n",
            "W0627 10:13:43.101242 140259507906432 variables_helper.py:152] Variable [FeatureExtractor/InceptionV2/Mixed_4c/Branch_2/Conv2d_0c_3x3/weights/RMSProp] is not available in checkpoint\n",
            "W0627 10:13:43.101322 140259507906432 variables_helper.py:152] Variable [FeatureExtractor/InceptionV2/Mixed_4c/Branch_2/Conv2d_0c_3x3/weights/RMSProp_1] is not available in checkpoint\n",
            "W0627 10:13:43.101398 140259507906432 variables_helper.py:152] Variable [FeatureExtractor/InceptionV2/Mixed_4c/Branch_3/Conv2d_0b_1x1/BatchNorm/beta/ExponentialMovingAverage] is not available in checkpoint\n",
            "W0627 10:13:43.101488 140259507906432 variables_helper.py:152] Variable [FeatureExtractor/InceptionV2/Mixed_4c/Branch_3/Conv2d_0b_1x1/BatchNorm/beta/RMSProp] is not available in checkpoint\n",
            "W0627 10:13:43.101562 140259507906432 variables_helper.py:152] Variable [FeatureExtractor/InceptionV2/Mixed_4c/Branch_3/Conv2d_0b_1x1/BatchNorm/beta/RMSProp_1] is not available in checkpoint\n",
            "W0627 10:13:43.102134 140259507906432 variables_helper.py:152] Variable [FeatureExtractor/InceptionV2/Mixed_4c/Branch_3/Conv2d_0b_1x1/BatchNorm/gamma/ExponentialMovingAverage] is not available in checkpoint\n",
            "W0627 10:13:43.102244 140259507906432 variables_helper.py:152] Variable [FeatureExtractor/InceptionV2/Mixed_4c/Branch_3/Conv2d_0b_1x1/BatchNorm/gamma/RMSProp] is not available in checkpoint\n",
            "W0627 10:13:43.102320 140259507906432 variables_helper.py:152] Variable [FeatureExtractor/InceptionV2/Mixed_4c/Branch_3/Conv2d_0b_1x1/BatchNorm/gamma/RMSProp_1] is not available in checkpoint\n",
            "W0627 10:13:43.102411 140259507906432 variables_helper.py:152] Variable [FeatureExtractor/InceptionV2/Mixed_4c/Branch_3/Conv2d_0b_1x1/weights/ExponentialMovingAverage] is not available in checkpoint\n",
            "W0627 10:13:43.102501 140259507906432 variables_helper.py:152] Variable [FeatureExtractor/InceptionV2/Mixed_4c/Branch_3/Conv2d_0b_1x1/weights/RMSProp] is not available in checkpoint\n",
            "W0627 10:13:43.102573 140259507906432 variables_helper.py:152] Variable [FeatureExtractor/InceptionV2/Mixed_4c/Branch_3/Conv2d_0b_1x1/weights/RMSProp_1] is not available in checkpoint\n",
            "W0627 10:13:43.102649 140259507906432 variables_helper.py:152] Variable [FeatureExtractor/InceptionV2/Mixed_4d/Branch_0/Conv2d_0a_1x1/BatchNorm/beta/ExponentialMovingAverage] is not available in checkpoint\n",
            "W0627 10:13:43.102725 140259507906432 variables_helper.py:152] Variable [FeatureExtractor/InceptionV2/Mixed_4d/Branch_0/Conv2d_0a_1x1/BatchNorm/beta/RMSProp] is not available in checkpoint\n",
            "W0627 10:13:43.102790 140259507906432 variables_helper.py:152] Variable [FeatureExtractor/InceptionV2/Mixed_4d/Branch_0/Conv2d_0a_1x1/BatchNorm/beta/RMSProp_1] is not available in checkpoint\n",
            "W0627 10:13:43.102861 140259507906432 variables_helper.py:152] Variable [FeatureExtractor/InceptionV2/Mixed_4d/Branch_0/Conv2d_0a_1x1/BatchNorm/gamma/ExponentialMovingAverage] is not available in checkpoint\n",
            "W0627 10:13:43.102917 140259507906432 variables_helper.py:152] Variable [FeatureExtractor/InceptionV2/Mixed_4d/Branch_0/Conv2d_0a_1x1/BatchNorm/gamma/RMSProp] is not available in checkpoint\n",
            "W0627 10:13:43.102969 140259507906432 variables_helper.py:152] Variable [FeatureExtractor/InceptionV2/Mixed_4d/Branch_0/Conv2d_0a_1x1/BatchNorm/gamma/RMSProp_1] is not available in checkpoint\n",
            "W0627 10:13:43.103036 140259507906432 variables_helper.py:152] Variable [FeatureExtractor/InceptionV2/Mixed_4d/Branch_0/Conv2d_0a_1x1/weights/ExponentialMovingAverage] is not available in checkpoint\n",
            "W0627 10:13:43.103091 140259507906432 variables_helper.py:152] Variable [FeatureExtractor/InceptionV2/Mixed_4d/Branch_0/Conv2d_0a_1x1/weights/RMSProp] is not available in checkpoint\n",
            "W0627 10:13:43.103143 140259507906432 variables_helper.py:152] Variable [FeatureExtractor/InceptionV2/Mixed_4d/Branch_0/Conv2d_0a_1x1/weights/RMSProp_1] is not available in checkpoint\n",
            "W0627 10:13:43.103199 140259507906432 variables_helper.py:152] Variable [FeatureExtractor/InceptionV2/Mixed_4d/Branch_1/Conv2d_0a_1x1/BatchNorm/beta/ExponentialMovingAverage] is not available in checkpoint\n",
            "W0627 10:13:43.103252 140259507906432 variables_helper.py:152] Variable [FeatureExtractor/InceptionV2/Mixed_4d/Branch_1/Conv2d_0a_1x1/BatchNorm/beta/RMSProp] is not available in checkpoint\n",
            "W0627 10:13:43.103302 140259507906432 variables_helper.py:152] Variable [FeatureExtractor/InceptionV2/Mixed_4d/Branch_1/Conv2d_0a_1x1/BatchNorm/beta/RMSProp_1] is not available in checkpoint\n",
            "W0627 10:13:43.103510 140259507906432 variables_helper.py:152] Variable [FeatureExtractor/InceptionV2/Mixed_4d/Branch_1/Conv2d_0a_1x1/BatchNorm/gamma/ExponentialMovingAverage] is not available in checkpoint\n",
            "W0627 10:13:43.103590 140259507906432 variables_helper.py:152] Variable [FeatureExtractor/InceptionV2/Mixed_4d/Branch_1/Conv2d_0a_1x1/BatchNorm/gamma/RMSProp] is not available in checkpoint\n",
            "W0627 10:13:43.104006 140259507906432 variables_helper.py:152] Variable [FeatureExtractor/InceptionV2/Mixed_4d/Branch_1/Conv2d_0a_1x1/BatchNorm/gamma/RMSProp_1] is not available in checkpoint\n",
            "W0627 10:13:43.104109 140259507906432 variables_helper.py:152] Variable [FeatureExtractor/InceptionV2/Mixed_4d/Branch_1/Conv2d_0a_1x1/weights/ExponentialMovingAverage] is not available in checkpoint\n",
            "W0627 10:13:43.104169 140259507906432 variables_helper.py:152] Variable [FeatureExtractor/InceptionV2/Mixed_4d/Branch_1/Conv2d_0a_1x1/weights/RMSProp] is not available in checkpoint\n",
            "W0627 10:13:43.104226 140259507906432 variables_helper.py:152] Variable [FeatureExtractor/InceptionV2/Mixed_4d/Branch_1/Conv2d_0a_1x1/weights/RMSProp_1] is not available in checkpoint\n",
            "W0627 10:13:43.104289 140259507906432 variables_helper.py:152] Variable [FeatureExtractor/InceptionV2/Mixed_4d/Branch_1/Conv2d_0b_3x3/BatchNorm/beta/ExponentialMovingAverage] is not available in checkpoint\n",
            "W0627 10:13:43.104344 140259507906432 variables_helper.py:152] Variable [FeatureExtractor/InceptionV2/Mixed_4d/Branch_1/Conv2d_0b_3x3/BatchNorm/beta/RMSProp] is not available in checkpoint\n",
            "W0627 10:13:43.104410 140259507906432 variables_helper.py:152] Variable [FeatureExtractor/InceptionV2/Mixed_4d/Branch_1/Conv2d_0b_3x3/BatchNorm/beta/RMSProp_1] is not available in checkpoint\n",
            "W0627 10:13:43.104486 140259507906432 variables_helper.py:152] Variable [FeatureExtractor/InceptionV2/Mixed_4d/Branch_1/Conv2d_0b_3x3/BatchNorm/gamma/ExponentialMovingAverage] is not available in checkpoint\n",
            "W0627 10:13:43.106127 140259507906432 variables_helper.py:152] Variable [FeatureExtractor/InceptionV2/Mixed_4d/Branch_1/Conv2d_0b_3x3/BatchNorm/gamma/RMSProp] is not available in checkpoint\n",
            "W0627 10:13:43.106266 140259507906432 variables_helper.py:152] Variable [FeatureExtractor/InceptionV2/Mixed_4d/Branch_1/Conv2d_0b_3x3/BatchNorm/gamma/RMSProp_1] is not available in checkpoint\n",
            "W0627 10:13:43.106353 140259507906432 variables_helper.py:152] Variable [FeatureExtractor/InceptionV2/Mixed_4d/Branch_1/Conv2d_0b_3x3/weights/ExponentialMovingAverage] is not available in checkpoint\n",
            "W0627 10:13:43.106409 140259507906432 variables_helper.py:152] Variable [FeatureExtractor/InceptionV2/Mixed_4d/Branch_1/Conv2d_0b_3x3/weights/RMSProp] is not available in checkpoint\n",
            "W0627 10:13:43.106497 140259507906432 variables_helper.py:152] Variable [FeatureExtractor/InceptionV2/Mixed_4d/Branch_1/Conv2d_0b_3x3/weights/RMSProp_1] is not available in checkpoint\n",
            "W0627 10:13:43.106562 140259507906432 variables_helper.py:152] Variable [FeatureExtractor/InceptionV2/Mixed_4d/Branch_2/Conv2d_0a_1x1/BatchNorm/beta/ExponentialMovingAverage] is not available in checkpoint\n",
            "W0627 10:13:43.106618 140259507906432 variables_helper.py:152] Variable [FeatureExtractor/InceptionV2/Mixed_4d/Branch_2/Conv2d_0a_1x1/BatchNorm/beta/RMSProp] is not available in checkpoint\n",
            "W0627 10:13:43.106672 140259507906432 variables_helper.py:152] Variable [FeatureExtractor/InceptionV2/Mixed_4d/Branch_2/Conv2d_0a_1x1/BatchNorm/beta/RMSProp_1] is not available in checkpoint\n",
            "W0627 10:13:43.106740 140259507906432 variables_helper.py:152] Variable [FeatureExtractor/InceptionV2/Mixed_4d/Branch_2/Conv2d_0a_1x1/BatchNorm/gamma/ExponentialMovingAverage] is not available in checkpoint\n",
            "W0627 10:13:43.106795 140259507906432 variables_helper.py:152] Variable [FeatureExtractor/InceptionV2/Mixed_4d/Branch_2/Conv2d_0a_1x1/BatchNorm/gamma/RMSProp] is not available in checkpoint\n",
            "W0627 10:13:43.106848 140259507906432 variables_helper.py:152] Variable [FeatureExtractor/InceptionV2/Mixed_4d/Branch_2/Conv2d_0a_1x1/BatchNorm/gamma/RMSProp_1] is not available in checkpoint\n",
            "W0627 10:13:43.106920 140259507906432 variables_helper.py:152] Variable [FeatureExtractor/InceptionV2/Mixed_4d/Branch_2/Conv2d_0a_1x1/weights/ExponentialMovingAverage] is not available in checkpoint\n",
            "W0627 10:13:43.106977 140259507906432 variables_helper.py:152] Variable [FeatureExtractor/InceptionV2/Mixed_4d/Branch_2/Conv2d_0a_1x1/weights/RMSProp] is not available in checkpoint\n",
            "W0627 10:13:43.107030 140259507906432 variables_helper.py:152] Variable [FeatureExtractor/InceptionV2/Mixed_4d/Branch_2/Conv2d_0a_1x1/weights/RMSProp_1] is not available in checkpoint\n",
            "W0627 10:13:43.107089 140259507906432 variables_helper.py:152] Variable [FeatureExtractor/InceptionV2/Mixed_4d/Branch_2/Conv2d_0b_3x3/BatchNorm/beta/ExponentialMovingAverage] is not available in checkpoint\n",
            "W0627 10:13:43.107146 140259507906432 variables_helper.py:152] Variable [FeatureExtractor/InceptionV2/Mixed_4d/Branch_2/Conv2d_0b_3x3/BatchNorm/beta/RMSProp] is not available in checkpoint\n",
            "W0627 10:13:43.107211 140259507906432 variables_helper.py:152] Variable [FeatureExtractor/InceptionV2/Mixed_4d/Branch_2/Conv2d_0b_3x3/BatchNorm/beta/RMSProp_1] is not available in checkpoint\n",
            "W0627 10:13:43.107267 140259507906432 variables_helper.py:152] Variable [FeatureExtractor/InceptionV2/Mixed_4d/Branch_2/Conv2d_0b_3x3/BatchNorm/gamma/ExponentialMovingAverage] is not available in checkpoint\n",
            "W0627 10:13:43.109138 140259507906432 variables_helper.py:152] Variable [FeatureExtractor/InceptionV2/Mixed_4d/Branch_2/Conv2d_0b_3x3/BatchNorm/gamma/RMSProp] is not available in checkpoint\n",
            "W0627 10:13:43.109771 140259507906432 variables_helper.py:152] Variable [FeatureExtractor/InceptionV2/Mixed_4d/Branch_2/Conv2d_0b_3x3/BatchNorm/gamma/RMSProp_1] is not available in checkpoint\n",
            "W0627 10:13:43.110335 140259507906432 variables_helper.py:152] Variable [FeatureExtractor/InceptionV2/Mixed_4d/Branch_2/Conv2d_0b_3x3/weights/ExponentialMovingAverage] is not available in checkpoint\n",
            "W0627 10:13:43.110429 140259507906432 variables_helper.py:152] Variable [FeatureExtractor/InceptionV2/Mixed_4d/Branch_2/Conv2d_0b_3x3/weights/RMSProp] is not available in checkpoint\n",
            "W0627 10:13:43.113998 140259507906432 variables_helper.py:152] Variable [FeatureExtractor/InceptionV2/Mixed_4d/Branch_2/Conv2d_0b_3x3/weights/RMSProp_1] is not available in checkpoint\n",
            "W0627 10:13:43.114129 140259507906432 variables_helper.py:152] Variable [FeatureExtractor/InceptionV2/Mixed_4d/Branch_2/Conv2d_0c_3x3/BatchNorm/beta/ExponentialMovingAverage] is not available in checkpoint\n",
            "W0627 10:13:43.114195 140259507906432 variables_helper.py:152] Variable [FeatureExtractor/InceptionV2/Mixed_4d/Branch_2/Conv2d_0c_3x3/BatchNorm/beta/RMSProp] is not available in checkpoint\n",
            "W0627 10:13:43.194360 140259507906432 variables_helper.py:152] Variable [FeatureExtractor/InceptionV2/Mixed_4d/Branch_2/Conv2d_0c_3x3/BatchNorm/beta/RMSProp_1] is not available in checkpoint\n",
            "W0627 10:13:43.195783 140259507906432 variables_helper.py:152] Variable [FeatureExtractor/InceptionV2/Mixed_4d/Branch_2/Conv2d_0c_3x3/BatchNorm/gamma/ExponentialMovingAverage] is not available in checkpoint\n",
            "W0627 10:13:43.196020 140259507906432 variables_helper.py:152] Variable [FeatureExtractor/InceptionV2/Mixed_4d/Branch_2/Conv2d_0c_3x3/BatchNorm/gamma/RMSProp] is not available in checkpoint\n",
            "W0627 10:13:43.196805 140259507906432 variables_helper.py:152] Variable [FeatureExtractor/InceptionV2/Mixed_4d/Branch_2/Conv2d_0c_3x3/BatchNorm/gamma/RMSProp_1] is not available in checkpoint\n",
            "W0627 10:13:43.196996 140259507906432 variables_helper.py:152] Variable [FeatureExtractor/InceptionV2/Mixed_4d/Branch_2/Conv2d_0c_3x3/weights/ExponentialMovingAverage] is not available in checkpoint\n",
            "W0627 10:13:43.197158 140259507906432 variables_helper.py:152] Variable [FeatureExtractor/InceptionV2/Mixed_4d/Branch_2/Conv2d_0c_3x3/weights/RMSProp] is not available in checkpoint\n",
            "W0627 10:13:43.197793 140259507906432 variables_helper.py:152] Variable [FeatureExtractor/InceptionV2/Mixed_4d/Branch_2/Conv2d_0c_3x3/weights/RMSProp_1] is not available in checkpoint\n",
            "W0627 10:13:43.197957 140259507906432 variables_helper.py:152] Variable [FeatureExtractor/InceptionV2/Mixed_4d/Branch_3/Conv2d_0b_1x1/BatchNorm/beta/ExponentialMovingAverage] is not available in checkpoint\n",
            "W0627 10:13:43.199089 140259507906432 variables_helper.py:152] Variable [FeatureExtractor/InceptionV2/Mixed_4d/Branch_3/Conv2d_0b_1x1/BatchNorm/beta/RMSProp] is not available in checkpoint\n",
            "W0627 10:13:43.199269 140259507906432 variables_helper.py:152] Variable [FeatureExtractor/InceptionV2/Mixed_4d/Branch_3/Conv2d_0b_1x1/BatchNorm/beta/RMSProp_1] is not available in checkpoint\n",
            "W0627 10:13:43.199410 140259507906432 variables_helper.py:152] Variable [FeatureExtractor/InceptionV2/Mixed_4d/Branch_3/Conv2d_0b_1x1/BatchNorm/gamma/ExponentialMovingAverage] is not available in checkpoint\n",
            "W0627 10:13:43.199657 140259507906432 variables_helper.py:152] Variable [FeatureExtractor/InceptionV2/Mixed_4d/Branch_3/Conv2d_0b_1x1/BatchNorm/gamma/RMSProp] is not available in checkpoint\n",
            "W0627 10:13:43.199835 140259507906432 variables_helper.py:152] Variable [FeatureExtractor/InceptionV2/Mixed_4d/Branch_3/Conv2d_0b_1x1/BatchNorm/gamma/RMSProp_1] is not available in checkpoint\n",
            "W0627 10:13:43.200041 140259507906432 variables_helper.py:152] Variable [FeatureExtractor/InceptionV2/Mixed_4d/Branch_3/Conv2d_0b_1x1/weights/ExponentialMovingAverage] is not available in checkpoint\n",
            "W0627 10:13:43.200169 140259507906432 variables_helper.py:152] Variable [FeatureExtractor/InceptionV2/Mixed_4d/Branch_3/Conv2d_0b_1x1/weights/RMSProp] is not available in checkpoint\n",
            "W0627 10:13:43.200293 140259507906432 variables_helper.py:152] Variable [FeatureExtractor/InceptionV2/Mixed_4d/Branch_3/Conv2d_0b_1x1/weights/RMSProp_1] is not available in checkpoint\n",
            "W0627 10:13:43.200532 140259507906432 variables_helper.py:152] Variable [FeatureExtractor/InceptionV2/Mixed_4e/Branch_0/Conv2d_0a_1x1/BatchNorm/beta/ExponentialMovingAverage] is not available in checkpoint\n",
            "W0627 10:13:43.200730 140259507906432 variables_helper.py:152] Variable [FeatureExtractor/InceptionV2/Mixed_4e/Branch_0/Conv2d_0a_1x1/BatchNorm/beta/RMSProp] is not available in checkpoint\n",
            "W0627 10:13:43.200902 140259507906432 variables_helper.py:152] Variable [FeatureExtractor/InceptionV2/Mixed_4e/Branch_0/Conv2d_0a_1x1/BatchNorm/beta/RMSProp_1] is not available in checkpoint\n",
            "W0627 10:13:43.201166 140259507906432 variables_helper.py:152] Variable [FeatureExtractor/InceptionV2/Mixed_4e/Branch_0/Conv2d_0a_1x1/BatchNorm/gamma/ExponentialMovingAverage] is not available in checkpoint\n",
            "W0627 10:13:43.201350 140259507906432 variables_helper.py:152] Variable [FeatureExtractor/InceptionV2/Mixed_4e/Branch_0/Conv2d_0a_1x1/BatchNorm/gamma/RMSProp] is not available in checkpoint\n",
            "W0627 10:13:43.201529 140259507906432 variables_helper.py:152] Variable [FeatureExtractor/InceptionV2/Mixed_4e/Branch_0/Conv2d_0a_1x1/BatchNorm/gamma/RMSProp_1] is not available in checkpoint\n",
            "W0627 10:13:43.201733 140259507906432 variables_helper.py:152] Variable [FeatureExtractor/InceptionV2/Mixed_4e/Branch_0/Conv2d_0a_1x1/weights/ExponentialMovingAverage] is not available in checkpoint\n",
            "W0627 10:13:43.201930 140259507906432 variables_helper.py:152] Variable [FeatureExtractor/InceptionV2/Mixed_4e/Branch_0/Conv2d_0a_1x1/weights/RMSProp] is not available in checkpoint\n",
            "W0627 10:13:43.202083 140259507906432 variables_helper.py:152] Variable [FeatureExtractor/InceptionV2/Mixed_4e/Branch_0/Conv2d_0a_1x1/weights/RMSProp_1] is not available in checkpoint\n",
            "W0627 10:13:43.202289 140259507906432 variables_helper.py:152] Variable [FeatureExtractor/InceptionV2/Mixed_4e/Branch_1/Conv2d_0a_1x1/BatchNorm/beta/ExponentialMovingAverage] is not available in checkpoint\n",
            "W0627 10:13:43.202450 140259507906432 variables_helper.py:152] Variable [FeatureExtractor/InceptionV2/Mixed_4e/Branch_1/Conv2d_0a_1x1/BatchNorm/beta/RMSProp] is not available in checkpoint\n",
            "W0627 10:13:43.202710 140259507906432 variables_helper.py:152] Variable [FeatureExtractor/InceptionV2/Mixed_4e/Branch_1/Conv2d_0a_1x1/BatchNorm/beta/RMSProp_1] is not available in checkpoint\n",
            "W0627 10:13:43.202917 140259507906432 variables_helper.py:152] Variable [FeatureExtractor/InceptionV2/Mixed_4e/Branch_1/Conv2d_0a_1x1/BatchNorm/gamma/ExponentialMovingAverage] is not available in checkpoint\n",
            "W0627 10:13:43.203086 140259507906432 variables_helper.py:152] Variable [FeatureExtractor/InceptionV2/Mixed_4e/Branch_1/Conv2d_0a_1x1/BatchNorm/gamma/RMSProp] is not available in checkpoint\n",
            "W0627 10:13:43.203329 140259507906432 variables_helper.py:152] Variable [FeatureExtractor/InceptionV2/Mixed_4e/Branch_1/Conv2d_0a_1x1/BatchNorm/gamma/RMSProp_1] is not available in checkpoint\n",
            "W0627 10:13:43.203527 140259507906432 variables_helper.py:152] Variable [FeatureExtractor/InceptionV2/Mixed_4e/Branch_1/Conv2d_0a_1x1/weights/ExponentialMovingAverage] is not available in checkpoint\n",
            "W0627 10:13:43.203736 140259507906432 variables_helper.py:152] Variable [FeatureExtractor/InceptionV2/Mixed_4e/Branch_1/Conv2d_0a_1x1/weights/RMSProp] is not available in checkpoint\n",
            "W0627 10:13:43.203881 140259507906432 variables_helper.py:152] Variable [FeatureExtractor/InceptionV2/Mixed_4e/Branch_1/Conv2d_0a_1x1/weights/RMSProp_1] is not available in checkpoint\n",
            "W0627 10:13:43.203988 140259507906432 variables_helper.py:152] Variable [FeatureExtractor/InceptionV2/Mixed_4e/Branch_1/Conv2d_0b_3x3/BatchNorm/beta/ExponentialMovingAverage] is not available in checkpoint\n",
            "W0627 10:13:43.204166 140259507906432 variables_helper.py:152] Variable [FeatureExtractor/InceptionV2/Mixed_4e/Branch_1/Conv2d_0b_3x3/BatchNorm/beta/RMSProp] is not available in checkpoint\n",
            "W0627 10:13:43.204301 140259507906432 variables_helper.py:152] Variable [FeatureExtractor/InceptionV2/Mixed_4e/Branch_1/Conv2d_0b_3x3/BatchNorm/beta/RMSProp_1] is not available in checkpoint\n",
            "W0627 10:13:43.204516 140259507906432 variables_helper.py:152] Variable [FeatureExtractor/InceptionV2/Mixed_4e/Branch_1/Conv2d_0b_3x3/BatchNorm/gamma/ExponentialMovingAverage] is not available in checkpoint\n",
            "W0627 10:13:43.204661 140259507906432 variables_helper.py:152] Variable [FeatureExtractor/InceptionV2/Mixed_4e/Branch_1/Conv2d_0b_3x3/BatchNorm/gamma/RMSProp] is not available in checkpoint\n",
            "W0627 10:13:43.204842 140259507906432 variables_helper.py:152] Variable [FeatureExtractor/InceptionV2/Mixed_4e/Branch_1/Conv2d_0b_3x3/BatchNorm/gamma/RMSProp_1] is not available in checkpoint\n",
            "W0627 10:13:43.205009 140259507906432 variables_helper.py:152] Variable [FeatureExtractor/InceptionV2/Mixed_4e/Branch_1/Conv2d_0b_3x3/weights/ExponentialMovingAverage] is not available in checkpoint\n",
            "W0627 10:13:43.205244 140259507906432 variables_helper.py:152] Variable [FeatureExtractor/InceptionV2/Mixed_4e/Branch_1/Conv2d_0b_3x3/weights/RMSProp] is not available in checkpoint\n",
            "W0627 10:13:43.205582 140259507906432 variables_helper.py:152] Variable [FeatureExtractor/InceptionV2/Mixed_4e/Branch_1/Conv2d_0b_3x3/weights/RMSProp_1] is not available in checkpoint\n",
            "W0627 10:13:43.206065 140259507906432 variables_helper.py:152] Variable [FeatureExtractor/InceptionV2/Mixed_4e/Branch_2/Conv2d_0a_1x1/BatchNorm/beta/ExponentialMovingAverage] is not available in checkpoint\n",
            "W0627 10:13:43.206404 140259507906432 variables_helper.py:152] Variable [FeatureExtractor/InceptionV2/Mixed_4e/Branch_2/Conv2d_0a_1x1/BatchNorm/beta/RMSProp] is not available in checkpoint\n",
            "W0627 10:13:43.206762 140259507906432 variables_helper.py:152] Variable [FeatureExtractor/InceptionV2/Mixed_4e/Branch_2/Conv2d_0a_1x1/BatchNorm/beta/RMSProp_1] is not available in checkpoint\n",
            "W0627 10:13:43.207104 140259507906432 variables_helper.py:152] Variable [FeatureExtractor/InceptionV2/Mixed_4e/Branch_2/Conv2d_0a_1x1/BatchNorm/gamma/ExponentialMovingAverage] is not available in checkpoint\n",
            "W0627 10:13:43.207869 140259507906432 variables_helper.py:152] Variable [FeatureExtractor/InceptionV2/Mixed_4e/Branch_2/Conv2d_0a_1x1/BatchNorm/gamma/RMSProp] is not available in checkpoint\n",
            "W0627 10:13:43.208352 140259507906432 variables_helper.py:152] Variable [FeatureExtractor/InceptionV2/Mixed_4e/Branch_2/Conv2d_0a_1x1/BatchNorm/gamma/RMSProp_1] is not available in checkpoint\n",
            "W0627 10:13:43.208840 140259507906432 variables_helper.py:152] Variable [FeatureExtractor/InceptionV2/Mixed_4e/Branch_2/Conv2d_0a_1x1/weights/ExponentialMovingAverage] is not available in checkpoint\n",
            "W0627 10:13:43.209276 140259507906432 variables_helper.py:152] Variable [FeatureExtractor/InceptionV2/Mixed_4e/Branch_2/Conv2d_0a_1x1/weights/RMSProp] is not available in checkpoint\n",
            "W0627 10:13:43.209775 140259507906432 variables_helper.py:152] Variable [FeatureExtractor/InceptionV2/Mixed_4e/Branch_2/Conv2d_0a_1x1/weights/RMSProp_1] is not available in checkpoint\n",
            "W0627 10:13:43.210353 140259507906432 variables_helper.py:152] Variable [FeatureExtractor/InceptionV2/Mixed_4e/Branch_2/Conv2d_0b_3x3/BatchNorm/beta/ExponentialMovingAverage] is not available in checkpoint\n",
            "W0627 10:13:43.210808 140259507906432 variables_helper.py:152] Variable [FeatureExtractor/InceptionV2/Mixed_4e/Branch_2/Conv2d_0b_3x3/BatchNorm/beta/RMSProp] is not available in checkpoint\n",
            "W0627 10:13:43.211279 140259507906432 variables_helper.py:152] Variable [FeatureExtractor/InceptionV2/Mixed_4e/Branch_2/Conv2d_0b_3x3/BatchNorm/beta/RMSProp_1] is not available in checkpoint\n",
            "W0627 10:13:43.211677 140259507906432 variables_helper.py:152] Variable [FeatureExtractor/InceptionV2/Mixed_4e/Branch_2/Conv2d_0b_3x3/BatchNorm/gamma/ExponentialMovingAverage] is not available in checkpoint\n",
            "W0627 10:13:43.212072 140259507906432 variables_helper.py:152] Variable [FeatureExtractor/InceptionV2/Mixed_4e/Branch_2/Conv2d_0b_3x3/BatchNorm/gamma/RMSProp] is not available in checkpoint\n",
            "W0627 10:13:43.212532 140259507906432 variables_helper.py:152] Variable [FeatureExtractor/InceptionV2/Mixed_4e/Branch_2/Conv2d_0b_3x3/BatchNorm/gamma/RMSProp_1] is not available in checkpoint\n",
            "W0627 10:13:43.212993 140259507906432 variables_helper.py:152] Variable [FeatureExtractor/InceptionV2/Mixed_4e/Branch_2/Conv2d_0b_3x3/weights/ExponentialMovingAverage] is not available in checkpoint\n",
            "W0627 10:13:43.213451 140259507906432 variables_helper.py:152] Variable [FeatureExtractor/InceptionV2/Mixed_4e/Branch_2/Conv2d_0b_3x3/weights/RMSProp] is not available in checkpoint\n",
            "W0627 10:13:43.213920 140259507906432 variables_helper.py:152] Variable [FeatureExtractor/InceptionV2/Mixed_4e/Branch_2/Conv2d_0b_3x3/weights/RMSProp_1] is not available in checkpoint\n",
            "W0627 10:13:43.214279 140259507906432 variables_helper.py:152] Variable [FeatureExtractor/InceptionV2/Mixed_4e/Branch_2/Conv2d_0c_3x3/BatchNorm/beta/ExponentialMovingAverage] is not available in checkpoint\n",
            "W0627 10:13:43.214782 140259507906432 variables_helper.py:152] Variable [FeatureExtractor/InceptionV2/Mixed_4e/Branch_2/Conv2d_0c_3x3/BatchNorm/beta/RMSProp] is not available in checkpoint\n",
            "W0627 10:13:43.215146 140259507906432 variables_helper.py:152] Variable [FeatureExtractor/InceptionV2/Mixed_4e/Branch_2/Conv2d_0c_3x3/BatchNorm/beta/RMSProp_1] is not available in checkpoint\n",
            "W0627 10:13:43.215565 140259507906432 variables_helper.py:152] Variable [FeatureExtractor/InceptionV2/Mixed_4e/Branch_2/Conv2d_0c_3x3/BatchNorm/gamma/ExponentialMovingAverage] is not available in checkpoint\n",
            "W0627 10:13:43.215814 140259507906432 variables_helper.py:152] Variable [FeatureExtractor/InceptionV2/Mixed_4e/Branch_2/Conv2d_0c_3x3/BatchNorm/gamma/RMSProp] is not available in checkpoint\n",
            "W0627 10:13:43.216514 140259507906432 variables_helper.py:152] Variable [FeatureExtractor/InceptionV2/Mixed_4e/Branch_2/Conv2d_0c_3x3/BatchNorm/gamma/RMSProp_1] is not available in checkpoint\n",
            "W0627 10:13:43.216659 140259507906432 variables_helper.py:152] Variable [FeatureExtractor/InceptionV2/Mixed_4e/Branch_2/Conv2d_0c_3x3/weights/ExponentialMovingAverage] is not available in checkpoint\n",
            "W0627 10:13:43.216750 140259507906432 variables_helper.py:152] Variable [FeatureExtractor/InceptionV2/Mixed_4e/Branch_2/Conv2d_0c_3x3/weights/RMSProp] is not available in checkpoint\n",
            "W0627 10:13:43.216857 140259507906432 variables_helper.py:152] Variable [FeatureExtractor/InceptionV2/Mixed_4e/Branch_2/Conv2d_0c_3x3/weights/RMSProp_1] is not available in checkpoint\n",
            "W0627 10:13:43.216948 140259507906432 variables_helper.py:152] Variable [FeatureExtractor/InceptionV2/Mixed_4e/Branch_3/Conv2d_0b_1x1/BatchNorm/beta/ExponentialMovingAverage] is not available in checkpoint\n",
            "W0627 10:13:43.217032 140259507906432 variables_helper.py:152] Variable [FeatureExtractor/InceptionV2/Mixed_4e/Branch_3/Conv2d_0b_1x1/BatchNorm/beta/RMSProp] is not available in checkpoint\n",
            "W0627 10:13:43.217116 140259507906432 variables_helper.py:152] Variable [FeatureExtractor/InceptionV2/Mixed_4e/Branch_3/Conv2d_0b_1x1/BatchNorm/beta/RMSProp_1] is not available in checkpoint\n",
            "W0627 10:13:43.217231 140259507906432 variables_helper.py:152] Variable [FeatureExtractor/InceptionV2/Mixed_4e/Branch_3/Conv2d_0b_1x1/BatchNorm/gamma/ExponentialMovingAverage] is not available in checkpoint\n",
            "W0627 10:13:43.217314 140259507906432 variables_helper.py:152] Variable [FeatureExtractor/InceptionV2/Mixed_4e/Branch_3/Conv2d_0b_1x1/BatchNorm/gamma/RMSProp] is not available in checkpoint\n",
            "W0627 10:13:43.217398 140259507906432 variables_helper.py:152] Variable [FeatureExtractor/InceptionV2/Mixed_4e/Branch_3/Conv2d_0b_1x1/BatchNorm/gamma/RMSProp_1] is not available in checkpoint\n",
            "W0627 10:13:43.217533 140259507906432 variables_helper.py:152] Variable [FeatureExtractor/InceptionV2/Mixed_4e/Branch_3/Conv2d_0b_1x1/weights/ExponentialMovingAverage] is not available in checkpoint\n",
            "W0627 10:13:43.217618 140259507906432 variables_helper.py:152] Variable [FeatureExtractor/InceptionV2/Mixed_4e/Branch_3/Conv2d_0b_1x1/weights/RMSProp] is not available in checkpoint\n",
            "W0627 10:13:43.217702 140259507906432 variables_helper.py:152] Variable [FeatureExtractor/InceptionV2/Mixed_4e/Branch_3/Conv2d_0b_1x1/weights/RMSProp_1] is not available in checkpoint\n",
            "W0627 10:13:43.217813 140259507906432 variables_helper.py:152] Variable [FeatureExtractor/InceptionV2/Mixed_5a/Branch_0/Conv2d_0a_1x1/BatchNorm/beta/ExponentialMovingAverage] is not available in checkpoint\n",
            "W0627 10:13:43.217898 140259507906432 variables_helper.py:152] Variable [FeatureExtractor/InceptionV2/Mixed_5a/Branch_0/Conv2d_0a_1x1/BatchNorm/beta/RMSProp] is not available in checkpoint\n",
            "W0627 10:13:43.217982 140259507906432 variables_helper.py:152] Variable [FeatureExtractor/InceptionV2/Mixed_5a/Branch_0/Conv2d_0a_1x1/BatchNorm/beta/RMSProp_1] is not available in checkpoint\n",
            "W0627 10:13:43.218070 140259507906432 variables_helper.py:152] Variable [FeatureExtractor/InceptionV2/Mixed_5a/Branch_0/Conv2d_0a_1x1/BatchNorm/gamma/ExponentialMovingAverage] is not available in checkpoint\n",
            "W0627 10:13:43.218173 140259507906432 variables_helper.py:152] Variable [FeatureExtractor/InceptionV2/Mixed_5a/Branch_0/Conv2d_0a_1x1/BatchNorm/gamma/RMSProp] is not available in checkpoint\n",
            "W0627 10:13:43.218264 140259507906432 variables_helper.py:152] Variable [FeatureExtractor/InceptionV2/Mixed_5a/Branch_0/Conv2d_0a_1x1/BatchNorm/gamma/RMSProp_1] is not available in checkpoint\n",
            "W0627 10:13:43.218365 140259507906432 variables_helper.py:152] Variable [FeatureExtractor/InceptionV2/Mixed_5a/Branch_0/Conv2d_0a_1x1/weights/ExponentialMovingAverage] is not available in checkpoint\n",
            "W0627 10:13:43.218448 140259507906432 variables_helper.py:152] Variable [FeatureExtractor/InceptionV2/Mixed_5a/Branch_0/Conv2d_0a_1x1/weights/RMSProp] is not available in checkpoint\n",
            "W0627 10:13:43.218557 140259507906432 variables_helper.py:152] Variable [FeatureExtractor/InceptionV2/Mixed_5a/Branch_0/Conv2d_0a_1x1/weights/RMSProp_1] is not available in checkpoint\n",
            "W0627 10:13:43.218648 140259507906432 variables_helper.py:152] Variable [FeatureExtractor/InceptionV2/Mixed_5a/Branch_0/Conv2d_1a_3x3/BatchNorm/beta/ExponentialMovingAverage] is not available in checkpoint\n",
            "W0627 10:13:43.218733 140259507906432 variables_helper.py:152] Variable [FeatureExtractor/InceptionV2/Mixed_5a/Branch_0/Conv2d_1a_3x3/BatchNorm/beta/RMSProp] is not available in checkpoint\n",
            "W0627 10:13:43.218816 140259507906432 variables_helper.py:152] Variable [FeatureExtractor/InceptionV2/Mixed_5a/Branch_0/Conv2d_1a_3x3/BatchNorm/beta/RMSProp_1] is not available in checkpoint\n",
            "W0627 10:13:43.218904 140259507906432 variables_helper.py:152] Variable [FeatureExtractor/InceptionV2/Mixed_5a/Branch_0/Conv2d_1a_3x3/BatchNorm/gamma/ExponentialMovingAverage] is not available in checkpoint\n",
            "W0627 10:13:43.301558 140259507906432 variables_helper.py:152] Variable [FeatureExtractor/InceptionV2/Mixed_5a/Branch_0/Conv2d_1a_3x3/BatchNorm/gamma/RMSProp] is not available in checkpoint\n",
            "W0627 10:13:43.301782 140259507906432 variables_helper.py:152] Variable [FeatureExtractor/InceptionV2/Mixed_5a/Branch_0/Conv2d_1a_3x3/BatchNorm/gamma/RMSProp_1] is not available in checkpoint\n",
            "W0627 10:13:43.301915 140259507906432 variables_helper.py:152] Variable [FeatureExtractor/InceptionV2/Mixed_5a/Branch_0/Conv2d_1a_3x3/weights/ExponentialMovingAverage] is not available in checkpoint\n",
            "W0627 10:13:43.302001 140259507906432 variables_helper.py:152] Variable [FeatureExtractor/InceptionV2/Mixed_5a/Branch_0/Conv2d_1a_3x3/weights/RMSProp] is not available in checkpoint\n",
            "W0627 10:13:43.302065 140259507906432 variables_helper.py:152] Variable [FeatureExtractor/InceptionV2/Mixed_5a/Branch_0/Conv2d_1a_3x3/weights/RMSProp_1] is not available in checkpoint\n",
            "W0627 10:13:43.302143 140259507906432 variables_helper.py:152] Variable [FeatureExtractor/InceptionV2/Mixed_5a/Branch_1/Conv2d_0a_1x1/BatchNorm/beta/ExponentialMovingAverage] is not available in checkpoint\n",
            "W0627 10:13:43.302215 140259507906432 variables_helper.py:152] Variable [FeatureExtractor/InceptionV2/Mixed_5a/Branch_1/Conv2d_0a_1x1/BatchNorm/beta/RMSProp] is not available in checkpoint\n",
            "W0627 10:13:43.302282 140259507906432 variables_helper.py:152] Variable [FeatureExtractor/InceptionV2/Mixed_5a/Branch_1/Conv2d_0a_1x1/BatchNorm/beta/RMSProp_1] is not available in checkpoint\n",
            "W0627 10:13:43.302353 140259507906432 variables_helper.py:152] Variable [FeatureExtractor/InceptionV2/Mixed_5a/Branch_1/Conv2d_0a_1x1/BatchNorm/gamma/ExponentialMovingAverage] is not available in checkpoint\n",
            "W0627 10:13:43.302415 140259507906432 variables_helper.py:152] Variable [FeatureExtractor/InceptionV2/Mixed_5a/Branch_1/Conv2d_0a_1x1/BatchNorm/gamma/RMSProp] is not available in checkpoint\n",
            "W0627 10:13:43.302489 140259507906432 variables_helper.py:152] Variable [FeatureExtractor/InceptionV2/Mixed_5a/Branch_1/Conv2d_0a_1x1/BatchNorm/gamma/RMSProp_1] is not available in checkpoint\n",
            "W0627 10:13:43.302571 140259507906432 variables_helper.py:152] Variable [FeatureExtractor/InceptionV2/Mixed_5a/Branch_1/Conv2d_0a_1x1/weights/ExponentialMovingAverage] is not available in checkpoint\n",
            "W0627 10:13:43.302640 140259507906432 variables_helper.py:152] Variable [FeatureExtractor/InceptionV2/Mixed_5a/Branch_1/Conv2d_0a_1x1/weights/RMSProp] is not available in checkpoint\n",
            "W0627 10:13:43.302706 140259507906432 variables_helper.py:152] Variable [FeatureExtractor/InceptionV2/Mixed_5a/Branch_1/Conv2d_0a_1x1/weights/RMSProp_1] is not available in checkpoint\n",
            "W0627 10:13:43.302773 140259507906432 variables_helper.py:152] Variable [FeatureExtractor/InceptionV2/Mixed_5a/Branch_1/Conv2d_0b_3x3/BatchNorm/beta/ExponentialMovingAverage] is not available in checkpoint\n",
            "W0627 10:13:43.302832 140259507906432 variables_helper.py:152] Variable [FeatureExtractor/InceptionV2/Mixed_5a/Branch_1/Conv2d_0b_3x3/BatchNorm/beta/RMSProp] is not available in checkpoint\n",
            "W0627 10:13:43.302895 140259507906432 variables_helper.py:152] Variable [FeatureExtractor/InceptionV2/Mixed_5a/Branch_1/Conv2d_0b_3x3/BatchNorm/beta/RMSProp_1] is not available in checkpoint\n",
            "W0627 10:13:43.302962 140259507906432 variables_helper.py:152] Variable [FeatureExtractor/InceptionV2/Mixed_5a/Branch_1/Conv2d_0b_3x3/BatchNorm/gamma/ExponentialMovingAverage] is not available in checkpoint\n",
            "W0627 10:13:43.303027 140259507906432 variables_helper.py:152] Variable [FeatureExtractor/InceptionV2/Mixed_5a/Branch_1/Conv2d_0b_3x3/BatchNorm/gamma/RMSProp] is not available in checkpoint\n",
            "W0627 10:13:43.303086 140259507906432 variables_helper.py:152] Variable [FeatureExtractor/InceptionV2/Mixed_5a/Branch_1/Conv2d_0b_3x3/BatchNorm/gamma/RMSProp_1] is not available in checkpoint\n",
            "W0627 10:13:43.303161 140259507906432 variables_helper.py:152] Variable [FeatureExtractor/InceptionV2/Mixed_5a/Branch_1/Conv2d_0b_3x3/weights/ExponentialMovingAverage] is not available in checkpoint\n",
            "W0627 10:13:43.303240 140259507906432 variables_helper.py:152] Variable [FeatureExtractor/InceptionV2/Mixed_5a/Branch_1/Conv2d_0b_3x3/weights/RMSProp] is not available in checkpoint\n",
            "W0627 10:13:43.303304 140259507906432 variables_helper.py:152] Variable [FeatureExtractor/InceptionV2/Mixed_5a/Branch_1/Conv2d_0b_3x3/weights/RMSProp_1] is not available in checkpoint\n",
            "W0627 10:13:43.303372 140259507906432 variables_helper.py:152] Variable [FeatureExtractor/InceptionV2/Mixed_5a/Branch_1/Conv2d_1a_3x3/BatchNorm/beta/ExponentialMovingAverage] is not available in checkpoint\n",
            "W0627 10:13:43.303433 140259507906432 variables_helper.py:152] Variable [FeatureExtractor/InceptionV2/Mixed_5a/Branch_1/Conv2d_1a_3x3/BatchNorm/beta/RMSProp] is not available in checkpoint\n",
            "W0627 10:13:43.303548 140259507906432 variables_helper.py:152] Variable [FeatureExtractor/InceptionV2/Mixed_5a/Branch_1/Conv2d_1a_3x3/BatchNorm/beta/RMSProp_1] is not available in checkpoint\n",
            "W0627 10:13:43.303620 140259507906432 variables_helper.py:152] Variable [FeatureExtractor/InceptionV2/Mixed_5a/Branch_1/Conv2d_1a_3x3/BatchNorm/gamma/ExponentialMovingAverage] is not available in checkpoint\n",
            "W0627 10:13:43.303687 140259507906432 variables_helper.py:152] Variable [FeatureExtractor/InceptionV2/Mixed_5a/Branch_1/Conv2d_1a_3x3/BatchNorm/gamma/RMSProp] is not available in checkpoint\n",
            "W0627 10:13:43.303752 140259507906432 variables_helper.py:152] Variable [FeatureExtractor/InceptionV2/Mixed_5a/Branch_1/Conv2d_1a_3x3/BatchNorm/gamma/RMSProp_1] is not available in checkpoint\n",
            "W0627 10:13:43.303837 140259507906432 variables_helper.py:152] Variable [FeatureExtractor/InceptionV2/Mixed_5a/Branch_1/Conv2d_1a_3x3/weights/ExponentialMovingAverage] is not available in checkpoint\n",
            "W0627 10:13:43.303900 140259507906432 variables_helper.py:152] Variable [FeatureExtractor/InceptionV2/Mixed_5a/Branch_1/Conv2d_1a_3x3/weights/RMSProp] is not available in checkpoint\n",
            "W0627 10:13:43.303990 140259507906432 variables_helper.py:152] Variable [FeatureExtractor/InceptionV2/Mixed_5a/Branch_1/Conv2d_1a_3x3/weights/RMSProp_1] is not available in checkpoint\n",
            "W0627 10:13:43.304060 140259507906432 variables_helper.py:152] Variable [FeatureExtractor/InceptionV2/Mixed_5b/Branch_0/Conv2d_0a_1x1/BatchNorm/beta/ExponentialMovingAverage] is not available in checkpoint\n",
            "W0627 10:13:43.304126 140259507906432 variables_helper.py:152] Variable [FeatureExtractor/InceptionV2/Mixed_5b/Branch_0/Conv2d_0a_1x1/BatchNorm/beta/RMSProp] is not available in checkpoint\n",
            "W0627 10:13:43.304189 140259507906432 variables_helper.py:152] Variable [FeatureExtractor/InceptionV2/Mixed_5b/Branch_0/Conv2d_0a_1x1/BatchNorm/beta/RMSProp_1] is not available in checkpoint\n",
            "W0627 10:13:43.304264 140259507906432 variables_helper.py:152] Variable [FeatureExtractor/InceptionV2/Mixed_5b/Branch_0/Conv2d_0a_1x1/BatchNorm/gamma/ExponentialMovingAverage] is not available in checkpoint\n",
            "W0627 10:13:43.304324 140259507906432 variables_helper.py:152] Variable [FeatureExtractor/InceptionV2/Mixed_5b/Branch_0/Conv2d_0a_1x1/BatchNorm/gamma/RMSProp] is not available in checkpoint\n",
            "W0627 10:13:43.304389 140259507906432 variables_helper.py:152] Variable [FeatureExtractor/InceptionV2/Mixed_5b/Branch_0/Conv2d_0a_1x1/BatchNorm/gamma/RMSProp_1] is not available in checkpoint\n",
            "W0627 10:13:43.304491 140259507906432 variables_helper.py:152] Variable [FeatureExtractor/InceptionV2/Mixed_5b/Branch_0/Conv2d_0a_1x1/weights/ExponentialMovingAverage] is not available in checkpoint\n",
            "W0627 10:13:43.304566 140259507906432 variables_helper.py:152] Variable [FeatureExtractor/InceptionV2/Mixed_5b/Branch_0/Conv2d_0a_1x1/weights/RMSProp] is not available in checkpoint\n",
            "W0627 10:13:43.304627 140259507906432 variables_helper.py:152] Variable [FeatureExtractor/InceptionV2/Mixed_5b/Branch_0/Conv2d_0a_1x1/weights/RMSProp_1] is not available in checkpoint\n",
            "W0627 10:13:43.304697 140259507906432 variables_helper.py:152] Variable [FeatureExtractor/InceptionV2/Mixed_5b/Branch_1/Conv2d_0a_1x1/BatchNorm/beta/ExponentialMovingAverage] is not available in checkpoint\n",
            "W0627 10:13:43.304761 140259507906432 variables_helper.py:152] Variable [FeatureExtractor/InceptionV2/Mixed_5b/Branch_1/Conv2d_0a_1x1/BatchNorm/beta/RMSProp] is not available in checkpoint\n",
            "W0627 10:13:43.304816 140259507906432 variables_helper.py:152] Variable [FeatureExtractor/InceptionV2/Mixed_5b/Branch_1/Conv2d_0a_1x1/BatchNorm/beta/RMSProp_1] is not available in checkpoint\n",
            "W0627 10:13:43.304873 140259507906432 variables_helper.py:152] Variable [FeatureExtractor/InceptionV2/Mixed_5b/Branch_1/Conv2d_0a_1x1/BatchNorm/gamma/ExponentialMovingAverage] is not available in checkpoint\n",
            "W0627 10:13:43.304918 140259507906432 variables_helper.py:152] Variable [FeatureExtractor/InceptionV2/Mixed_5b/Branch_1/Conv2d_0a_1x1/BatchNorm/gamma/RMSProp] is not available in checkpoint\n",
            "W0627 10:13:43.304962 140259507906432 variables_helper.py:152] Variable [FeatureExtractor/InceptionV2/Mixed_5b/Branch_1/Conv2d_0a_1x1/BatchNorm/gamma/RMSProp_1] is not available in checkpoint\n",
            "W0627 10:13:43.305024 140259507906432 variables_helper.py:152] Variable [FeatureExtractor/InceptionV2/Mixed_5b/Branch_1/Conv2d_0a_1x1/weights/ExponentialMovingAverage] is not available in checkpoint\n",
            "W0627 10:13:43.305080 140259507906432 variables_helper.py:152] Variable [FeatureExtractor/InceptionV2/Mixed_5b/Branch_1/Conv2d_0a_1x1/weights/RMSProp] is not available in checkpoint\n",
            "W0627 10:13:43.305136 140259507906432 variables_helper.py:152] Variable [FeatureExtractor/InceptionV2/Mixed_5b/Branch_1/Conv2d_0a_1x1/weights/RMSProp_1] is not available in checkpoint\n",
            "W0627 10:13:43.306823 140259507906432 variables_helper.py:152] Variable [FeatureExtractor/InceptionV2/Mixed_5b/Branch_1/Conv2d_0b_3x3/BatchNorm/beta/ExponentialMovingAverage] is not available in checkpoint\n",
            "W0627 10:13:43.306966 140259507906432 variables_helper.py:152] Variable [FeatureExtractor/InceptionV2/Mixed_5b/Branch_1/Conv2d_0b_3x3/BatchNorm/beta/RMSProp] is not available in checkpoint\n",
            "W0627 10:13:43.307054 140259507906432 variables_helper.py:152] Variable [FeatureExtractor/InceptionV2/Mixed_5b/Branch_1/Conv2d_0b_3x3/BatchNorm/beta/RMSProp_1] is not available in checkpoint\n",
            "W0627 10:13:43.307136 140259507906432 variables_helper.py:152] Variable [FeatureExtractor/InceptionV2/Mixed_5b/Branch_1/Conv2d_0b_3x3/BatchNorm/gamma/ExponentialMovingAverage] is not available in checkpoint\n",
            "W0627 10:13:43.307213 140259507906432 variables_helper.py:152] Variable [FeatureExtractor/InceptionV2/Mixed_5b/Branch_1/Conv2d_0b_3x3/BatchNorm/gamma/RMSProp] is not available in checkpoint\n",
            "W0627 10:13:43.307280 140259507906432 variables_helper.py:152] Variable [FeatureExtractor/InceptionV2/Mixed_5b/Branch_1/Conv2d_0b_3x3/BatchNorm/gamma/RMSProp_1] is not available in checkpoint\n",
            "W0627 10:13:43.307365 140259507906432 variables_helper.py:152] Variable [FeatureExtractor/InceptionV2/Mixed_5b/Branch_1/Conv2d_0b_3x3/weights/ExponentialMovingAverage] is not available in checkpoint\n",
            "W0627 10:13:43.307439 140259507906432 variables_helper.py:152] Variable [FeatureExtractor/InceptionV2/Mixed_5b/Branch_1/Conv2d_0b_3x3/weights/RMSProp] is not available in checkpoint\n",
            "W0627 10:13:43.307547 140259507906432 variables_helper.py:152] Variable [FeatureExtractor/InceptionV2/Mixed_5b/Branch_1/Conv2d_0b_3x3/weights/RMSProp_1] is not available in checkpoint\n",
            "W0627 10:13:43.307630 140259507906432 variables_helper.py:152] Variable [FeatureExtractor/InceptionV2/Mixed_5b/Branch_2/Conv2d_0a_1x1/BatchNorm/beta/ExponentialMovingAverage] is not available in checkpoint\n",
            "W0627 10:13:43.307713 140259507906432 variables_helper.py:152] Variable [FeatureExtractor/InceptionV2/Mixed_5b/Branch_2/Conv2d_0a_1x1/BatchNorm/beta/RMSProp] is not available in checkpoint\n",
            "W0627 10:13:43.307783 140259507906432 variables_helper.py:152] Variable [FeatureExtractor/InceptionV2/Mixed_5b/Branch_2/Conv2d_0a_1x1/BatchNorm/beta/RMSProp_1] is not available in checkpoint\n",
            "W0627 10:13:43.307859 140259507906432 variables_helper.py:152] Variable [FeatureExtractor/InceptionV2/Mixed_5b/Branch_2/Conv2d_0a_1x1/BatchNorm/gamma/ExponentialMovingAverage] is not available in checkpoint\n",
            "W0627 10:13:43.307930 140259507906432 variables_helper.py:152] Variable [FeatureExtractor/InceptionV2/Mixed_5b/Branch_2/Conv2d_0a_1x1/BatchNorm/gamma/RMSProp] is not available in checkpoint\n",
            "W0627 10:13:43.308292 140259507906432 variables_helper.py:152] Variable [FeatureExtractor/InceptionV2/Mixed_5b/Branch_2/Conv2d_0a_1x1/BatchNorm/gamma/RMSProp_1] is not available in checkpoint\n",
            "W0627 10:13:43.310389 140259507906432 variables_helper.py:152] Variable [FeatureExtractor/InceptionV2/Mixed_5b/Branch_2/Conv2d_0a_1x1/weights/ExponentialMovingAverage] is not available in checkpoint\n",
            "W0627 10:13:43.310500 140259507906432 variables_helper.py:152] Variable [FeatureExtractor/InceptionV2/Mixed_5b/Branch_2/Conv2d_0a_1x1/weights/RMSProp] is not available in checkpoint\n",
            "W0627 10:13:43.310581 140259507906432 variables_helper.py:152] Variable [FeatureExtractor/InceptionV2/Mixed_5b/Branch_2/Conv2d_0a_1x1/weights/RMSProp_1] is not available in checkpoint\n",
            "W0627 10:13:43.310653 140259507906432 variables_helper.py:152] Variable [FeatureExtractor/InceptionV2/Mixed_5b/Branch_2/Conv2d_0b_3x3/BatchNorm/beta/ExponentialMovingAverage] is not available in checkpoint\n",
            "W0627 10:13:43.310717 140259507906432 variables_helper.py:152] Variable [FeatureExtractor/InceptionV2/Mixed_5b/Branch_2/Conv2d_0b_3x3/BatchNorm/beta/RMSProp] is not available in checkpoint\n",
            "W0627 10:13:43.310776 140259507906432 variables_helper.py:152] Variable [FeatureExtractor/InceptionV2/Mixed_5b/Branch_2/Conv2d_0b_3x3/BatchNorm/beta/RMSProp_1] is not available in checkpoint\n",
            "W0627 10:13:43.310834 140259507906432 variables_helper.py:152] Variable [FeatureExtractor/InceptionV2/Mixed_5b/Branch_2/Conv2d_0b_3x3/BatchNorm/gamma/ExponentialMovingAverage] is not available in checkpoint\n",
            "W0627 10:13:43.310885 140259507906432 variables_helper.py:152] Variable [FeatureExtractor/InceptionV2/Mixed_5b/Branch_2/Conv2d_0b_3x3/BatchNorm/gamma/RMSProp] is not available in checkpoint\n",
            "W0627 10:13:43.310935 140259507906432 variables_helper.py:152] Variable [FeatureExtractor/InceptionV2/Mixed_5b/Branch_2/Conv2d_0b_3x3/BatchNorm/gamma/RMSProp_1] is not available in checkpoint\n",
            "W0627 10:13:43.311000 140259507906432 variables_helper.py:152] Variable [FeatureExtractor/InceptionV2/Mixed_5b/Branch_2/Conv2d_0b_3x3/weights/ExponentialMovingAverage] is not available in checkpoint\n",
            "W0627 10:13:43.311052 140259507906432 variables_helper.py:152] Variable [FeatureExtractor/InceptionV2/Mixed_5b/Branch_2/Conv2d_0b_3x3/weights/RMSProp] is not available in checkpoint\n",
            "W0627 10:13:43.311101 140259507906432 variables_helper.py:152] Variable [FeatureExtractor/InceptionV2/Mixed_5b/Branch_2/Conv2d_0b_3x3/weights/RMSProp_1] is not available in checkpoint\n",
            "W0627 10:13:43.311157 140259507906432 variables_helper.py:152] Variable [FeatureExtractor/InceptionV2/Mixed_5b/Branch_2/Conv2d_0c_3x3/BatchNorm/beta/ExponentialMovingAverage] is not available in checkpoint\n",
            "W0627 10:13:43.311208 140259507906432 variables_helper.py:152] Variable [FeatureExtractor/InceptionV2/Mixed_5b/Branch_2/Conv2d_0c_3x3/BatchNorm/beta/RMSProp] is not available in checkpoint\n",
            "W0627 10:13:43.311257 140259507906432 variables_helper.py:152] Variable [FeatureExtractor/InceptionV2/Mixed_5b/Branch_2/Conv2d_0c_3x3/BatchNorm/beta/RMSProp_1] is not available in checkpoint\n",
            "W0627 10:13:43.311311 140259507906432 variables_helper.py:152] Variable [FeatureExtractor/InceptionV2/Mixed_5b/Branch_2/Conv2d_0c_3x3/BatchNorm/gamma/ExponentialMovingAverage] is not available in checkpoint\n",
            "W0627 10:13:43.311361 140259507906432 variables_helper.py:152] Variable [FeatureExtractor/InceptionV2/Mixed_5b/Branch_2/Conv2d_0c_3x3/BatchNorm/gamma/RMSProp] is not available in checkpoint\n",
            "W0627 10:13:43.311410 140259507906432 variables_helper.py:152] Variable [FeatureExtractor/InceptionV2/Mixed_5b/Branch_2/Conv2d_0c_3x3/BatchNorm/gamma/RMSProp_1] is not available in checkpoint\n",
            "W0627 10:13:43.311502 140259507906432 variables_helper.py:152] Variable [FeatureExtractor/InceptionV2/Mixed_5b/Branch_2/Conv2d_0c_3x3/weights/ExponentialMovingAverage] is not available in checkpoint\n",
            "W0627 10:13:43.311574 140259507906432 variables_helper.py:152] Variable [FeatureExtractor/InceptionV2/Mixed_5b/Branch_2/Conv2d_0c_3x3/weights/RMSProp] is not available in checkpoint\n",
            "W0627 10:13:43.311634 140259507906432 variables_helper.py:152] Variable [FeatureExtractor/InceptionV2/Mixed_5b/Branch_2/Conv2d_0c_3x3/weights/RMSProp_1] is not available in checkpoint\n",
            "W0627 10:13:43.311712 140259507906432 variables_helper.py:152] Variable [FeatureExtractor/InceptionV2/Mixed_5b/Branch_3/Conv2d_0b_1x1/BatchNorm/beta/ExponentialMovingAverage] is not available in checkpoint\n",
            "W0627 10:13:43.311805 140259507906432 variables_helper.py:152] Variable [FeatureExtractor/InceptionV2/Mixed_5b/Branch_3/Conv2d_0b_1x1/BatchNorm/beta/RMSProp] is not available in checkpoint\n",
            "W0627 10:13:43.311892 140259507906432 variables_helper.py:152] Variable [FeatureExtractor/InceptionV2/Mixed_5b/Branch_3/Conv2d_0b_1x1/BatchNorm/beta/RMSProp_1] is not available in checkpoint\n",
            "W0627 10:13:43.311985 140259507906432 variables_helper.py:152] Variable [FeatureExtractor/InceptionV2/Mixed_5b/Branch_3/Conv2d_0b_1x1/BatchNorm/gamma/ExponentialMovingAverage] is not available in checkpoint\n",
            "W0627 10:13:43.312072 140259507906432 variables_helper.py:152] Variable [FeatureExtractor/InceptionV2/Mixed_5b/Branch_3/Conv2d_0b_1x1/BatchNorm/gamma/RMSProp] is not available in checkpoint\n",
            "W0627 10:13:43.312155 140259507906432 variables_helper.py:152] Variable [FeatureExtractor/InceptionV2/Mixed_5b/Branch_3/Conv2d_0b_1x1/BatchNorm/gamma/RMSProp_1] is not available in checkpoint\n",
            "W0627 10:13:43.312263 140259507906432 variables_helper.py:152] Variable [FeatureExtractor/InceptionV2/Mixed_5b/Branch_3/Conv2d_0b_1x1/weights/ExponentialMovingAverage] is not available in checkpoint\n",
            "W0627 10:13:43.312355 140259507906432 variables_helper.py:152] Variable [FeatureExtractor/InceptionV2/Mixed_5b/Branch_3/Conv2d_0b_1x1/weights/RMSProp] is not available in checkpoint\n",
            "W0627 10:13:43.312437 140259507906432 variables_helper.py:152] Variable [FeatureExtractor/InceptionV2/Mixed_5b/Branch_3/Conv2d_0b_1x1/weights/RMSProp_1] is not available in checkpoint\n",
            "W0627 10:13:43.312530 140259507906432 variables_helper.py:152] Variable [FeatureExtractor/InceptionV2/Mixed_5c/Branch_0/Conv2d_0a_1x1/BatchNorm/beta/ExponentialMovingAverage] is not available in checkpoint\n",
            "W0627 10:13:43.312611 140259507906432 variables_helper.py:152] Variable [FeatureExtractor/InceptionV2/Mixed_5c/Branch_0/Conv2d_0a_1x1/BatchNorm/beta/RMSProp] is not available in checkpoint\n",
            "W0627 10:13:43.312705 140259507906432 variables_helper.py:152] Variable [FeatureExtractor/InceptionV2/Mixed_5c/Branch_0/Conv2d_0a_1x1/BatchNorm/beta/RMSProp_1] is not available in checkpoint\n",
            "W0627 10:13:43.312805 140259507906432 variables_helper.py:152] Variable [FeatureExtractor/InceptionV2/Mixed_5c/Branch_0/Conv2d_0a_1x1/BatchNorm/gamma/ExponentialMovingAverage] is not available in checkpoint\n",
            "W0627 10:13:43.312879 140259507906432 variables_helper.py:152] Variable [FeatureExtractor/InceptionV2/Mixed_5c/Branch_0/Conv2d_0a_1x1/BatchNorm/gamma/RMSProp] is not available in checkpoint\n",
            "W0627 10:13:43.312965 140259507906432 variables_helper.py:152] Variable [FeatureExtractor/InceptionV2/Mixed_5c/Branch_0/Conv2d_0a_1x1/BatchNorm/gamma/RMSProp_1] is not available in checkpoint\n",
            "W0627 10:13:43.313088 140259507906432 variables_helper.py:152] Variable [FeatureExtractor/InceptionV2/Mixed_5c/Branch_0/Conv2d_0a_1x1/weights/ExponentialMovingAverage] is not available in checkpoint\n",
            "W0627 10:13:43.313185 140259507906432 variables_helper.py:152] Variable [FeatureExtractor/InceptionV2/Mixed_5c/Branch_0/Conv2d_0a_1x1/weights/RMSProp] is not available in checkpoint\n",
            "W0627 10:13:43.313276 140259507906432 variables_helper.py:152] Variable [FeatureExtractor/InceptionV2/Mixed_5c/Branch_0/Conv2d_0a_1x1/weights/RMSProp_1] is not available in checkpoint\n",
            "W0627 10:13:43.314239 140259507906432 variables_helper.py:152] Variable [FeatureExtractor/InceptionV2/Mixed_5c/Branch_1/Conv2d_0a_1x1/BatchNorm/beta/ExponentialMovingAverage] is not available in checkpoint\n",
            "W0627 10:13:43.314334 140259507906432 variables_helper.py:152] Variable [FeatureExtractor/InceptionV2/Mixed_5c/Branch_1/Conv2d_0a_1x1/BatchNorm/beta/RMSProp] is not available in checkpoint\n",
            "W0627 10:13:43.314716 140259507906432 variables_helper.py:152] Variable [FeatureExtractor/InceptionV2/Mixed_5c/Branch_1/Conv2d_0a_1x1/BatchNorm/beta/RMSProp_1] is not available in checkpoint\n",
            "W0627 10:13:43.314843 140259507906432 variables_helper.py:152] Variable [FeatureExtractor/InceptionV2/Mixed_5c/Branch_1/Conv2d_0a_1x1/BatchNorm/gamma/ExponentialMovingAverage] is not available in checkpoint\n",
            "W0627 10:13:43.314938 140259507906432 variables_helper.py:152] Variable [FeatureExtractor/InceptionV2/Mixed_5c/Branch_1/Conv2d_0a_1x1/BatchNorm/gamma/RMSProp] is not available in checkpoint\n",
            "W0627 10:13:43.315025 140259507906432 variables_helper.py:152] Variable [FeatureExtractor/InceptionV2/Mixed_5c/Branch_1/Conv2d_0a_1x1/BatchNorm/gamma/RMSProp_1] is not available in checkpoint\n",
            "W0627 10:13:43.315140 140259507906432 variables_helper.py:152] Variable [FeatureExtractor/InceptionV2/Mixed_5c/Branch_1/Conv2d_0a_1x1/weights/ExponentialMovingAverage] is not available in checkpoint\n",
            "W0627 10:13:43.315227 140259507906432 variables_helper.py:152] Variable [FeatureExtractor/InceptionV2/Mixed_5c/Branch_1/Conv2d_0a_1x1/weights/RMSProp] is not available in checkpoint\n",
            "W0627 10:13:43.315306 140259507906432 variables_helper.py:152] Variable [FeatureExtractor/InceptionV2/Mixed_5c/Branch_1/Conv2d_0a_1x1/weights/RMSProp_1] is not available in checkpoint\n",
            "W0627 10:13:43.315531 140259507906432 variables_helper.py:152] Variable [FeatureExtractor/InceptionV2/Mixed_5c/Branch_1/Conv2d_0b_3x3/BatchNorm/beta/ExponentialMovingAverage] is not available in checkpoint\n",
            "W0627 10:13:43.315753 140259507906432 variables_helper.py:152] Variable [FeatureExtractor/InceptionV2/Mixed_5c/Branch_1/Conv2d_0b_3x3/BatchNorm/beta/RMSProp] is not available in checkpoint\n",
            "W0627 10:13:43.315961 140259507906432 variables_helper.py:152] Variable [FeatureExtractor/InceptionV2/Mixed_5c/Branch_1/Conv2d_0b_3x3/BatchNorm/beta/RMSProp_1] is not available in checkpoint\n",
            "W0627 10:13:43.316097 140259507906432 variables_helper.py:152] Variable [FeatureExtractor/InceptionV2/Mixed_5c/Branch_1/Conv2d_0b_3x3/BatchNorm/gamma/ExponentialMovingAverage] is not available in checkpoint\n",
            "W0627 10:13:43.316188 140259507906432 variables_helper.py:152] Variable [FeatureExtractor/InceptionV2/Mixed_5c/Branch_1/Conv2d_0b_3x3/BatchNorm/gamma/RMSProp] is not available in checkpoint\n",
            "W0627 10:13:43.316421 140259507906432 variables_helper.py:152] Variable [FeatureExtractor/InceptionV2/Mixed_5c/Branch_1/Conv2d_0b_3x3/BatchNorm/gamma/RMSProp_1] is not available in checkpoint\n",
            "W0627 10:13:43.316591 140259507906432 variables_helper.py:152] Variable [FeatureExtractor/InceptionV2/Mixed_5c/Branch_1/Conv2d_0b_3x3/weights/ExponentialMovingAverage] is not available in checkpoint\n",
            "W0627 10:13:43.316695 140259507906432 variables_helper.py:152] Variable [FeatureExtractor/InceptionV2/Mixed_5c/Branch_1/Conv2d_0b_3x3/weights/RMSProp] is not available in checkpoint\n",
            "W0627 10:13:43.317167 140259507906432 variables_helper.py:152] Variable [FeatureExtractor/InceptionV2/Mixed_5c/Branch_1/Conv2d_0b_3x3/weights/RMSProp_1] is not available in checkpoint\n",
            "W0627 10:13:43.317316 140259507906432 variables_helper.py:152] Variable [FeatureExtractor/InceptionV2/Mixed_5c/Branch_2/Conv2d_0a_1x1/BatchNorm/beta/ExponentialMovingAverage] is not available in checkpoint\n",
            "W0627 10:13:43.317414 140259507906432 variables_helper.py:152] Variable [FeatureExtractor/InceptionV2/Mixed_5c/Branch_2/Conv2d_0a_1x1/BatchNorm/beta/RMSProp] is not available in checkpoint\n",
            "W0627 10:13:43.317773 140259507906432 variables_helper.py:152] Variable [FeatureExtractor/InceptionV2/Mixed_5c/Branch_2/Conv2d_0a_1x1/BatchNorm/beta/RMSProp_1] is not available in checkpoint\n",
            "W0627 10:13:43.317935 140259507906432 variables_helper.py:152] Variable [FeatureExtractor/InceptionV2/Mixed_5c/Branch_2/Conv2d_0a_1x1/BatchNorm/gamma/ExponentialMovingAverage] is not available in checkpoint\n",
            "W0627 10:13:43.318041 140259507906432 variables_helper.py:152] Variable [FeatureExtractor/InceptionV2/Mixed_5c/Branch_2/Conv2d_0a_1x1/BatchNorm/gamma/RMSProp] is not available in checkpoint\n",
            "W0627 10:13:43.318135 140259507906432 variables_helper.py:152] Variable [FeatureExtractor/InceptionV2/Mixed_5c/Branch_2/Conv2d_0a_1x1/BatchNorm/gamma/RMSProp_1] is not available in checkpoint\n",
            "W0627 10:13:43.318243 140259507906432 variables_helper.py:152] Variable [FeatureExtractor/InceptionV2/Mixed_5c/Branch_2/Conv2d_0a_1x1/weights/ExponentialMovingAverage] is not available in checkpoint\n",
            "W0627 10:13:43.318335 140259507906432 variables_helper.py:152] Variable [FeatureExtractor/InceptionV2/Mixed_5c/Branch_2/Conv2d_0a_1x1/weights/RMSProp] is not available in checkpoint\n",
            "W0627 10:13:43.318723 140259507906432 variables_helper.py:152] Variable [FeatureExtractor/InceptionV2/Mixed_5c/Branch_2/Conv2d_0a_1x1/weights/RMSProp_1] is not available in checkpoint\n",
            "W0627 10:13:43.318877 140259507906432 variables_helper.py:152] Variable [FeatureExtractor/InceptionV2/Mixed_5c/Branch_2/Conv2d_0b_3x3/BatchNorm/beta/ExponentialMovingAverage] is not available in checkpoint\n",
            "W0627 10:13:43.318977 140259507906432 variables_helper.py:152] Variable [FeatureExtractor/InceptionV2/Mixed_5c/Branch_2/Conv2d_0b_3x3/BatchNorm/beta/RMSProp] is not available in checkpoint\n",
            "W0627 10:13:43.319048 140259507906432 variables_helper.py:152] Variable [FeatureExtractor/InceptionV2/Mixed_5c/Branch_2/Conv2d_0b_3x3/BatchNorm/beta/RMSProp_1] is not available in checkpoint\n",
            "W0627 10:13:43.408186 140259507906432 variables_helper.py:152] Variable [FeatureExtractor/InceptionV2/Mixed_5c/Branch_2/Conv2d_0b_3x3/BatchNorm/gamma/ExponentialMovingAverage] is not available in checkpoint\n",
            "W0627 10:13:43.408382 140259507906432 variables_helper.py:152] Variable [FeatureExtractor/InceptionV2/Mixed_5c/Branch_2/Conv2d_0b_3x3/BatchNorm/gamma/RMSProp] is not available in checkpoint\n",
            "W0627 10:13:43.408483 140259507906432 variables_helper.py:152] Variable [FeatureExtractor/InceptionV2/Mixed_5c/Branch_2/Conv2d_0b_3x3/BatchNorm/gamma/RMSProp_1] is not available in checkpoint\n",
            "W0627 10:13:43.408585 140259507906432 variables_helper.py:152] Variable [FeatureExtractor/InceptionV2/Mixed_5c/Branch_2/Conv2d_0b_3x3/weights/ExponentialMovingAverage] is not available in checkpoint\n",
            "W0627 10:13:43.408642 140259507906432 variables_helper.py:152] Variable [FeatureExtractor/InceptionV2/Mixed_5c/Branch_2/Conv2d_0b_3x3/weights/RMSProp] is not available in checkpoint\n",
            "W0627 10:13:43.408702 140259507906432 variables_helper.py:152] Variable [FeatureExtractor/InceptionV2/Mixed_5c/Branch_2/Conv2d_0b_3x3/weights/RMSProp_1] is not available in checkpoint\n",
            "W0627 10:13:43.408762 140259507906432 variables_helper.py:152] Variable [FeatureExtractor/InceptionV2/Mixed_5c/Branch_2/Conv2d_0c_3x3/BatchNorm/beta/ExponentialMovingAverage] is not available in checkpoint\n",
            "W0627 10:13:43.408816 140259507906432 variables_helper.py:152] Variable [FeatureExtractor/InceptionV2/Mixed_5c/Branch_2/Conv2d_0c_3x3/BatchNorm/beta/RMSProp] is not available in checkpoint\n",
            "W0627 10:13:43.408868 140259507906432 variables_helper.py:152] Variable [FeatureExtractor/InceptionV2/Mixed_5c/Branch_2/Conv2d_0c_3x3/BatchNorm/beta/RMSProp_1] is not available in checkpoint\n",
            "W0627 10:13:43.408925 140259507906432 variables_helper.py:152] Variable [FeatureExtractor/InceptionV2/Mixed_5c/Branch_2/Conv2d_0c_3x3/BatchNorm/gamma/ExponentialMovingAverage] is not available in checkpoint\n",
            "W0627 10:13:43.408977 140259507906432 variables_helper.py:152] Variable [FeatureExtractor/InceptionV2/Mixed_5c/Branch_2/Conv2d_0c_3x3/BatchNorm/gamma/RMSProp] is not available in checkpoint\n",
            "W0627 10:13:43.409028 140259507906432 variables_helper.py:152] Variable [FeatureExtractor/InceptionV2/Mixed_5c/Branch_2/Conv2d_0c_3x3/BatchNorm/gamma/RMSProp_1] is not available in checkpoint\n",
            "W0627 10:13:43.409096 140259507906432 variables_helper.py:152] Variable [FeatureExtractor/InceptionV2/Mixed_5c/Branch_2/Conv2d_0c_3x3/weights/ExponentialMovingAverage] is not available in checkpoint\n",
            "W0627 10:13:43.409149 140259507906432 variables_helper.py:152] Variable [FeatureExtractor/InceptionV2/Mixed_5c/Branch_2/Conv2d_0c_3x3/weights/RMSProp] is not available in checkpoint\n",
            "W0627 10:13:43.409201 140259507906432 variables_helper.py:152] Variable [FeatureExtractor/InceptionV2/Mixed_5c/Branch_2/Conv2d_0c_3x3/weights/RMSProp_1] is not available in checkpoint\n",
            "W0627 10:13:43.409291 140259507906432 variables_helper.py:152] Variable [FeatureExtractor/InceptionV2/Mixed_5c/Branch_3/Conv2d_0b_1x1/BatchNorm/beta/ExponentialMovingAverage] is not available in checkpoint\n",
            "W0627 10:13:43.409346 140259507906432 variables_helper.py:152] Variable [FeatureExtractor/InceptionV2/Mixed_5c/Branch_3/Conv2d_0b_1x1/BatchNorm/beta/RMSProp] is not available in checkpoint\n",
            "W0627 10:13:43.409398 140259507906432 variables_helper.py:152] Variable [FeatureExtractor/InceptionV2/Mixed_5c/Branch_3/Conv2d_0b_1x1/BatchNorm/beta/RMSProp_1] is not available in checkpoint\n",
            "W0627 10:13:43.409455 140259507906432 variables_helper.py:152] Variable [FeatureExtractor/InceptionV2/Mixed_5c/Branch_3/Conv2d_0b_1x1/BatchNorm/gamma/ExponentialMovingAverage] is not available in checkpoint\n",
            "W0627 10:13:43.409522 140259507906432 variables_helper.py:152] Variable [FeatureExtractor/InceptionV2/Mixed_5c/Branch_3/Conv2d_0b_1x1/BatchNorm/gamma/RMSProp] is not available in checkpoint\n",
            "W0627 10:13:43.409575 140259507906432 variables_helper.py:152] Variable [FeatureExtractor/InceptionV2/Mixed_5c/Branch_3/Conv2d_0b_1x1/BatchNorm/gamma/RMSProp_1] is not available in checkpoint\n",
            "W0627 10:13:43.409642 140259507906432 variables_helper.py:152] Variable [FeatureExtractor/InceptionV2/Mixed_5c/Branch_3/Conv2d_0b_1x1/weights/ExponentialMovingAverage] is not available in checkpoint\n",
            "W0627 10:13:43.409700 140259507906432 variables_helper.py:152] Variable [FeatureExtractor/InceptionV2/Mixed_5c/Branch_3/Conv2d_0b_1x1/weights/RMSProp] is not available in checkpoint\n",
            "W0627 10:13:43.409753 140259507906432 variables_helper.py:152] Variable [FeatureExtractor/InceptionV2/Mixed_5c/Branch_3/Conv2d_0b_1x1/weights/RMSProp_1] is not available in checkpoint\n",
            "W0627 10:13:43.409810 140259507906432 variables_helper.py:152] Variable [FeatureExtractor/InceptionV2/Mixed_5c_1_Conv2d_2_1x1_256/BatchNorm/beta/ExponentialMovingAverage] is not available in checkpoint\n",
            "W0627 10:13:43.409862 140259507906432 variables_helper.py:152] Variable [FeatureExtractor/InceptionV2/Mixed_5c_1_Conv2d_2_1x1_256/BatchNorm/beta/RMSProp] is not available in checkpoint\n",
            "W0627 10:13:43.409913 140259507906432 variables_helper.py:152] Variable [FeatureExtractor/InceptionV2/Mixed_5c_1_Conv2d_2_1x1_256/BatchNorm/beta/RMSProp_1] is not available in checkpoint\n",
            "W0627 10:13:43.409989 140259507906432 variables_helper.py:152] Variable [FeatureExtractor/InceptionV2/Mixed_5c_1_Conv2d_2_1x1_256/BatchNorm/gamma/ExponentialMovingAverage] is not available in checkpoint\n",
            "W0627 10:13:43.410044 140259507906432 variables_helper.py:152] Variable [FeatureExtractor/InceptionV2/Mixed_5c_1_Conv2d_2_1x1_256/BatchNorm/gamma/RMSProp] is not available in checkpoint\n",
            "W0627 10:13:43.410097 140259507906432 variables_helper.py:152] Variable [FeatureExtractor/InceptionV2/Mixed_5c_1_Conv2d_2_1x1_256/BatchNorm/gamma/RMSProp_1] is not available in checkpoint\n",
            "W0627 10:13:43.410179 140259507906432 variables_helper.py:152] Variable [FeatureExtractor/InceptionV2/Mixed_5c_1_Conv2d_2_1x1_256/weights/ExponentialMovingAverage] is not available in checkpoint\n",
            "W0627 10:13:43.410238 140259507906432 variables_helper.py:152] Variable [FeatureExtractor/InceptionV2/Mixed_5c_1_Conv2d_2_1x1_256/weights/RMSProp] is not available in checkpoint\n",
            "W0627 10:13:43.410296 140259507906432 variables_helper.py:152] Variable [FeatureExtractor/InceptionV2/Mixed_5c_1_Conv2d_2_1x1_256/weights/RMSProp_1] is not available in checkpoint\n",
            "W0627 10:13:43.410361 140259507906432 variables_helper.py:152] Variable [FeatureExtractor/InceptionV2/Mixed_5c_1_Conv2d_3_1x1_128/BatchNorm/beta/ExponentialMovingAverage] is not available in checkpoint\n",
            "W0627 10:13:43.410418 140259507906432 variables_helper.py:152] Variable [FeatureExtractor/InceptionV2/Mixed_5c_1_Conv2d_3_1x1_128/BatchNorm/beta/RMSProp] is not available in checkpoint\n",
            "W0627 10:13:43.410506 140259507906432 variables_helper.py:152] Variable [FeatureExtractor/InceptionV2/Mixed_5c_1_Conv2d_3_1x1_128/BatchNorm/beta/RMSProp_1] is not available in checkpoint\n",
            "W0627 10:13:43.410580 140259507906432 variables_helper.py:152] Variable [FeatureExtractor/InceptionV2/Mixed_5c_1_Conv2d_3_1x1_128/BatchNorm/gamma/ExponentialMovingAverage] is not available in checkpoint\n",
            "W0627 10:13:43.410633 140259507906432 variables_helper.py:152] Variable [FeatureExtractor/InceptionV2/Mixed_5c_1_Conv2d_3_1x1_128/BatchNorm/gamma/RMSProp] is not available in checkpoint\n",
            "W0627 10:13:43.410700 140259507906432 variables_helper.py:152] Variable [FeatureExtractor/InceptionV2/Mixed_5c_1_Conv2d_3_1x1_128/BatchNorm/gamma/RMSProp_1] is not available in checkpoint\n",
            "W0627 10:13:43.410769 140259507906432 variables_helper.py:152] Variable [FeatureExtractor/InceptionV2/Mixed_5c_1_Conv2d_3_1x1_128/weights/ExponentialMovingAverage] is not available in checkpoint\n",
            "W0627 10:13:43.410821 140259507906432 variables_helper.py:152] Variable [FeatureExtractor/InceptionV2/Mixed_5c_1_Conv2d_3_1x1_128/weights/RMSProp] is not available in checkpoint\n",
            "W0627 10:13:43.410873 140259507906432 variables_helper.py:152] Variable [FeatureExtractor/InceptionV2/Mixed_5c_1_Conv2d_3_1x1_128/weights/RMSProp_1] is not available in checkpoint\n",
            "W0627 10:13:43.410928 140259507906432 variables_helper.py:152] Variable [FeatureExtractor/InceptionV2/Mixed_5c_1_Conv2d_4_1x1_128/BatchNorm/beta/ExponentialMovingAverage] is not available in checkpoint\n",
            "W0627 10:13:43.410979 140259507906432 variables_helper.py:152] Variable [FeatureExtractor/InceptionV2/Mixed_5c_1_Conv2d_4_1x1_128/BatchNorm/beta/RMSProp] is not available in checkpoint\n",
            "W0627 10:13:43.411032 140259507906432 variables_helper.py:152] Variable [FeatureExtractor/InceptionV2/Mixed_5c_1_Conv2d_4_1x1_128/BatchNorm/beta/RMSProp_1] is not available in checkpoint\n",
            "W0627 10:13:43.411089 140259507906432 variables_helper.py:152] Variable [FeatureExtractor/InceptionV2/Mixed_5c_1_Conv2d_4_1x1_128/BatchNorm/gamma/ExponentialMovingAverage] is not available in checkpoint\n",
            "W0627 10:13:43.411141 140259507906432 variables_helper.py:152] Variable [FeatureExtractor/InceptionV2/Mixed_5c_1_Conv2d_4_1x1_128/BatchNorm/gamma/RMSProp] is not available in checkpoint\n",
            "W0627 10:13:43.411192 140259507906432 variables_helper.py:152] Variable [FeatureExtractor/InceptionV2/Mixed_5c_1_Conv2d_4_1x1_128/BatchNorm/gamma/RMSProp_1] is not available in checkpoint\n",
            "W0627 10:13:43.411262 140259507906432 variables_helper.py:152] Variable [FeatureExtractor/InceptionV2/Mixed_5c_1_Conv2d_4_1x1_128/weights/ExponentialMovingAverage] is not available in checkpoint\n",
            "W0627 10:13:43.411315 140259507906432 variables_helper.py:152] Variable [FeatureExtractor/InceptionV2/Mixed_5c_1_Conv2d_4_1x1_128/weights/RMSProp] is not available in checkpoint\n",
            "W0627 10:13:43.411366 140259507906432 variables_helper.py:152] Variable [FeatureExtractor/InceptionV2/Mixed_5c_1_Conv2d_4_1x1_128/weights/RMSProp_1] is not available in checkpoint\n",
            "W0627 10:13:43.411424 140259507906432 variables_helper.py:152] Variable [FeatureExtractor/InceptionV2/Mixed_5c_1_Conv2d_5_1x1_64/BatchNorm/beta/ExponentialMovingAverage] is not available in checkpoint\n",
            "W0627 10:13:43.411485 140259507906432 variables_helper.py:152] Variable [FeatureExtractor/InceptionV2/Mixed_5c_1_Conv2d_5_1x1_64/BatchNorm/beta/RMSProp] is not available in checkpoint\n",
            "W0627 10:13:43.411540 140259507906432 variables_helper.py:152] Variable [FeatureExtractor/InceptionV2/Mixed_5c_1_Conv2d_5_1x1_64/BatchNorm/beta/RMSProp_1] is not available in checkpoint\n",
            "W0627 10:13:43.411597 140259507906432 variables_helper.py:152] Variable [FeatureExtractor/InceptionV2/Mixed_5c_1_Conv2d_5_1x1_64/BatchNorm/gamma/ExponentialMovingAverage] is not available in checkpoint\n",
            "W0627 10:13:43.411649 140259507906432 variables_helper.py:152] Variable [FeatureExtractor/InceptionV2/Mixed_5c_1_Conv2d_5_1x1_64/BatchNorm/gamma/RMSProp] is not available in checkpoint\n",
            "W0627 10:13:43.411706 140259507906432 variables_helper.py:152] Variable [FeatureExtractor/InceptionV2/Mixed_5c_1_Conv2d_5_1x1_64/BatchNorm/gamma/RMSProp_1] is not available in checkpoint\n",
            "W0627 10:13:43.411773 140259507906432 variables_helper.py:152] Variable [FeatureExtractor/InceptionV2/Mixed_5c_1_Conv2d_5_1x1_64/weights/ExponentialMovingAverage] is not available in checkpoint\n",
            "W0627 10:13:43.411826 140259507906432 variables_helper.py:152] Variable [FeatureExtractor/InceptionV2/Mixed_5c_1_Conv2d_5_1x1_64/weights/RMSProp] is not available in checkpoint\n",
            "W0627 10:13:43.411877 140259507906432 variables_helper.py:152] Variable [FeatureExtractor/InceptionV2/Mixed_5c_1_Conv2d_5_1x1_64/weights/RMSProp_1] is not available in checkpoint\n",
            "W0627 10:13:43.411934 140259507906432 variables_helper.py:152] Variable [FeatureExtractor/InceptionV2/Mixed_5c_2_Conv2d_2_3x3_s2_512/BatchNorm/beta/ExponentialMovingAverage] is not available in checkpoint\n",
            "W0627 10:13:43.411985 140259507906432 variables_helper.py:152] Variable [FeatureExtractor/InceptionV2/Mixed_5c_2_Conv2d_2_3x3_s2_512/BatchNorm/beta/RMSProp] is not available in checkpoint\n",
            "W0627 10:13:43.412037 140259507906432 variables_helper.py:152] Variable [FeatureExtractor/InceptionV2/Mixed_5c_2_Conv2d_2_3x3_s2_512/BatchNorm/beta/RMSProp_1] is not available in checkpoint\n",
            "W0627 10:13:43.412095 140259507906432 variables_helper.py:152] Variable [FeatureExtractor/InceptionV2/Mixed_5c_2_Conv2d_2_3x3_s2_512/BatchNorm/gamma/ExponentialMovingAverage] is not available in checkpoint\n",
            "W0627 10:13:43.412146 140259507906432 variables_helper.py:152] Variable [FeatureExtractor/InceptionV2/Mixed_5c_2_Conv2d_2_3x3_s2_512/BatchNorm/gamma/RMSProp] is not available in checkpoint\n",
            "W0627 10:13:43.412199 140259507906432 variables_helper.py:152] Variable [FeatureExtractor/InceptionV2/Mixed_5c_2_Conv2d_2_3x3_s2_512/BatchNorm/gamma/RMSProp_1] is not available in checkpoint\n",
            "W0627 10:13:43.412267 140259507906432 variables_helper.py:152] Variable [FeatureExtractor/InceptionV2/Mixed_5c_2_Conv2d_2_3x3_s2_512/weights/ExponentialMovingAverage] is not available in checkpoint\n",
            "W0627 10:13:43.412406 140259507906432 variables_helper.py:152] Variable [FeatureExtractor/InceptionV2/Mixed_5c_2_Conv2d_2_3x3_s2_512/weights/RMSProp] is not available in checkpoint\n",
            "W0627 10:13:43.412693 140259507906432 variables_helper.py:152] Variable [FeatureExtractor/InceptionV2/Mixed_5c_2_Conv2d_2_3x3_s2_512/weights/RMSProp_1] is not available in checkpoint\n",
            "W0627 10:13:43.412805 140259507906432 variables_helper.py:152] Variable [FeatureExtractor/InceptionV2/Mixed_5c_2_Conv2d_3_3x3_s2_256/BatchNorm/beta/ExponentialMovingAverage] is not available in checkpoint\n",
            "W0627 10:13:43.412865 140259507906432 variables_helper.py:152] Variable [FeatureExtractor/InceptionV2/Mixed_5c_2_Conv2d_3_3x3_s2_256/BatchNorm/beta/RMSProp] is not available in checkpoint\n",
            "W0627 10:13:43.412919 140259507906432 variables_helper.py:152] Variable [FeatureExtractor/InceptionV2/Mixed_5c_2_Conv2d_3_3x3_s2_256/BatchNorm/beta/RMSProp_1] is not available in checkpoint\n",
            "W0627 10:13:43.412977 140259507906432 variables_helper.py:152] Variable [FeatureExtractor/InceptionV2/Mixed_5c_2_Conv2d_3_3x3_s2_256/BatchNorm/gamma/ExponentialMovingAverage] is not available in checkpoint\n",
            "W0627 10:13:43.413029 140259507906432 variables_helper.py:152] Variable [FeatureExtractor/InceptionV2/Mixed_5c_2_Conv2d_3_3x3_s2_256/BatchNorm/gamma/RMSProp] is not available in checkpoint\n",
            "W0627 10:13:43.413081 140259507906432 variables_helper.py:152] Variable [FeatureExtractor/InceptionV2/Mixed_5c_2_Conv2d_3_3x3_s2_256/BatchNorm/gamma/RMSProp_1] is not available in checkpoint\n",
            "W0627 10:13:43.413148 140259507906432 variables_helper.py:152] Variable [FeatureExtractor/InceptionV2/Mixed_5c_2_Conv2d_3_3x3_s2_256/weights/ExponentialMovingAverage] is not available in checkpoint\n",
            "W0627 10:13:43.413203 140259507906432 variables_helper.py:152] Variable [FeatureExtractor/InceptionV2/Mixed_5c_2_Conv2d_3_3x3_s2_256/weights/RMSProp] is not available in checkpoint\n",
            "W0627 10:13:43.413255 140259507906432 variables_helper.py:152] Variable [FeatureExtractor/InceptionV2/Mixed_5c_2_Conv2d_3_3x3_s2_256/weights/RMSProp_1] is not available in checkpoint\n",
            "W0627 10:13:43.413313 140259507906432 variables_helper.py:152] Variable [FeatureExtractor/InceptionV2/Mixed_5c_2_Conv2d_4_3x3_s2_256/BatchNorm/beta/ExponentialMovingAverage] is not available in checkpoint\n",
            "W0627 10:13:43.413365 140259507906432 variables_helper.py:152] Variable [FeatureExtractor/InceptionV2/Mixed_5c_2_Conv2d_4_3x3_s2_256/BatchNorm/beta/RMSProp] is not available in checkpoint\n",
            "W0627 10:13:43.413416 140259507906432 variables_helper.py:152] Variable [FeatureExtractor/InceptionV2/Mixed_5c_2_Conv2d_4_3x3_s2_256/BatchNorm/beta/RMSProp_1] is not available in checkpoint\n",
            "W0627 10:13:43.413509 140259507906432 variables_helper.py:152] Variable [FeatureExtractor/InceptionV2/Mixed_5c_2_Conv2d_4_3x3_s2_256/BatchNorm/gamma/ExponentialMovingAverage] is not available in checkpoint\n",
            "W0627 10:13:43.413567 140259507906432 variables_helper.py:152] Variable [FeatureExtractor/InceptionV2/Mixed_5c_2_Conv2d_4_3x3_s2_256/BatchNorm/gamma/RMSProp] is not available in checkpoint\n",
            "W0627 10:13:43.413623 140259507906432 variables_helper.py:152] Variable [FeatureExtractor/InceptionV2/Mixed_5c_2_Conv2d_4_3x3_s2_256/BatchNorm/gamma/RMSProp_1] is not available in checkpoint\n",
            "W0627 10:13:43.508481 140259507906432 variables_helper.py:152] Variable [FeatureExtractor/InceptionV2/Mixed_5c_2_Conv2d_4_3x3_s2_256/weights/ExponentialMovingAverage] is not available in checkpoint\n",
            "W0627 10:13:43.508980 140259507906432 variables_helper.py:152] Variable [FeatureExtractor/InceptionV2/Mixed_5c_2_Conv2d_4_3x3_s2_256/weights/RMSProp] is not available in checkpoint\n",
            "W0627 10:13:43.509458 140259507906432 variables_helper.py:152] Variable [FeatureExtractor/InceptionV2/Mixed_5c_2_Conv2d_4_3x3_s2_256/weights/RMSProp_1] is not available in checkpoint\n",
            "W0627 10:13:43.509627 140259507906432 variables_helper.py:152] Variable [FeatureExtractor/InceptionV2/Mixed_5c_2_Conv2d_5_3x3_s2_128/BatchNorm/beta/ExponentialMovingAverage] is not available in checkpoint\n",
            "W0627 10:13:43.509730 140259507906432 variables_helper.py:152] Variable [FeatureExtractor/InceptionV2/Mixed_5c_2_Conv2d_5_3x3_s2_128/BatchNorm/beta/RMSProp] is not available in checkpoint\n",
            "W0627 10:13:43.509831 140259507906432 variables_helper.py:152] Variable [FeatureExtractor/InceptionV2/Mixed_5c_2_Conv2d_5_3x3_s2_128/BatchNorm/beta/RMSProp_1] is not available in checkpoint\n",
            "W0627 10:13:43.509960 140259507906432 variables_helper.py:152] Variable [FeatureExtractor/InceptionV2/Mixed_5c_2_Conv2d_5_3x3_s2_128/BatchNorm/gamma/ExponentialMovingAverage] is not available in checkpoint\n",
            "W0627 10:13:43.510063 140259507906432 variables_helper.py:152] Variable [FeatureExtractor/InceptionV2/Mixed_5c_2_Conv2d_5_3x3_s2_128/BatchNorm/gamma/RMSProp] is not available in checkpoint\n",
            "W0627 10:13:43.510165 140259507906432 variables_helper.py:152] Variable [FeatureExtractor/InceptionV2/Mixed_5c_2_Conv2d_5_3x3_s2_128/BatchNorm/gamma/RMSProp_1] is not available in checkpoint\n",
            "W0627 10:13:43.510302 140259507906432 variables_helper.py:152] Variable [FeatureExtractor/InceptionV2/Mixed_5c_2_Conv2d_5_3x3_s2_128/weights/ExponentialMovingAverage] is not available in checkpoint\n",
            "W0627 10:13:43.510399 140259507906432 variables_helper.py:152] Variable [FeatureExtractor/InceptionV2/Mixed_5c_2_Conv2d_5_3x3_s2_128/weights/RMSProp] is not available in checkpoint\n",
            "W0627 10:13:43.510500 140259507906432 variables_helper.py:152] Variable [FeatureExtractor/InceptionV2/Mixed_5c_2_Conv2d_5_3x3_s2_128/weights/RMSProp_1] is not available in checkpoint\n",
            "W0627 10:13:45.993905 140259507906432 deprecation.py:323] From /usr/local/lib/python3.6/dist-packages/tensorflow/contrib/slim/python/slim/learning.py:742: Supervisor.__init__ (from tensorflow.python.training.supervisor) is deprecated and will be removed in a future version.\n",
            "Instructions for updating:\n",
            "Please switch to tf.train.MonitoredTrainingSession\n",
            "2019-06-27 10:13:49.119447: I tensorflow/core/platform/profile_utils/cpu_utils.cc:94] CPU Frequency: 2300000000 Hz\n",
            "2019-06-27 10:13:49.119720: I tensorflow/compiler/xla/service/service.cc:168] XLA service 0x132a8000 executing computations on platform Host. Devices:\n",
            "2019-06-27 10:13:49.119745: I tensorflow/compiler/xla/service/service.cc:175]   StreamExecutor device (0): <undefined>, <undefined>\n",
            "2019-06-27 10:13:49.147997: I tensorflow/stream_executor/platform/default/dso_loader.cc:42] Successfully opened dynamic library libcuda.so.1\n",
            "2019-06-27 10:13:49.399257: I tensorflow/stream_executor/cuda/cuda_gpu_executor.cc:1005] successful NUMA node read from SysFS had negative value (-1), but there must be at least one NUMA node, so returning NUMA node zero\n",
            "2019-06-27 10:13:49.399871: I tensorflow/compiler/xla/service/service.cc:168] XLA service 0x132a8380 executing computations on platform CUDA. Devices:\n",
            "2019-06-27 10:13:49.399906: I tensorflow/compiler/xla/service/service.cc:175]   StreamExecutor device (0): Tesla T4, Compute Capability 7.5\n",
            "2019-06-27 10:13:49.400129: I tensorflow/stream_executor/cuda/cuda_gpu_executor.cc:1005] successful NUMA node read from SysFS had negative value (-1), but there must be at least one NUMA node, so returning NUMA node zero\n",
            "2019-06-27 10:13:49.400491: I tensorflow/core/common_runtime/gpu/gpu_device.cc:1640] Found device 0 with properties: \n",
            "name: Tesla T4 major: 7 minor: 5 memoryClockRate(GHz): 1.59\n",
            "pciBusID: 0000:00:04.0\n",
            "2019-06-27 10:13:49.405536: I tensorflow/stream_executor/platform/default/dso_loader.cc:42] Successfully opened dynamic library libcudart.so.10.0\n",
            "2019-06-27 10:13:49.413843: I tensorflow/stream_executor/platform/default/dso_loader.cc:42] Successfully opened dynamic library libcublas.so.10.0\n",
            "2019-06-27 10:13:49.417870: I tensorflow/stream_executor/platform/default/dso_loader.cc:42] Successfully opened dynamic library libcufft.so.10.0\n",
            "2019-06-27 10:13:49.427821: I tensorflow/stream_executor/platform/default/dso_loader.cc:42] Successfully opened dynamic library libcurand.so.10.0\n",
            "2019-06-27 10:13:49.454912: I tensorflow/stream_executor/platform/default/dso_loader.cc:42] Successfully opened dynamic library libcusolver.so.10.0\n",
            "2019-06-27 10:13:49.466749: I tensorflow/stream_executor/platform/default/dso_loader.cc:42] Successfully opened dynamic library libcusparse.so.10.0\n",
            "2019-06-27 10:13:49.487728: I tensorflow/stream_executor/platform/default/dso_loader.cc:42] Successfully opened dynamic library libcudnn.so.7\n",
            "2019-06-27 10:13:49.489387: I tensorflow/stream_executor/cuda/cuda_gpu_executor.cc:1005] successful NUMA node read from SysFS had negative value (-1), but there must be at least one NUMA node, so returning NUMA node zero\n",
            "2019-06-27 10:13:49.491669: I tensorflow/stream_executor/cuda/cuda_gpu_executor.cc:1005] successful NUMA node read from SysFS had negative value (-1), but there must be at least one NUMA node, so returning NUMA node zero\n",
            "2019-06-27 10:13:49.492822: I tensorflow/core/common_runtime/gpu/gpu_device.cc:1763] Adding visible gpu devices: 0\n",
            "2019-06-27 10:13:49.493251: I tensorflow/stream_executor/platform/default/dso_loader.cc:42] Successfully opened dynamic library libcudart.so.10.0\n",
            "2019-06-27 10:13:49.499179: I tensorflow/core/common_runtime/gpu/gpu_device.cc:1181] Device interconnect StreamExecutor with strength 1 edge matrix:\n",
            "2019-06-27 10:13:49.499338: I tensorflow/core/common_runtime/gpu/gpu_device.cc:1187]      0 \n",
            "2019-06-27 10:13:49.499439: I tensorflow/core/common_runtime/gpu/gpu_device.cc:1200] 0:   N \n",
            "2019-06-27 10:13:49.501027: I tensorflow/stream_executor/cuda/cuda_gpu_executor.cc:1005] successful NUMA node read from SysFS had negative value (-1), but there must be at least one NUMA node, so returning NUMA node zero\n",
            "2019-06-27 10:13:49.503242: I tensorflow/stream_executor/cuda/cuda_gpu_executor.cc:1005] successful NUMA node read from SysFS had negative value (-1), but there must be at least one NUMA node, so returning NUMA node zero\n",
            "2019-06-27 10:13:49.504644: W tensorflow/core/common_runtime/gpu/gpu_bfc_allocator.cc:40] Overriding allow_growth setting because the TF_FORCE_GPU_ALLOW_GROWTH environment variable is set. Original config value was 0.\n",
            "2019-06-27 10:13:49.505121: I tensorflow/core/common_runtime/gpu/gpu_device.cc:1326] Created TensorFlow device (/job:localhost/replica:0/task:0/device:GPU:0 with 9327 MB memory) -> physical GPU (device: 0, name: Tesla T4, pci bus id: 0000:00:04.0, compute capability: 7.5)\n",
            "W0627 10:13:49.516830 140259507906432 deprecation.py:323] From /usr/local/lib/python3.6/dist-packages/tensorflow/python/training/saver.py:1276: checkpoint_exists (from tensorflow.python.training.checkpoint_management) is deprecated and will be removed in a future version.\n",
            "Instructions for updating:\n",
            "Use standard file APIs to check for files with this prefix.\n",
            "I0627 10:13:49.526412 140259507906432 saver.py:1280] Restoring parameters from training/model.ckpt-19823\n",
            "2019-06-27 10:13:53.225428: W tensorflow/compiler/jit/mark_for_compilation_pass.cc:1412] (One-time warning): Not using XLA:CPU for cluster because envvar TF_XLA_FLAGS=--tf_xla_cpu_global_jit was not set.  If you want XLA:CPU, either set that envvar, or use experimental_jit_scope to enable XLA:CPU.  To confirm that XLA is active, pass --vmodule=xla_compilation_cache=1 (as a proper command-line flag, not via TF_XLA_FLAGS) or set the envvar XLA_FLAGS=--xla_hlo_profile.\n",
            "W0627 10:13:53.698343 140259507906432 deprecation.py:323] From /usr/local/lib/python3.6/dist-packages/tensorflow/python/training/saver.py:1066: get_checkpoint_mtimes (from tensorflow.python.training.checkpoint_management) is deprecated and will be removed in a future version.\n",
            "Instructions for updating:\n",
            "Use standard file utilities to get mtimes.\n",
            "I0627 10:13:53.721482 140259507906432 session_manager.py:500] Running local_init_op.\n",
            "I0627 10:13:54.576682 140259507906432 session_manager.py:502] Done running local_init_op.\n"
          ],
          "name": "stdout"
        }
      ]
    }
  ]
}