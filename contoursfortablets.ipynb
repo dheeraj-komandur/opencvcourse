{
 "cells": [
  {
   "cell_type": "code",
   "execution_count": null,
   "metadata": {},
   "outputs": [
    {
     "name": "stdout",
     "output_type": "stream",
     "text": [
      "Number of Contours found = 55\n",
      "[300212.0, 418.5, 167.5, 150.0, 133.0, 127.5, 122.5, 97.5, 82.5, 59.0, 31.0, 28.5, 25.5, 21.5, 20.5, 18.5, 14.0, 11.0, 11.0, 10.0, 9.5, 6.0, 4.0, 2.0, 0.5, 0.0, 0.0, 0.0, 0.0, 0.0, 0.0, 0.0, 0.0, 0.0, 0.0, 0.0, 0.0, 0.0, 0.0, 0.0, 0.0, 0.0, 0.0, 0.0, 0.0, 0.0, 0.0, 0.0, 0.0, 0.0, 0.0, 0.0, 0.0, 0.0, 0.0]\n",
      "[[[193 713]]\n",
      "\n",
      " [[191 715]]\n",
      "\n",
      " [[191 723]]\n",
      "\n",
      " [[192 723]]\n",
      "\n",
      " [[193 724]]\n",
      "\n",
      " [[194 724]]\n",
      "\n",
      " [[196 722]]\n",
      "\n",
      " [[199 722]]\n",
      "\n",
      " [[200 723]]\n",
      "\n",
      " [[201 722]]\n",
      "\n",
      " [[202 722]]\n",
      "\n",
      " [[203 721]]\n",
      "\n",
      " [[205 723]]\n",
      "\n",
      " [[208 723]]\n",
      "\n",
      " [[208 722]]\n",
      "\n",
      " [[209 721]]\n",
      "\n",
      " [[209 715]]\n",
      "\n",
      " [[207 713]]]\n"
     ]
    }
   ],
   "source": [
    "import cv2\n",
    "import numpy as np\n",
    "\n",
    "def get_contour_areas(contours):\n",
    "    # returns the areas of all contours as list\n",
    "    all_areas = []\n",
    "    for cnt in contours:\n",
    "        area = cv2.contourArea(cnt)\n",
    "        all_areas.append(area)\n",
    "    return all_areas\n",
    "\n",
    "image = cv2.imread('images/tablet.jpg')\n",
    "gray = cv2.cvtColor(image,cv2.COLOR_BGR2GRAY)\n",
    "edged = cv2.Canny(gray, 30, 200)\n",
    "# Use a copy of your image e.g. edged.copy(), since findContours alters the image\n",
    "_, contours, hierarchy = cv2.findContours(edged, cv2.RETR_EXTERNAL, cv2.CHAIN_APPROX_SIMPLE)\n",
    "print(\"Number of Contours found = \" + str(len(contours)))\n",
    "\n",
    "# Sort contours large to small\n",
    "sorted_contours = sorted(contours, key=cv2.contourArea, reverse=True)\n",
    "print (get_contour_areas(sorted_contours))\n",
    "print (sorted_contours[2])\n",
    "\n",
    "cv2.drawContours(image, sorted_contours, 0, (0,255,0), 3)\n",
    "\n",
    "cv2.imshow('Contours', image)\n",
    "cv2.waitKey(0)\n",
    "cv2.destroyAllWindows()"
   ]
  }
 ],
 "metadata": {
  "kernelspec": {
   "display_name": "Python 3",
   "language": "python",
   "name": "python3"
  },
  "language_info": {
   "codemirror_mode": {
    "name": "ipython",
    "version": 3
   },
   "file_extension": ".py",
   "mimetype": "text/x-python",
   "name": "python",
   "nbconvert_exporter": "python",
   "pygments_lexer": "ipython3",
   "version": "3.6.6"
  }
 },
 "nbformat": 4,
 "nbformat_minor": 2
}
