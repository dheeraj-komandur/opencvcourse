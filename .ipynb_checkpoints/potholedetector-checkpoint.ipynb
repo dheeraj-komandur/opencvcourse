{
 "cells": [
  {
   "cell_type": "code",
   "execution_count": 25,
   "metadata": {},
   "outputs": [],
   "source": [
    "import cv2\n",
    "import numpy as np\n",
    "\n",
    "#Put path in ' ' , Img must be in same dir\n",
    "pothole = cv2.imread('./images/pothole.jpeg')\n",
    "pothole1 = cv2.imread('./images/pothole1.jpg')\n",
    "pothole1 = cv2.pyrDown(pothole1)\n",
    "\n",
    "#Fast method of gray scale ==>img = cv2.imread('./images/input.jpg',0)\n",
    "pothole = cv2.cvtColor(pothole,cv2.COLOR_BGR2GRAY)\n",
    "pothole1 = cv2.cvtColor(pothole1,cv2.COLOR_BGR2GRAY)\n",
    "\n",
    "kernel = np.ones((5,5), np.uint8)\n",
    "\n",
    "# Now we erode\n",
    "\n",
    "\n",
    "#Only denoising is useless must be used with bilateral Filter\n",
    "#best combi = bilateral then noise \n",
    "closing = cv2.morphologyEx(pothole1, cv2.MORPH_CLOSE, kernel)\n",
    "cv2.imshow('Closing', closing)\n",
    "cv2.waitKey(0)\n",
    "bilateral = cv2.bilateralFilter(closing, 9, 75, 75)\n",
    "\n",
    "cv2.imshow(\"Bila\",bilateral)\n",
    "cv2.waitKey()\n",
    "\n",
    "img = cv2.fastNlMeansDenoising(bilateral,None,4,7,21)\n",
    "canny = cv2.Canny(img, 50, 120)\n",
    "# if diff bet threshols are less ==> more line try 20 50\n",
    "cv2.imshow(\"Canny\",canny)\n",
    "cv2.waitKey()\n",
    "\n",
    "\n",
    "#imshow ==> (title of img , py img)\n",
    "#time to close automatically in milli sec ... waitKey(10000)\n",
    "#waitKey() K CAPS , Must be used for all img show\n",
    "\n",
    "'''\n",
    "cv2.imshow(\"Pothole Img\",pothole)\n",
    "cv2.waitKey()\n",
    "'''\n",
    "cv2.imshow(\"Pothole Img1\",pothole1)\n",
    "cv2.waitKey()\n",
    "\n",
    "\n",
    "#Always Remember\n",
    "cv2.destroyAllWindows()"
   ]
  },
  {
   "cell_type": "code",
   "execution_count": null,
   "metadata": {},
   "outputs": [],
   "source": []
  },
  {
   "cell_type": "code",
   "execution_count": null,
   "metadata": {},
   "outputs": [],
   "source": []
  }
 ],
 "metadata": {
  "kernelspec": {
   "display_name": "Python 3",
   "language": "python",
   "name": "python3"
  },
  "language_info": {
   "codemirror_mode": {
    "name": "ipython",
    "version": 3
   },
   "file_extension": ".py",
   "mimetype": "text/x-python",
   "name": "python",
   "nbconvert_exporter": "python",
   "pygments_lexer": "ipython3",
   "version": "3.6.6"
  }
 },
 "nbformat": 4,
 "nbformat_minor": 2
}
